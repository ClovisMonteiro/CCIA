{
  "nbformat": 4,
  "nbformat_minor": 0,
  "metadata": {
    "kernelspec": {
      "display_name": "Python 3",
      "language": "python",
      "name": "python3"
    },
    "language_info": {
      "codemirror_mode": {
        "name": "ipython",
        "version": 3
      },
      "file_extension": ".py",
      "mimetype": "text/x-python",
      "name": "python",
      "nbconvert_exporter": "python",
      "pygments_lexer": "ipython3",
      "version": "3.8.3"
    },
    "colab": {
      "name": "CCIA.ipynb",
      "provenance": [],
      "include_colab_link": true
    }
  },
  "cells": [
    {
      "cell_type": "markdown",
      "metadata": {
        "id": "view-in-github",
        "colab_type": "text"
      },
      "source": [
        "<a href=\"https://colab.research.google.com/github/ClovisMonteiro/CCIA/blob/main/CCIA.ipynb\" target=\"_parent\"><img src=\"https://colab.research.google.com/assets/colab-badge.svg\" alt=\"Open In Colab\"/></a>"
      ]
    },
    {
      "cell_type": "markdown",
      "metadata": {
        "id": "AF43dL_yYviC"
      },
      "source": [
        "# PROCESSO SELETIVO CCIA – HACKATON\n",
        "\n",
        "## Projeto prático para demonstrar conhecimentos na área de Ciência de Dados utilizando a linguagem de programação Python\n",
        "\n",
        "##### Por Clovis Monteiro da Silva Filho\n",
        "\n",
        "Objetivo: Realizar a criação de um modelo de previsão da velocidade do vento a 50 metros de altura para 3h à frente a partir de dados de torres anemométricas da plataforma SONDA – Estação de Petrolina."
      ]
    },
    {
      "cell_type": "markdown",
      "metadata": {
        "id": "h4ilF4uUYviH"
      },
      "source": [
        "# ETAPA 1 "
      ]
    },
    {
      "cell_type": "code",
      "metadata": {
        "id": "TqpyjDT9YviI"
      },
      "source": [
        "# Carregando os pacores necessários para o tratamento dos dados\n",
        "\n",
        "import pandas as pd\n",
        "import os\n",
        "import matplotlib.pyplot as plt\n",
        "\n",
        "%matplotlib inline\n",
        "\n",
        "import numpy as np\n",
        "import seaborn as sns"
      ],
      "execution_count": 1,
      "outputs": []
    },
    {
      "cell_type": "code",
      "metadata": {
        "scrolled": true,
        "colab": {
          "base_uri": "https://localhost:8080/"
        },
        "id": "akip-HoFYviJ",
        "outputId": "ab0a1237-b350-4bf2-a96b-d1918b9924f1"
      },
      "source": [
        "os.listdir(\"./\")"
      ],
      "execution_count": 2,
      "outputs": [
        {
          "output_type": "execute_result",
          "data": {
            "text/plain": [
              "['.config', 'teste.csv', 'treino.csv', 'sample_data']"
            ]
          },
          "metadata": {
            "tags": []
          },
          "execution_count": 2
        }
      ]
    },
    {
      "cell_type": "markdown",
      "metadata": {
        "id": "diis-Y3_YviK"
      },
      "source": [
        "### • Lendo os arquivos de dados"
      ]
    },
    {
      "cell_type": "code",
      "metadata": {
        "id": "jfFCd276YviL"
      },
      "source": [
        "# Abrindo o arquivo de treino\n",
        "treino = pd.read_csv(\"treino.csv\", sep=',', encoding='utf-8')"
      ],
      "execution_count": 3,
      "outputs": []
    },
    {
      "cell_type": "code",
      "metadata": {
        "id": "kCGlnSxaYviL",
        "colab": {
          "base_uri": "https://localhost:8080/"
        },
        "outputId": "8a1f0333-2432-469e-f43c-eb8dce442b84"
      },
      "source": [
        "# Verificando o tipo de cada coluna\n",
        "treino.dtypes"
      ],
      "execution_count": 4,
      "outputs": [
        {
          "output_type": "execute_result",
          "data": {
            "text/plain": [
              "ano                       int64\n",
              "dia                       int64\n",
              "data-hora                object\n",
              "minuto                    int64\n",
              "velocidde-vento-25m     float64\n",
              "direcao-vento-25m       float64\n",
              "temperatura-25m         float64\n",
              "velocidade-vento-50m    float64\n",
              "direcao-vento-50m       float64\n",
              "temratura-50m           float64\n",
              "dtype: object"
            ]
          },
          "metadata": {
            "tags": []
          },
          "execution_count": 4
        }
      ]
    },
    {
      "cell_type": "code",
      "metadata": {
        "id": "Xly2-7NPYviM"
      },
      "source": [
        "teste = pd.read_csv(\"teste.csv\", sep=',', encoding='utf-8')"
      ],
      "execution_count": 5,
      "outputs": []
    },
    {
      "cell_type": "code",
      "metadata": {
        "id": "G2fnPh3NYviN",
        "colab": {
          "base_uri": "https://localhost:8080/"
        },
        "outputId": "6c35d254-9cbe-4bac-e0d9-47ec8e287bb4"
      },
      "source": [
        "teste.dtypes"
      ],
      "execution_count": 6,
      "outputs": [
        {
          "output_type": "execute_result",
          "data": {
            "text/plain": [
              "ano                       int64\n",
              "dia                       int64\n",
              "data-hora                object\n",
              "minuto                    int64\n",
              "velocidde-vento-25m     float64\n",
              "direcao-vento-25m       float64\n",
              "temperatura-25m         float64\n",
              "velocidade-vento-50m    float64\n",
              "direcao-vento-50m       float64\n",
              "temratura-50m           float64\n",
              "dtype: object"
            ]
          },
          "metadata": {
            "tags": []
          },
          "execution_count": 6
        }
      ]
    },
    {
      "cell_type": "markdown",
      "metadata": {
        "id": "KVXUlwv3YviN"
      },
      "source": [
        "### • Alterando o nome das colunas colunas “temratura-50m” e “velocidde-vento-25m” para “temperatura-50m” e “velocidade-vento-25m”"
      ]
    },
    {
      "cell_type": "code",
      "metadata": {
        "id": "bqCDouS-YviO"
      },
      "source": [
        "treino.rename(columns={'temratura-50m': 'temperatura-50m', 'velocidde-vento-25m':'velocidade-vento-25m'}, inplace=True)"
      ],
      "execution_count": 7,
      "outputs": []
    },
    {
      "cell_type": "code",
      "metadata": {
        "id": "Ne1fzZTLYviO"
      },
      "source": [
        "teste.rename(columns={'temratura-50m': 'temperatura-50m', 'velocidde-vento-25m':'velocidade-vento-25m'}, inplace=True)"
      ],
      "execution_count": 8,
      "outputs": []
    },
    {
      "cell_type": "markdown",
      "metadata": {
        "id": "9nI40pNBYviP"
      },
      "source": [
        "### •\tExiba os 5 primeiros elementos do dataset de treino e de teste"
      ]
    },
    {
      "cell_type": "code",
      "metadata": {
        "id": "Sj5WYjYmYviP",
        "colab": {
          "base_uri": "https://localhost:8080/",
          "height": 0
        },
        "outputId": "5b854b3c-00cd-4674-e36c-cbd91eec9c01"
      },
      "source": [
        "treino.head(5)"
      ],
      "execution_count": 9,
      "outputs": [
        {
          "output_type": "execute_result",
          "data": {
            "text/html": [
              "<div>\n",
              "<style scoped>\n",
              "    .dataframe tbody tr th:only-of-type {\n",
              "        vertical-align: middle;\n",
              "    }\n",
              "\n",
              "    .dataframe tbody tr th {\n",
              "        vertical-align: top;\n",
              "    }\n",
              "\n",
              "    .dataframe thead th {\n",
              "        text-align: right;\n",
              "    }\n",
              "</style>\n",
              "<table border=\"1\" class=\"dataframe\">\n",
              "  <thead>\n",
              "    <tr style=\"text-align: right;\">\n",
              "      <th></th>\n",
              "      <th>ano</th>\n",
              "      <th>dia</th>\n",
              "      <th>data-hora</th>\n",
              "      <th>minuto</th>\n",
              "      <th>velocidade-vento-25m</th>\n",
              "      <th>direcao-vento-25m</th>\n",
              "      <th>temperatura-25m</th>\n",
              "      <th>velocidade-vento-50m</th>\n",
              "      <th>direcao-vento-50m</th>\n",
              "      <th>temperatura-50m</th>\n",
              "    </tr>\n",
              "  </thead>\n",
              "  <tbody>\n",
              "    <tr>\n",
              "      <th>0</th>\n",
              "      <td>2010</td>\n",
              "      <td>1</td>\n",
              "      <td>2010-1-1 00:00:00</td>\n",
              "      <td>0</td>\n",
              "      <td>0.881500</td>\n",
              "      <td>298.333333</td>\n",
              "      <td>24.868333</td>\n",
              "      <td>0.932500</td>\n",
              "      <td>318.233333</td>\n",
              "      <td>24.888333</td>\n",
              "    </tr>\n",
              "    <tr>\n",
              "      <th>1</th>\n",
              "      <td>2010</td>\n",
              "      <td>1</td>\n",
              "      <td>2010-1-1 01:00:00</td>\n",
              "      <td>60</td>\n",
              "      <td>1.366167</td>\n",
              "      <td>329.533333</td>\n",
              "      <td>24.826667</td>\n",
              "      <td>1.825333</td>\n",
              "      <td>321.100000</td>\n",
              "      <td>24.858333</td>\n",
              "    </tr>\n",
              "    <tr>\n",
              "      <th>2</th>\n",
              "      <td>2010</td>\n",
              "      <td>1</td>\n",
              "      <td>2010-1-1 02:00:00</td>\n",
              "      <td>120</td>\n",
              "      <td>1.118667</td>\n",
              "      <td>290.233333</td>\n",
              "      <td>24.648333</td>\n",
              "      <td>2.170333</td>\n",
              "      <td>276.033333</td>\n",
              "      <td>25.133333</td>\n",
              "    </tr>\n",
              "    <tr>\n",
              "      <th>3</th>\n",
              "      <td>2010</td>\n",
              "      <td>1</td>\n",
              "      <td>2010-1-1 03:00:00</td>\n",
              "      <td>180</td>\n",
              "      <td>0.618000</td>\n",
              "      <td>196.950000</td>\n",
              "      <td>23.916667</td>\n",
              "      <td>1.472500</td>\n",
              "      <td>218.800000</td>\n",
              "      <td>24.268333</td>\n",
              "    </tr>\n",
              "    <tr>\n",
              "      <th>4</th>\n",
              "      <td>2010</td>\n",
              "      <td>1</td>\n",
              "      <td>2010-1-1 04:00:00</td>\n",
              "      <td>240</td>\n",
              "      <td>1.517833</td>\n",
              "      <td>117.183333</td>\n",
              "      <td>23.740000</td>\n",
              "      <td>2.058333</td>\n",
              "      <td>130.333333</td>\n",
              "      <td>23.801667</td>\n",
              "    </tr>\n",
              "  </tbody>\n",
              "</table>\n",
              "</div>"
            ],
            "text/plain": [
              "    ano  dia  ... direcao-vento-50m  temperatura-50m\n",
              "0  2010    1  ...        318.233333        24.888333\n",
              "1  2010    1  ...        321.100000        24.858333\n",
              "2  2010    1  ...        276.033333        25.133333\n",
              "3  2010    1  ...        218.800000        24.268333\n",
              "4  2010    1  ...        130.333333        23.801667\n",
              "\n",
              "[5 rows x 10 columns]"
            ]
          },
          "metadata": {
            "tags": []
          },
          "execution_count": 9
        }
      ]
    },
    {
      "cell_type": "code",
      "metadata": {
        "id": "rr9q1xwhYviQ",
        "colab": {
          "base_uri": "https://localhost:8080/",
          "height": 0
        },
        "outputId": "80b9a034-1f48-4c91-f640-8ad51f76cab3"
      },
      "source": [
        "teste.head(5)"
      ],
      "execution_count": 10,
      "outputs": [
        {
          "output_type": "execute_result",
          "data": {
            "text/html": [
              "<div>\n",
              "<style scoped>\n",
              "    .dataframe tbody tr th:only-of-type {\n",
              "        vertical-align: middle;\n",
              "    }\n",
              "\n",
              "    .dataframe tbody tr th {\n",
              "        vertical-align: top;\n",
              "    }\n",
              "\n",
              "    .dataframe thead th {\n",
              "        text-align: right;\n",
              "    }\n",
              "</style>\n",
              "<table border=\"1\" class=\"dataframe\">\n",
              "  <thead>\n",
              "    <tr style=\"text-align: right;\">\n",
              "      <th></th>\n",
              "      <th>ano</th>\n",
              "      <th>dia</th>\n",
              "      <th>data-hora</th>\n",
              "      <th>minuto</th>\n",
              "      <th>velocidade-vento-25m</th>\n",
              "      <th>direcao-vento-25m</th>\n",
              "      <th>temperatura-25m</th>\n",
              "      <th>velocidade-vento-50m</th>\n",
              "      <th>direcao-vento-50m</th>\n",
              "      <th>temperatura-50m</th>\n",
              "    </tr>\n",
              "  </thead>\n",
              "  <tbody>\n",
              "    <tr>\n",
              "      <th>0</th>\n",
              "      <td>2010</td>\n",
              "      <td>278</td>\n",
              "      <td>2010-10-5 08:00:00</td>\n",
              "      <td>480</td>\n",
              "      <td>3.257333</td>\n",
              "      <td>139.116667</td>\n",
              "      <td>21.621667</td>\n",
              "      <td>4.960833</td>\n",
              "      <td>133.550000</td>\n",
              "      <td>21.283333</td>\n",
              "    </tr>\n",
              "    <tr>\n",
              "      <th>1</th>\n",
              "      <td>2010</td>\n",
              "      <td>278</td>\n",
              "      <td>2010-10-5 09:00:00</td>\n",
              "      <td>540</td>\n",
              "      <td>2.786167</td>\n",
              "      <td>143.883333</td>\n",
              "      <td>22.186667</td>\n",
              "      <td>3.783000</td>\n",
              "      <td>138.800000</td>\n",
              "      <td>21.550000</td>\n",
              "    </tr>\n",
              "    <tr>\n",
              "      <th>2</th>\n",
              "      <td>2010</td>\n",
              "      <td>278</td>\n",
              "      <td>2010-10-5 10:00:00</td>\n",
              "      <td>600</td>\n",
              "      <td>5.204167</td>\n",
              "      <td>144.983333</td>\n",
              "      <td>23.358333</td>\n",
              "      <td>6.489667</td>\n",
              "      <td>140.066667</td>\n",
              "      <td>22.695000</td>\n",
              "    </tr>\n",
              "    <tr>\n",
              "      <th>3</th>\n",
              "      <td>2010</td>\n",
              "      <td>278</td>\n",
              "      <td>2010-10-5 11:00:00</td>\n",
              "      <td>660</td>\n",
              "      <td>5.404333</td>\n",
              "      <td>133.116667</td>\n",
              "      <td>25.068333</td>\n",
              "      <td>6.390000</td>\n",
              "      <td>128.200000</td>\n",
              "      <td>24.313333</td>\n",
              "    </tr>\n",
              "    <tr>\n",
              "      <th>4</th>\n",
              "      <td>2010</td>\n",
              "      <td>278</td>\n",
              "      <td>2010-10-5 12:00:00</td>\n",
              "      <td>720</td>\n",
              "      <td>5.333167</td>\n",
              "      <td>139.266667</td>\n",
              "      <td>26.551667</td>\n",
              "      <td>6.098167</td>\n",
              "      <td>134.283333</td>\n",
              "      <td>25.748333</td>\n",
              "    </tr>\n",
              "  </tbody>\n",
              "</table>\n",
              "</div>"
            ],
            "text/plain": [
              "    ano  dia  ... direcao-vento-50m  temperatura-50m\n",
              "0  2010  278  ...        133.550000        21.283333\n",
              "1  2010  278  ...        138.800000        21.550000\n",
              "2  2010  278  ...        140.066667        22.695000\n",
              "3  2010  278  ...        128.200000        24.313333\n",
              "4  2010  278  ...        134.283333        25.748333\n",
              "\n",
              "[5 rows x 10 columns]"
            ]
          },
          "metadata": {
            "tags": []
          },
          "execution_count": 10
        }
      ]
    },
    {
      "cell_type": "markdown",
      "metadata": {
        "id": "QL8ZOdzAYviQ"
      },
      "source": [
        "### • Exibindo a quantidade total de elementos nas tabelas e a média dos valores da coluna velocidade-vento-50m"
      ]
    },
    {
      "cell_type": "code",
      "metadata": {
        "id": "boSdlkbBYviQ",
        "colab": {
          "base_uri": "https://localhost:8080/"
        },
        "outputId": "a2a34a73-aaac-4c6d-e98d-2977be523f83"
      },
      "source": [
        "#Quantidade total de elementos nas tabelas\n",
        "\n",
        "print(\"O arquivo de treino possui:\"+ str(treino.shape[0]) + \" linhas e \" + str(treino.shape[1]) + \" colunas. \")\n",
        "print(\"O arquivo de teste possui:\"+ str(teste.shape[0]) + \" linhas e \" + str(teste.shape[1]) + \" colunas. \")"
      ],
      "execution_count": 11,
      "outputs": [
        {
          "output_type": "stream",
          "text": [
            "O arquivo de treino possui:6656 linhas e 10 colunas. \n",
            "O arquivo de teste possui:1000 linhas e 10 colunas. \n"
          ],
          "name": "stdout"
        }
      ]
    },
    {
      "cell_type": "code",
      "metadata": {
        "id": "ZROHe_ZGYviR",
        "colab": {
          "base_uri": "https://localhost:8080/"
        },
        "outputId": "7131892c-7aea-466a-c05f-e6674aa1bbdf"
      },
      "source": [
        "# Média dos valores da coluna  \"velocidade-vento-50m\"\n",
        "\n",
        "print(\"Dataset de treino possui a coluna 'velocidade-vento-50m' com média : %.2f\" % treino['velocidade-vento-50m'].mean() +\".\")"
      ],
      "execution_count": 12,
      "outputs": [
        {
          "output_type": "stream",
          "text": [
            "Dataset de treino possui a coluna 'velocidade-vento-50m' com média : 5.02.\n"
          ],
          "name": "stdout"
        }
      ]
    },
    {
      "cell_type": "code",
      "metadata": {
        "id": "qAutWeI-YviR",
        "colab": {
          "base_uri": "https://localhost:8080/"
        },
        "outputId": "f2cd74d9-bc3b-4150-889e-96099b02f7ff"
      },
      "source": [
        "print(\"Dataset de teste possui a coluna 'velocidade-vento-50m' com média : %.2f\" % teste['velocidade-vento-50m'].mean() +\".\")"
      ],
      "execution_count": 13,
      "outputs": [
        {
          "output_type": "stream",
          "text": [
            "Dataset de teste possui a coluna 'velocidade-vento-50m' com média : 5.02.\n"
          ],
          "name": "stdout"
        }
      ]
    },
    {
      "cell_type": "code",
      "metadata": {
        "id": "x3jvTmt1YviS",
        "colab": {
          "base_uri": "https://localhost:8080/"
        },
        "outputId": "eb097a64-2933-45a8-948c-705d89948349"
      },
      "source": [
        "# Exibindo médias completas e separadas\n",
        "teste['velocidade-vento-50m'].mean()"
      ],
      "execution_count": 14,
      "outputs": [
        {
          "output_type": "execute_result",
          "data": {
            "text/plain": [
              "5.022554333333336"
            ]
          },
          "metadata": {
            "tags": []
          },
          "execution_count": 14
        }
      ]
    },
    {
      "cell_type": "code",
      "metadata": {
        "id": "9ulyavEJYviT",
        "colab": {
          "base_uri": "https://localhost:8080/"
        },
        "outputId": "5a3333b6-71ce-4b58-f415-2da49388a3fc"
      },
      "source": [
        "treino['velocidade-vento-50m'].mean()"
      ],
      "execution_count": 15,
      "outputs": [
        {
          "output_type": "execute_result",
          "data": {
            "text/plain": [
              "5.016940604967936"
            ]
          },
          "metadata": {
            "tags": []
          },
          "execution_count": 15
        }
      ]
    },
    {
      "cell_type": "markdown",
      "metadata": {
        "id": "_rLjGTMFYviT"
      },
      "source": [
        "## •\tExiba qual Data apresentou o maior valor de velocidade-vento-50m;"
      ]
    },
    {
      "cell_type": "markdown",
      "metadata": {
        "id": "DWh6aDAOYviU"
      },
      "source": [
        "A melhor lógica pensada para esse caso foi ordenar a tabela do maior para o melhor e consultar o maior valor existente na coluna, em seguida pegar o dado na coluna de hora"
      ]
    },
    {
      "cell_type": "code",
      "metadata": {
        "id": "rl2rxPbRYviU",
        "colab": {
          "base_uri": "https://localhost:8080/"
        },
        "outputId": "3789cd5e-7a50-4b41-a290-900f1f9aa3b6"
      },
      "source": [
        "# verificando qual é o maior valor existente no dataset de treino\n",
        "treino['velocidade-vento-50m'].sort_values(ascending=False)"
      ],
      "execution_count": 16,
      "outputs": [
        {
          "output_type": "execute_result",
          "data": {
            "text/plain": [
              "6085    10.521667\n",
              "1178    10.276667\n",
              "1177    10.056667\n",
              "6359    10.020000\n",
              "1198     9.990833\n",
              "          ...    \n",
              "2096     0.364667\n",
              "947      0.358500\n",
              "3201     0.339667\n",
              "20       0.334500\n",
              "48       0.097167\n",
              "Name: velocidade-vento-50m, Length: 6656, dtype: float64"
            ]
          },
          "metadata": {
            "tags": []
          },
          "execution_count": 16
        }
      ]
    },
    {
      "cell_type": "code",
      "metadata": {
        "id": "CcAxk77jYviU",
        "colab": {
          "base_uri": "https://localhost:8080/",
          "height": 0
        },
        "outputId": "63ae83c9-553b-4a21-bd6f-61bc338f17af"
      },
      "source": [
        "# mostrando as informações do maior valor\n",
        "treino.loc[6085:6085]"
      ],
      "execution_count": 17,
      "outputs": [
        {
          "output_type": "execute_result",
          "data": {
            "text/html": [
              "<div>\n",
              "<style scoped>\n",
              "    .dataframe tbody tr th:only-of-type {\n",
              "        vertical-align: middle;\n",
              "    }\n",
              "\n",
              "    .dataframe tbody tr th {\n",
              "        vertical-align: top;\n",
              "    }\n",
              "\n",
              "    .dataframe thead th {\n",
              "        text-align: right;\n",
              "    }\n",
              "</style>\n",
              "<table border=\"1\" class=\"dataframe\">\n",
              "  <thead>\n",
              "    <tr style=\"text-align: right;\">\n",
              "      <th></th>\n",
              "      <th>ano</th>\n",
              "      <th>dia</th>\n",
              "      <th>data-hora</th>\n",
              "      <th>minuto</th>\n",
              "      <th>velocidade-vento-25m</th>\n",
              "      <th>direcao-vento-25m</th>\n",
              "      <th>temperatura-25m</th>\n",
              "      <th>velocidade-vento-50m</th>\n",
              "      <th>direcao-vento-50m</th>\n",
              "      <th>temperatura-50m</th>\n",
              "    </tr>\n",
              "  </thead>\n",
              "  <tbody>\n",
              "    <tr>\n",
              "      <th>6085</th>\n",
              "      <td>2010</td>\n",
              "      <td>254</td>\n",
              "      <td>2010-9-11 13:00:00</td>\n",
              "      <td>780</td>\n",
              "      <td>8.553333</td>\n",
              "      <td>160.916667</td>\n",
              "      <td>22.681667</td>\n",
              "      <td>10.521667</td>\n",
              "      <td>156.2</td>\n",
              "      <td>21.91</td>\n",
              "    </tr>\n",
              "  </tbody>\n",
              "</table>\n",
              "</div>"
            ],
            "text/plain": [
              "       ano  dia  ... direcao-vento-50m  temperatura-50m\n",
              "6085  2010  254  ...             156.2            21.91\n",
              "\n",
              "[1 rows x 10 columns]"
            ]
          },
          "metadata": {
            "tags": []
          },
          "execution_count": 17
        }
      ]
    },
    {
      "cell_type": "code",
      "metadata": {
        "id": "xGrzMQhHYviV",
        "colab": {
          "base_uri": "https://localhost:8080/",
          "height": 0
        },
        "outputId": "119337ee-e6c1-4654-8697-2ac940dd29db"
      },
      "source": [
        "treino.iloc[6085]['data-hora']"
      ],
      "execution_count": 18,
      "outputs": [
        {
          "output_type": "execute_result",
          "data": {
            "application/vnd.google.colaboratory.intrinsic+json": {
              "type": "string"
            },
            "text/plain": [
              "'2010-9-11 13:00:00'"
            ]
          },
          "metadata": {
            "tags": []
          },
          "execution_count": 18
        }
      ]
    },
    {
      "cell_type": "code",
      "metadata": {
        "id": "N6n7uckMYviV",
        "colab": {
          "base_uri": "https://localhost:8080/"
        },
        "outputId": "dd5bcedc-17b1-4fe2-c24c-f8ab64dba1b1"
      },
      "source": [
        "print(\" A data que apresentou maior valor de velocidade foi: \" + treino.iloc[6085]['data-hora'][0:10]+\".\")"
      ],
      "execution_count": 19,
      "outputs": [
        {
          "output_type": "stream",
          "text": [
            " A data que apresentou maior valor de velocidade foi: 2010-9-11 .\n"
          ],
          "name": "stdout"
        }
      ]
    },
    {
      "cell_type": "code",
      "metadata": {
        "id": "zqwhud-xYviV",
        "colab": {
          "base_uri": "https://localhost:8080/"
        },
        "outputId": "454de87b-3b2a-484d-91cd-119ba4b65536"
      },
      "source": [
        "# verificando qual é o maior valor existente no dataset de teste\n",
        "\n",
        "teste['velocidade-vento-50m'].sort_values(ascending=False)"
      ],
      "execution_count": 20,
      "outputs": [
        {
          "output_type": "execute_result",
          "data": {
            "text/plain": [
              "517    9.985000\n",
              "209    9.765000\n",
              "844    9.586667\n",
              "833    9.483333\n",
              "233    9.456667\n",
              "         ...   \n",
              "529    0.703833\n",
              "972    0.701167\n",
              "571    0.588167\n",
              "365    0.577000\n",
              "526    0.269833\n",
              "Name: velocidade-vento-50m, Length: 1000, dtype: float64"
            ]
          },
          "metadata": {
            "tags": []
          },
          "execution_count": 20
        }
      ]
    },
    {
      "cell_type": "code",
      "metadata": {
        "id": "AdwdbgUUYviV",
        "colab": {
          "base_uri": "https://localhost:8080/",
          "height": 0
        },
        "outputId": "28dfd829-e01d-4808-a3f5-30e9481d5fe9"
      },
      "source": [
        "treino.loc[517:517]"
      ],
      "execution_count": 21,
      "outputs": [
        {
          "output_type": "execute_result",
          "data": {
            "text/html": [
              "<div>\n",
              "<style scoped>\n",
              "    .dataframe tbody tr th:only-of-type {\n",
              "        vertical-align: middle;\n",
              "    }\n",
              "\n",
              "    .dataframe tbody tr th {\n",
              "        vertical-align: top;\n",
              "    }\n",
              "\n",
              "    .dataframe thead th {\n",
              "        text-align: right;\n",
              "    }\n",
              "</style>\n",
              "<table border=\"1\" class=\"dataframe\">\n",
              "  <thead>\n",
              "    <tr style=\"text-align: right;\">\n",
              "      <th></th>\n",
              "      <th>ano</th>\n",
              "      <th>dia</th>\n",
              "      <th>data-hora</th>\n",
              "      <th>minuto</th>\n",
              "      <th>velocidade-vento-25m</th>\n",
              "      <th>direcao-vento-25m</th>\n",
              "      <th>temperatura-25m</th>\n",
              "      <th>velocidade-vento-50m</th>\n",
              "      <th>direcao-vento-50m</th>\n",
              "      <th>temperatura-50m</th>\n",
              "    </tr>\n",
              "  </thead>\n",
              "  <tbody>\n",
              "    <tr>\n",
              "      <th>517</th>\n",
              "      <td>2010</td>\n",
              "      <td>22</td>\n",
              "      <td>2010-1-22 13:00:00</td>\n",
              "      <td>780</td>\n",
              "      <td>4.910333</td>\n",
              "      <td>98.9</td>\n",
              "      <td>27.07</td>\n",
              "      <td>5.557</td>\n",
              "      <td>94.316667</td>\n",
              "      <td>26.295</td>\n",
              "    </tr>\n",
              "  </tbody>\n",
              "</table>\n",
              "</div>"
            ],
            "text/plain": [
              "      ano  dia  ... direcao-vento-50m  temperatura-50m\n",
              "517  2010   22  ...         94.316667           26.295\n",
              "\n",
              "[1 rows x 10 columns]"
            ]
          },
          "metadata": {
            "tags": []
          },
          "execution_count": 21
        }
      ]
    },
    {
      "cell_type": "code",
      "metadata": {
        "id": "hikhJ-5iYviW",
        "colab": {
          "base_uri": "https://localhost:8080/",
          "height": 0
        },
        "outputId": "44c47d41-04cd-4fa4-9971-daed82b59ca1"
      },
      "source": [
        "teste.iloc[517]['data-hora']"
      ],
      "execution_count": 22,
      "outputs": [
        {
          "output_type": "execute_result",
          "data": {
            "application/vnd.google.colaboratory.intrinsic+json": {
              "type": "string"
            },
            "text/plain": [
              "'2010-10-26 21:00:00'"
            ]
          },
          "metadata": {
            "tags": []
          },
          "execution_count": 22
        }
      ]
    },
    {
      "cell_type": "code",
      "metadata": {
        "id": "olCxWldcYviW",
        "colab": {
          "base_uri": "https://localhost:8080/"
        },
        "outputId": "c760266c-a7a4-4980-9ec8-1905e3194678"
      },
      "source": [
        "print(\" A data que apresentou maior valor de velocidade foi: \" + teste.iloc[517]['data-hora'][0:10]+\".\")"
      ],
      "execution_count": 23,
      "outputs": [
        {
          "output_type": "stream",
          "text": [
            " A data que apresentou maior valor de velocidade foi: 2010-10-26.\n"
          ],
          "name": "stdout"
        }
      ]
    },
    {
      "cell_type": "markdown",
      "metadata": {
        "id": "bRJbIn1PYviW"
      },
      "source": [
        "## Análise exploratória dos dados "
      ]
    },
    {
      "cell_type": "code",
      "metadata": {
        "id": "1orlaMZzduci"
      },
      "source": [
        "import matplotlib.pyplot as plt"
      ],
      "execution_count": 24,
      "outputs": []
    },
    {
      "cell_type": "code",
      "metadata": {
        "id": "8A-Q4EiOYviW",
        "colab": {
          "base_uri": "https://localhost:8080/",
          "height": 0
        },
        "outputId": "bd75078e-332a-4f2a-b420-58b6435a16f6"
      },
      "source": [
        "# Identificando possíveis análises a partir de avaliação estatística\n",
        "treino.describe()"
      ],
      "execution_count": 25,
      "outputs": [
        {
          "output_type": "execute_result",
          "data": {
            "text/html": [
              "<div>\n",
              "<style scoped>\n",
              "    .dataframe tbody tr th:only-of-type {\n",
              "        vertical-align: middle;\n",
              "    }\n",
              "\n",
              "    .dataframe tbody tr th {\n",
              "        vertical-align: top;\n",
              "    }\n",
              "\n",
              "    .dataframe thead th {\n",
              "        text-align: right;\n",
              "    }\n",
              "</style>\n",
              "<table border=\"1\" class=\"dataframe\">\n",
              "  <thead>\n",
              "    <tr style=\"text-align: right;\">\n",
              "      <th></th>\n",
              "      <th>ano</th>\n",
              "      <th>dia</th>\n",
              "      <th>minuto</th>\n",
              "      <th>velocidade-vento-25m</th>\n",
              "      <th>direcao-vento-25m</th>\n",
              "      <th>temperatura-25m</th>\n",
              "      <th>velocidade-vento-50m</th>\n",
              "      <th>direcao-vento-50m</th>\n",
              "      <th>temperatura-50m</th>\n",
              "    </tr>\n",
              "  </thead>\n",
              "  <tbody>\n",
              "    <tr>\n",
              "      <th>count</th>\n",
              "      <td>6656.0</td>\n",
              "      <td>6656.000000</td>\n",
              "      <td>6656.000000</td>\n",
              "      <td>6656.000000</td>\n",
              "      <td>6656.000000</td>\n",
              "      <td>6655.000000</td>\n",
              "      <td>6656.000000</td>\n",
              "      <td>6655.000000</td>\n",
              "      <td>6656.000000</td>\n",
              "    </tr>\n",
              "    <tr>\n",
              "      <th>mean</th>\n",
              "      <td>2010.0</td>\n",
              "      <td>139.167067</td>\n",
              "      <td>689.423077</td>\n",
              "      <td>3.780990</td>\n",
              "      <td>145.418534</td>\n",
              "      <td>26.080820</td>\n",
              "      <td>5.016941</td>\n",
              "      <td>139.766473</td>\n",
              "      <td>25.645969</td>\n",
              "    </tr>\n",
              "    <tr>\n",
              "      <th>std</th>\n",
              "      <td>0.0</td>\n",
              "      <td>80.065426</td>\n",
              "      <td>415.473115</td>\n",
              "      <td>1.377644</td>\n",
              "      <td>34.336953</td>\n",
              "      <td>3.757746</td>\n",
              "      <td>1.619845</td>\n",
              "      <td>34.142498</td>\n",
              "      <td>3.713573</td>\n",
              "    </tr>\n",
              "    <tr>\n",
              "      <th>min</th>\n",
              "      <td>2010.0</td>\n",
              "      <td>1.000000</td>\n",
              "      <td>0.000000</td>\n",
              "      <td>-0.007833</td>\n",
              "      <td>6.557000</td>\n",
              "      <td>16.061667</td>\n",
              "      <td>0.097167</td>\n",
              "      <td>12.635333</td>\n",
              "      <td>16.185000</td>\n",
              "    </tr>\n",
              "    <tr>\n",
              "      <th>25%</th>\n",
              "      <td>2010.0</td>\n",
              "      <td>70.000000</td>\n",
              "      <td>300.000000</td>\n",
              "      <td>2.801167</td>\n",
              "      <td>129.045833</td>\n",
              "      <td>23.250000</td>\n",
              "      <td>3.950958</td>\n",
              "      <td>124.326667</td>\n",
              "      <td>22.845000</td>\n",
              "    </tr>\n",
              "    <tr>\n",
              "      <th>50%</th>\n",
              "      <td>2010.0</td>\n",
              "      <td>139.000000</td>\n",
              "      <td>660.000000</td>\n",
              "      <td>3.656417</td>\n",
              "      <td>143.908333</td>\n",
              "      <td>25.728333</td>\n",
              "      <td>5.022417</td>\n",
              "      <td>138.533333</td>\n",
              "      <td>25.295833</td>\n",
              "    </tr>\n",
              "    <tr>\n",
              "      <th>75%</th>\n",
              "      <td>2010.0</td>\n",
              "      <td>208.250000</td>\n",
              "      <td>1020.000000</td>\n",
              "      <td>4.745625</td>\n",
              "      <td>158.487500</td>\n",
              "      <td>28.778333</td>\n",
              "      <td>6.082958</td>\n",
              "      <td>152.025000</td>\n",
              "      <td>28.353333</td>\n",
              "    </tr>\n",
              "    <tr>\n",
              "      <th>max</th>\n",
              "      <td>2010.0</td>\n",
              "      <td>278.000000</td>\n",
              "      <td>1380.000000</td>\n",
              "      <td>8.553333</td>\n",
              "      <td>351.066667</td>\n",
              "      <td>36.400000</td>\n",
              "      <td>10.521667</td>\n",
              "      <td>346.850000</td>\n",
              "      <td>35.753333</td>\n",
              "    </tr>\n",
              "  </tbody>\n",
              "</table>\n",
              "</div>"
            ],
            "text/plain": [
              "          ano          dia  ...  direcao-vento-50m  temperatura-50m\n",
              "count  6656.0  6656.000000  ...        6655.000000      6656.000000\n",
              "mean   2010.0   139.167067  ...         139.766473        25.645969\n",
              "std       0.0    80.065426  ...          34.142498         3.713573\n",
              "min    2010.0     1.000000  ...          12.635333        16.185000\n",
              "25%    2010.0    70.000000  ...         124.326667        22.845000\n",
              "50%    2010.0   139.000000  ...         138.533333        25.295833\n",
              "75%    2010.0   208.250000  ...         152.025000        28.353333\n",
              "max    2010.0   278.000000  ...         346.850000        35.753333\n",
              "\n",
              "[8 rows x 9 columns]"
            ]
          },
          "metadata": {
            "tags": []
          },
          "execution_count": 25
        }
      ]
    },
    {
      "cell_type": "code",
      "metadata": {
        "id": "zp0QG_4AYviX",
        "colab": {
          "base_uri": "https://localhost:8080/",
          "height": 0
        },
        "outputId": "ae15ba3c-cc46-49ce-adf0-152ada708281"
      },
      "source": [
        "teste.describe()"
      ],
      "execution_count": 26,
      "outputs": [
        {
          "output_type": "execute_result",
          "data": {
            "text/html": [
              "<div>\n",
              "<style scoped>\n",
              "    .dataframe tbody tr th:only-of-type {\n",
              "        vertical-align: middle;\n",
              "    }\n",
              "\n",
              "    .dataframe tbody tr th {\n",
              "        vertical-align: top;\n",
              "    }\n",
              "\n",
              "    .dataframe thead th {\n",
              "        text-align: right;\n",
              "    }\n",
              "</style>\n",
              "<table border=\"1\" class=\"dataframe\">\n",
              "  <thead>\n",
              "    <tr style=\"text-align: right;\">\n",
              "      <th></th>\n",
              "      <th>ano</th>\n",
              "      <th>dia</th>\n",
              "      <th>minuto</th>\n",
              "      <th>velocidade-vento-25m</th>\n",
              "      <th>direcao-vento-25m</th>\n",
              "      <th>temperatura-25m</th>\n",
              "      <th>velocidade-vento-50m</th>\n",
              "      <th>direcao-vento-50m</th>\n",
              "      <th>temperatura-50m</th>\n",
              "    </tr>\n",
              "  </thead>\n",
              "  <tbody>\n",
              "    <tr>\n",
              "      <th>count</th>\n",
              "      <td>1000.0</td>\n",
              "      <td>1000.000000</td>\n",
              "      <td>1000.000000</td>\n",
              "      <td>1000.000000</td>\n",
              "      <td>1000.000000</td>\n",
              "      <td>1000.000000</td>\n",
              "      <td>1000.000000</td>\n",
              "      <td>1000.000000</td>\n",
              "      <td>1000.000000</td>\n",
              "    </tr>\n",
              "    <tr>\n",
              "      <th>mean</th>\n",
              "      <td>2010.0</td>\n",
              "      <td>298.664000</td>\n",
              "      <td>693.840000</td>\n",
              "      <td>3.894355</td>\n",
              "      <td>134.224431</td>\n",
              "      <td>27.993528</td>\n",
              "      <td>5.022554</td>\n",
              "      <td>129.178476</td>\n",
              "      <td>27.571610</td>\n",
              "    </tr>\n",
              "    <tr>\n",
              "      <th>std</th>\n",
              "      <td>0.0</td>\n",
              "      <td>12.035279</td>\n",
              "      <td>414.780541</td>\n",
              "      <td>1.321615</td>\n",
              "      <td>44.395029</td>\n",
              "      <td>3.814328</td>\n",
              "      <td>1.592096</td>\n",
              "      <td>44.847802</td>\n",
              "      <td>3.802059</td>\n",
              "    </tr>\n",
              "    <tr>\n",
              "      <th>min</th>\n",
              "      <td>2010.0</td>\n",
              "      <td>278.000000</td>\n",
              "      <td>0.000000</td>\n",
              "      <td>0.522333</td>\n",
              "      <td>17.988000</td>\n",
              "      <td>20.275000</td>\n",
              "      <td>0.269833</td>\n",
              "      <td>11.077000</td>\n",
              "      <td>19.950000</td>\n",
              "    </tr>\n",
              "    <tr>\n",
              "      <th>25%</th>\n",
              "      <td>2010.0</td>\n",
              "      <td>288.000000</td>\n",
              "      <td>360.000000</td>\n",
              "      <td>3.042042</td>\n",
              "      <td>109.887500</td>\n",
              "      <td>24.571667</td>\n",
              "      <td>4.104208</td>\n",
              "      <td>105.408333</td>\n",
              "      <td>24.185833</td>\n",
              "    </tr>\n",
              "    <tr>\n",
              "      <th>50%</th>\n",
              "      <td>2010.0</td>\n",
              "      <td>299.000000</td>\n",
              "      <td>720.000000</td>\n",
              "      <td>3.868333</td>\n",
              "      <td>128.250000</td>\n",
              "      <td>27.837500</td>\n",
              "      <td>5.079333</td>\n",
              "      <td>123.658333</td>\n",
              "      <td>27.325833</td>\n",
              "    </tr>\n",
              "    <tr>\n",
              "      <th>75%</th>\n",
              "      <td>2010.0</td>\n",
              "      <td>309.000000</td>\n",
              "      <td>1080.000000</td>\n",
              "      <td>4.702917</td>\n",
              "      <td>142.620833</td>\n",
              "      <td>31.203333</td>\n",
              "      <td>5.960708</td>\n",
              "      <td>137.091667</td>\n",
              "      <td>30.968750</td>\n",
              "    </tr>\n",
              "    <tr>\n",
              "      <th>max</th>\n",
              "      <td>2010.0</td>\n",
              "      <td>319.000000</td>\n",
              "      <td>1380.000000</td>\n",
              "      <td>8.301667</td>\n",
              "      <td>339.750000</td>\n",
              "      <td>36.205000</td>\n",
              "      <td>9.985000</td>\n",
              "      <td>337.083333</td>\n",
              "      <td>35.411667</td>\n",
              "    </tr>\n",
              "  </tbody>\n",
              "</table>\n",
              "</div>"
            ],
            "text/plain": [
              "          ano          dia  ...  direcao-vento-50m  temperatura-50m\n",
              "count  1000.0  1000.000000  ...        1000.000000      1000.000000\n",
              "mean   2010.0   298.664000  ...         129.178476        27.571610\n",
              "std       0.0    12.035279  ...          44.847802         3.802059\n",
              "min    2010.0   278.000000  ...          11.077000        19.950000\n",
              "25%    2010.0   288.000000  ...         105.408333        24.185833\n",
              "50%    2010.0   299.000000  ...         123.658333        27.325833\n",
              "75%    2010.0   309.000000  ...         137.091667        30.968750\n",
              "max    2010.0   319.000000  ...         337.083333        35.411667\n",
              "\n",
              "[8 rows x 9 columns]"
            ]
          },
          "metadata": {
            "tags": []
          },
          "execution_count": 26
        }
      ]
    },
    {
      "cell_type": "code",
      "metadata": {
        "id": "0COat4NNYviX",
        "colab": {
          "base_uri": "https://localhost:8080/",
          "height": 0
        },
        "outputId": "9e8f5ae0-a039-4909-893d-fe6bc4d22dbd"
      },
      "source": [
        "treino.head()"
      ],
      "execution_count": 27,
      "outputs": [
        {
          "output_type": "execute_result",
          "data": {
            "text/html": [
              "<div>\n",
              "<style scoped>\n",
              "    .dataframe tbody tr th:only-of-type {\n",
              "        vertical-align: middle;\n",
              "    }\n",
              "\n",
              "    .dataframe tbody tr th {\n",
              "        vertical-align: top;\n",
              "    }\n",
              "\n",
              "    .dataframe thead th {\n",
              "        text-align: right;\n",
              "    }\n",
              "</style>\n",
              "<table border=\"1\" class=\"dataframe\">\n",
              "  <thead>\n",
              "    <tr style=\"text-align: right;\">\n",
              "      <th></th>\n",
              "      <th>ano</th>\n",
              "      <th>dia</th>\n",
              "      <th>data-hora</th>\n",
              "      <th>minuto</th>\n",
              "      <th>velocidade-vento-25m</th>\n",
              "      <th>direcao-vento-25m</th>\n",
              "      <th>temperatura-25m</th>\n",
              "      <th>velocidade-vento-50m</th>\n",
              "      <th>direcao-vento-50m</th>\n",
              "      <th>temperatura-50m</th>\n",
              "    </tr>\n",
              "  </thead>\n",
              "  <tbody>\n",
              "    <tr>\n",
              "      <th>0</th>\n",
              "      <td>2010</td>\n",
              "      <td>1</td>\n",
              "      <td>2010-1-1 00:00:00</td>\n",
              "      <td>0</td>\n",
              "      <td>0.881500</td>\n",
              "      <td>298.333333</td>\n",
              "      <td>24.868333</td>\n",
              "      <td>0.932500</td>\n",
              "      <td>318.233333</td>\n",
              "      <td>24.888333</td>\n",
              "    </tr>\n",
              "    <tr>\n",
              "      <th>1</th>\n",
              "      <td>2010</td>\n",
              "      <td>1</td>\n",
              "      <td>2010-1-1 01:00:00</td>\n",
              "      <td>60</td>\n",
              "      <td>1.366167</td>\n",
              "      <td>329.533333</td>\n",
              "      <td>24.826667</td>\n",
              "      <td>1.825333</td>\n",
              "      <td>321.100000</td>\n",
              "      <td>24.858333</td>\n",
              "    </tr>\n",
              "    <tr>\n",
              "      <th>2</th>\n",
              "      <td>2010</td>\n",
              "      <td>1</td>\n",
              "      <td>2010-1-1 02:00:00</td>\n",
              "      <td>120</td>\n",
              "      <td>1.118667</td>\n",
              "      <td>290.233333</td>\n",
              "      <td>24.648333</td>\n",
              "      <td>2.170333</td>\n",
              "      <td>276.033333</td>\n",
              "      <td>25.133333</td>\n",
              "    </tr>\n",
              "    <tr>\n",
              "      <th>3</th>\n",
              "      <td>2010</td>\n",
              "      <td>1</td>\n",
              "      <td>2010-1-1 03:00:00</td>\n",
              "      <td>180</td>\n",
              "      <td>0.618000</td>\n",
              "      <td>196.950000</td>\n",
              "      <td>23.916667</td>\n",
              "      <td>1.472500</td>\n",
              "      <td>218.800000</td>\n",
              "      <td>24.268333</td>\n",
              "    </tr>\n",
              "    <tr>\n",
              "      <th>4</th>\n",
              "      <td>2010</td>\n",
              "      <td>1</td>\n",
              "      <td>2010-1-1 04:00:00</td>\n",
              "      <td>240</td>\n",
              "      <td>1.517833</td>\n",
              "      <td>117.183333</td>\n",
              "      <td>23.740000</td>\n",
              "      <td>2.058333</td>\n",
              "      <td>130.333333</td>\n",
              "      <td>23.801667</td>\n",
              "    </tr>\n",
              "  </tbody>\n",
              "</table>\n",
              "</div>"
            ],
            "text/plain": [
              "    ano  dia  ... direcao-vento-50m  temperatura-50m\n",
              "0  2010    1  ...        318.233333        24.888333\n",
              "1  2010    1  ...        321.100000        24.858333\n",
              "2  2010    1  ...        276.033333        25.133333\n",
              "3  2010    1  ...        218.800000        24.268333\n",
              "4  2010    1  ...        130.333333        23.801667\n",
              "\n",
              "[5 rows x 10 columns]"
            ]
          },
          "metadata": {
            "tags": []
          },
          "execution_count": 27
        }
      ]
    },
    {
      "cell_type": "code",
      "metadata": {
        "id": "v8pPYAQuYviX"
      },
      "source": [
        "mes = treino['data-hora'].str.split(\"-\", expand=True)[1]\n",
        "treino['mes'] = mes\n",
        "df_agp = treino.groupby('mes').mean()\n",
        "df_agp.reset_index(inplace=True)"
      ],
      "execution_count": 28,
      "outputs": []
    },
    {
      "cell_type": "code",
      "metadata": {
        "id": "QPFr21tjeUIP"
      },
      "source": [
        "df_agp.mes = df_agp.mes.astype('int')"
      ],
      "execution_count": 29,
      "outputs": []
    },
    {
      "cell_type": "code",
      "metadata": {
        "id": "D4Y8CfvPejWv",
        "colab": {
          "base_uri": "https://localhost:8080/"
        },
        "outputId": "bec73b1b-fa08-4387-e0e8-226b34f951f7"
      },
      "source": [
        "df_agp.dtypes"
      ],
      "execution_count": 30,
      "outputs": [
        {
          "output_type": "execute_result",
          "data": {
            "text/plain": [
              "mes                       int64\n",
              "ano                     float64\n",
              "dia                     float64\n",
              "minuto                  float64\n",
              "velocidade-vento-25m    float64\n",
              "direcao-vento-25m       float64\n",
              "temperatura-25m         float64\n",
              "velocidade-vento-50m    float64\n",
              "direcao-vento-50m       float64\n",
              "temperatura-50m         float64\n",
              "dtype: object"
            ]
          },
          "metadata": {
            "tags": []
          },
          "execution_count": 30
        }
      ]
    },
    {
      "cell_type": "code",
      "metadata": {
        "id": "31xw_xmrYviX"
      },
      "source": [
        "df_agp.round(2)\n",
        "\n",
        "df_agp = df_agp.sort_values('mes', ascending='True')"
      ],
      "execution_count": 31,
      "outputs": []
    },
    {
      "cell_type": "code",
      "metadata": {
        "id": "lOb66sIrYviX",
        "colab": {
          "base_uri": "https://localhost:8080/",
          "height": 0
        },
        "outputId": "55d64271-83db-40ff-85cb-b0d5d1801226"
      },
      "source": [
        "plt.plot(df_agp['mes'], df_agp['velocidade-vento-50m'])\n",
        "plt.title(\"Mês X Velocidade do Vento 50m\")\n",
        "plt.grid(True)\n",
        "plt.show()"
      ],
      "execution_count": 32,
      "outputs": [
        {
          "output_type": "display_data",
          "data": {
            "image/png": "[encoded data removed]",
            "text/plain": [
              "<Figure size 432x288 with 1 Axes>"
            ]
          },
          "metadata": {
            "tags": [],
            "needs_background": "light"
          }
        }
      ]
    },
    {
      "cell_type": "code",
      "metadata": {
        "id": "cOi2L4U7YviX",
        "colab": {
          "base_uri": "https://localhost:8080/",
          "height": 0
        },
        "outputId": "0c8e1591-11a6-41e9-aa11-7e851e4ac3ea"
      },
      "source": [
        "plt.plot(df_agp['mes'], df_agp['temperatura-50m'])\n",
        "plt.title(\"Mês X Temperatura 50m\")\n",
        "plt.grid(True)\n",
        "plt.show()\n"
      ],
      "execution_count": 33,
      "outputs": [
        {
          "output_type": "display_data",
          "data": {
            "image/png": "[encoded data removed]",
            "text/plain": [
              "<Figure size 432x288 with 1 Axes>"
            ]
          },
          "metadata": {
            "tags": [],
            "needs_background": "light"
          }
        }
      ]
    },
    {
      "cell_type": "markdown",
      "metadata": {
        "id": "kfmVEHxqfpse"
      },
      "source": [
        "Com a análise anterior, é possível identificar uma forte relação da valocidade do vento com a temperatura. As duas dimensões na tabela são teoricamente inversamente proporcionais. \n",
        "\n",
        "- Quanto maior a temperatura, menor a velocidade do vento.\n",
        "- Quanto menor a temperatura, maior a velocidade do vento.\n",
        "\n",
        "obs.: Trabalhei apenas com valores médios para as análises por mês"
      ]
    },
    {
      "cell_type": "code",
      "metadata": {
        "id": "iGoRMtN5YviX",
        "colab": {
          "base_uri": "https://localhost:8080/",
          "height": 0
        },
        "outputId": "ccd50c72-5c32-4974-aea8-1f339f743bc6"
      },
      "source": [
        "plt.plot(df_agp['mes'], df_agp['velocidade-vento-25m'])\n",
        "plt.title(\"Mês X Velocidade do Vento 25m\")\n",
        "plt.grid(True)\n",
        "plt.show()"
      ],
      "execution_count": 34,
      "outputs": [
        {
          "output_type": "display_data",
          "data": {
            "image/png": "[encoded data removed]",
            "text/plain": [
              "<Figure size 432x288 with 1 Axes>"
            ]
          },
          "metadata": {
            "tags": [],
            "needs_background": "light"
          }
        }
      ]
    },
    {
      "cell_type": "code",
      "metadata": {
        "id": "wVnTlCL7fKr0",
        "colab": {
          "base_uri": "https://localhost:8080/",
          "height": 0
        },
        "outputId": "43ffb4ab-152c-443b-8b0b-6b4742853225"
      },
      "source": [
        "plt.plot(df_agp['mes'], df_agp['temperatura-25m'])\n",
        "plt.title(\"Mês X Temperatura 25m\")\n",
        "plt.grid(True)\n",
        "plt.show()"
      ],
      "execution_count": 35,
      "outputs": [
        {
          "output_type": "display_data",
          "data": {
            "image/png": "[encoded data removed]",
            "text/plain": [
              "<Figure size 432x288 with 1 Axes>"
            ]
          },
          "metadata": {
            "tags": [],
            "needs_background": "light"
          }
        }
      ]
    },
    {
      "cell_type": "markdown",
      "metadata": {
        "id": "eLxaE-RngZB3"
      },
      "source": [
        "Acabei não me alongando muito por conta das duas etapas seguintes. Mas tem muita coisa que pode ser analisada ainda"
      ]
    },
    {
      "cell_type": "code",
      "metadata": {
        "id": "L-rijaQj2XgZ"
      },
      "source": [
        "treino.drop(columns=\"mes\", inplace=True)"
      ],
      "execution_count": 36,
      "outputs": []
    },
    {
      "cell_type": "markdown",
      "metadata": {
        "id": "VdYfEz90jwqK"
      },
      "source": [
        "# Etapa 2"
      ]
    },
    {
      "cell_type": "markdown",
      "metadata": {
        "id": "L8Ky-sONKMDy"
      },
      "source": [
        "### •\tRealizando tratamento para lidar com os dados faltantes"
      ]
    },
    {
      "cell_type": "code",
      "metadata": {
        "id": "EUxq_J2hgYUj",
        "colab": {
          "base_uri": "https://localhost:8080/"
        },
        "outputId": "3398a400-aa38-4ecc-9a8a-cd3b4d039e4f"
      },
      "source": [
        "teste.isnull().sum()\n",
        "#não possui dados faltantes"
      ],
      "execution_count": 37,
      "outputs": [
        {
          "output_type": "execute_result",
          "data": {
            "text/plain": [
              "ano                     0\n",
              "dia                     0\n",
              "data-hora               0\n",
              "minuto                  0\n",
              "velocidade-vento-25m    0\n",
              "direcao-vento-25m       0\n",
              "temperatura-25m         0\n",
              "velocidade-vento-50m    0\n",
              "direcao-vento-50m       0\n",
              "temperatura-50m         0\n",
              "dtype: int64"
            ]
          },
          "metadata": {
            "tags": []
          },
          "execution_count": 37
        }
      ]
    },
    {
      "cell_type": "code",
      "metadata": {
        "id": "4SQRCd95f-0x",
        "colab": {
          "base_uri": "https://localhost:8080/"
        },
        "outputId": "90f4d16a-36fa-4cdb-c844-59f73bc73487"
      },
      "source": [
        "treino.isnull().sum()\n",
        "# será necessário aplicar algum método para substituir o valor nulo\n",
        "# A minha decisão foi pegar a média dos valores para não pegar um valor fora do real ou que viesse a impactar na análise. \n",
        "# Antes do tratamento"
      ],
      "execution_count": 38,
      "outputs": [
        {
          "output_type": "execute_result",
          "data": {
            "text/plain": [
              "ano                     0\n",
              "dia                     0\n",
              "data-hora               0\n",
              "minuto                  0\n",
              "velocidade-vento-25m    0\n",
              "direcao-vento-25m       0\n",
              "temperatura-25m         1\n",
              "velocidade-vento-50m    0\n",
              "direcao-vento-50m       1\n",
              "temperatura-50m         0\n",
              "dtype: int64"
            ]
          },
          "metadata": {
            "tags": []
          },
          "execution_count": 38
        }
      ]
    },
    {
      "cell_type": "code",
      "metadata": {
        "id": "HJVTZ2m2jvnk"
      },
      "source": [
        "media = treino['temperatura-25m'].mean()\n",
        "treino['temperatura-25m'] = treino['temperatura-25m'].fillna(media)"
      ],
      "execution_count": 39,
      "outputs": []
    },
    {
      "cell_type": "code",
      "metadata": {
        "id": "4XAL1aYoHkJK"
      },
      "source": [
        "media = treino['direcao-vento-50m'].mean()\n",
        "treino['direcao-vento-50m'] = treino['direcao-vento-50m'].fillna(media)"
      ],
      "execution_count": 40,
      "outputs": []
    },
    {
      "cell_type": "code",
      "metadata": {
        "id": "Y9fkVgSlIriu",
        "colab": {
          "base_uri": "https://localhost:8080/"
        },
        "outputId": "dfa033fa-dadc-4066-f57a-e7c7d7b1a785"
      },
      "source": [
        "treino.isnull().sum()\n",
        "# Depois do tratamento"
      ],
      "execution_count": 41,
      "outputs": [
        {
          "output_type": "execute_result",
          "data": {
            "text/plain": [
              "ano                     0\n",
              "dia                     0\n",
              "data-hora               0\n",
              "minuto                  0\n",
              "velocidade-vento-25m    0\n",
              "direcao-vento-25m       0\n",
              "temperatura-25m         0\n",
              "velocidade-vento-50m    0\n",
              "direcao-vento-50m       0\n",
              "temperatura-50m         0\n",
              "dtype: int64"
            ]
          },
          "metadata": {
            "tags": []
          },
          "execution_count": 41
        }
      ]
    },
    {
      "cell_type": "markdown",
      "metadata": {
        "id": "bwJ9fVIXKcs_"
      },
      "source": [
        "### •\tConsidere as variáveis temporais: ano, dia, data-hora e minuto. Caso deseje, considere transformar as colunas para que elas sejam representadas por valores contínuos. Caso faça isto, disponibilize a função para o tratamento dos dados;"
      ]
    },
    {
      "cell_type": "markdown",
      "metadata": {
        "id": "GAh8qHM2lcJm"
      },
      "source": [
        "Não ficou claro o que vocês quiseram dizer com \"Considere as variáveis temporais: ano, dia, data-hora e minuto. Caso deseje, considere transformar as colunas para que elas sejam representadas por valores contínuos.\"\n",
        "\n",
        "- Explicado a falta de compreensão, irei fazer o que eu acho que está correto e espero que entendam"
      ]
    },
    {
      "cell_type": "code",
      "metadata": {
        "id": "k9CzBT2jKpkR",
        "colab": {
          "base_uri": "https://localhost:8080/",
          "height": 203
        },
        "outputId": "d7140fe4-f49a-4bf0-f6bf-3ceaea484189"
      },
      "source": [
        "treino.head()"
      ],
      "execution_count": 42,
      "outputs": [
        {
          "output_type": "execute_result",
          "data": {
            "text/html": [
              "<div>\n",
              "<style scoped>\n",
              "    .dataframe tbody tr th:only-of-type {\n",
              "        vertical-align: middle;\n",
              "    }\n",
              "\n",
              "    .dataframe tbody tr th {\n",
              "        vertical-align: top;\n",
              "    }\n",
              "\n",
              "    .dataframe thead th {\n",
              "        text-align: right;\n",
              "    }\n",
              "</style>\n",
              "<table border=\"1\" class=\"dataframe\">\n",
              "  <thead>\n",
              "    <tr style=\"text-align: right;\">\n",
              "      <th></th>\n",
              "      <th>ano</th>\n",
              "      <th>dia</th>\n",
              "      <th>data-hora</th>\n",
              "      <th>minuto</th>\n",
              "      <th>velocidade-vento-25m</th>\n",
              "      <th>direcao-vento-25m</th>\n",
              "      <th>temperatura-25m</th>\n",
              "      <th>velocidade-vento-50m</th>\n",
              "      <th>direcao-vento-50m</th>\n",
              "      <th>temperatura-50m</th>\n",
              "    </tr>\n",
              "  </thead>\n",
              "  <tbody>\n",
              "    <tr>\n",
              "      <th>0</th>\n",
              "      <td>2010</td>\n",
              "      <td>1</td>\n",
              "      <td>2010-1-1 00:00:00</td>\n",
              "      <td>0</td>\n",
              "      <td>0.881500</td>\n",
              "      <td>298.333333</td>\n",
              "      <td>24.868333</td>\n",
              "      <td>0.932500</td>\n",
              "      <td>318.233333</td>\n",
              "      <td>24.888333</td>\n",
              "    </tr>\n",
              "    <tr>\n",
              "      <th>1</th>\n",
              "      <td>2010</td>\n",
              "      <td>1</td>\n",
              "      <td>2010-1-1 01:00:00</td>\n",
              "      <td>60</td>\n",
              "      <td>1.366167</td>\n",
              "      <td>329.533333</td>\n",
              "      <td>24.826667</td>\n",
              "      <td>1.825333</td>\n",
              "      <td>321.100000</td>\n",
              "      <td>24.858333</td>\n",
              "    </tr>\n",
              "    <tr>\n",
              "      <th>2</th>\n",
              "      <td>2010</td>\n",
              "      <td>1</td>\n",
              "      <td>2010-1-1 02:00:00</td>\n",
              "      <td>120</td>\n",
              "      <td>1.118667</td>\n",
              "      <td>290.233333</td>\n",
              "      <td>24.648333</td>\n",
              "      <td>2.170333</td>\n",
              "      <td>276.033333</td>\n",
              "      <td>25.133333</td>\n",
              "    </tr>\n",
              "    <tr>\n",
              "      <th>3</th>\n",
              "      <td>2010</td>\n",
              "      <td>1</td>\n",
              "      <td>2010-1-1 03:00:00</td>\n",
              "      <td>180</td>\n",
              "      <td>0.618000</td>\n",
              "      <td>196.950000</td>\n",
              "      <td>23.916667</td>\n",
              "      <td>1.472500</td>\n",
              "      <td>218.800000</td>\n",
              "      <td>24.268333</td>\n",
              "    </tr>\n",
              "    <tr>\n",
              "      <th>4</th>\n",
              "      <td>2010</td>\n",
              "      <td>1</td>\n",
              "      <td>2010-1-1 04:00:00</td>\n",
              "      <td>240</td>\n",
              "      <td>1.517833</td>\n",
              "      <td>117.183333</td>\n",
              "      <td>23.740000</td>\n",
              "      <td>2.058333</td>\n",
              "      <td>130.333333</td>\n",
              "      <td>23.801667</td>\n",
              "    </tr>\n",
              "  </tbody>\n",
              "</table>\n",
              "</div>"
            ],
            "text/plain": [
              "    ano  dia  ... direcao-vento-50m  temperatura-50m\n",
              "0  2010    1  ...        318.233333        24.888333\n",
              "1  2010    1  ...        321.100000        24.858333\n",
              "2  2010    1  ...        276.033333        25.133333\n",
              "3  2010    1  ...        218.800000        24.268333\n",
              "4  2010    1  ...        130.333333        23.801667\n",
              "\n",
              "[5 rows x 10 columns]"
            ]
          },
          "metadata": {
            "tags": []
          },
          "execution_count": 42
        }
      ]
    },
    {
      "cell_type": "code",
      "metadata": {
        "id": "44BraGF-K-BA"
      },
      "source": [
        "#treino['data-hora'] = pd.to_datetime(treino['data-hora'])\n",
        "#teste['data-hora'] = pd.to_datetime(teste['data-hora'])"
      ],
      "execution_count": 43,
      "outputs": []
    },
    {
      "cell_type": "code",
      "metadata": {
        "id": "aXVGdyZ3n5sl"
      },
      "source": [
        ""
      ],
      "execution_count": 43,
      "outputs": []
    },
    {
      "cell_type": "code",
      "metadata": {
        "id": "QrSzTWmGK_Zb"
      },
      "source": [
        ""
      ],
      "execution_count": 43,
      "outputs": []
    },
    {
      "cell_type": "code",
      "metadata": {
        "id": "Nnp5hoPjoQG9"
      },
      "source": [
        ""
      ],
      "execution_count": 43,
      "outputs": []
    },
    {
      "cell_type": "markdown",
      "metadata": {
        "id": "Z6oXOj2WsKCe"
      },
      "source": [
        "### •\tDivida os dados de treinamento em X_train e y_train.\n",
        "\n"
      ]
    },
    {
      "cell_type": "code",
      "metadata": {
        "id": "dSk8QSNIoUAl",
        "colab": {
          "base_uri": "https://localhost:8080/"
        },
        "outputId": "5ae92037-2a76-483c-d6a6-176669c19822"
      },
      "source": [
        "# TensorFlow e tf.keras\n",
        "import tensorflow as tf\n",
        "from tensorflow import keras\n",
        "import keras\n",
        "from keras.models import Sequential\n",
        "from keras.layers import Activation\n",
        "from keras.layers.core import Dense\n",
        "from keras.optimizers import Adam\n",
        "from keras.metrics import categorical_crossentropy\n",
        "\n",
        "\n",
        "\n",
        "import pickle\n",
        "\n",
        "print(tf.__version__)"
      ],
      "execution_count": 45,
      "outputs": [
        {
          "output_type": "stream",
          "text": [
            "2.5.0\n"
          ],
          "name": "stdout"
        }
      ]
    },
    {
      "cell_type": "markdown",
      "metadata": {
        "id": "arFRyzJrS5Nq"
      },
      "source": [
        "### Matriz de correlação\n",
        "\n",
        "# <p style='font-size: 18px; line-height: 2; margin: 10px 50px; text-align: justify;'>O <b>coeficiente de correlação</b> é uma medida de associação linear entre duas variáveis e situa-se entre <b>-1</b> e <b>+1</b> sendo que <b>-1</b> indica associação negativa perfeita e <b>+1</b> indica associação positiva perfeita.</p>"
      ]
    },
    {
      "cell_type": "code",
      "metadata": {
        "id": "K3rv144wg7pJ"
      },
      "source": [
        "from sklearn.model_selection import train_test_split\n",
        "from sklearn.metrics import confusion_matrix\n",
        "\n",
        "from sklearn.model_selection import train_test_split\n",
        "\n",
        "from keras.optimizers import RMSprop\n",
        "\n",
        "from keras.utils.np_utils import to_categorical \n",
        "from keras.models import Sequential\n",
        "from keras.layers import Dense"
      ],
      "execution_count": 61,
      "outputs": []
    },
    {
      "cell_type": "code",
      "metadata": {
        "id": "9ZTZmQLuTBT-",
        "colab": {
          "base_uri": "https://localhost:8080/",
          "height": 326
        },
        "outputId": "e9a281fb-504f-41d2-c887-05c0c98ddea1"
      },
      "source": [
        "treino.corr().round(4)\n",
        "\n",
        "# Resultado: Temperatura-25m, possui uma boa coorelação com a variável minuto. \n",
        "# as temperaturas também tem ligação direta com a velocidade do vento"
      ],
      "execution_count": 62,
      "outputs": [
        {
          "output_type": "execute_result",
          "data": {
            "text/html": [
              "<div>\n",
              "<style scoped>\n",
              "    .dataframe tbody tr th:only-of-type {\n",
              "        vertical-align: middle;\n",
              "    }\n",
              "\n",
              "    .dataframe tbody tr th {\n",
              "        vertical-align: top;\n",
              "    }\n",
              "\n",
              "    .dataframe thead th {\n",
              "        text-align: right;\n",
              "    }\n",
              "</style>\n",
              "<table border=\"1\" class=\"dataframe\">\n",
              "  <thead>\n",
              "    <tr style=\"text-align: right;\">\n",
              "      <th></th>\n",
              "      <th>ano</th>\n",
              "      <th>dia</th>\n",
              "      <th>minuto</th>\n",
              "      <th>velocidade-vento-25m</th>\n",
              "      <th>direcao-vento-25m</th>\n",
              "      <th>temperatura-25m</th>\n",
              "      <th>velocidade-vento-50m</th>\n",
              "      <th>direcao-vento-50m</th>\n",
              "      <th>temperatura-50m</th>\n",
              "    </tr>\n",
              "  </thead>\n",
              "  <tbody>\n",
              "    <tr>\n",
              "      <th>ano</th>\n",
              "      <td>NaN</td>\n",
              "      <td>NaN</td>\n",
              "      <td>NaN</td>\n",
              "      <td>NaN</td>\n",
              "      <td>NaN</td>\n",
              "      <td>NaN</td>\n",
              "      <td>NaN</td>\n",
              "      <td>NaN</td>\n",
              "      <td>NaN</td>\n",
              "    </tr>\n",
              "    <tr>\n",
              "      <th>dia</th>\n",
              "      <td>NaN</td>\n",
              "      <td>1.0000</td>\n",
              "      <td>-0.0024</td>\n",
              "      <td>0.3933</td>\n",
              "      <td>0.0552</td>\n",
              "      <td>-0.3167</td>\n",
              "      <td>0.4298</td>\n",
              "      <td>0.0619</td>\n",
              "      <td>-0.3333</td>\n",
              "    </tr>\n",
              "    <tr>\n",
              "      <th>minuto</th>\n",
              "      <td>NaN</td>\n",
              "      <td>-0.0024</td>\n",
              "      <td>1.0000</td>\n",
              "      <td>0.1438</td>\n",
              "      <td>0.0009</td>\n",
              "      <td>0.5541</td>\n",
              "      <td>0.0554</td>\n",
              "      <td>0.0069</td>\n",
              "      <td>0.5420</td>\n",
              "    </tr>\n",
              "    <tr>\n",
              "      <th>velocidade-vento-25m</th>\n",
              "      <td>NaN</td>\n",
              "      <td>0.3933</td>\n",
              "      <td>0.1438</td>\n",
              "      <td>1.0000</td>\n",
              "      <td>-0.1196</td>\n",
              "      <td>0.0681</td>\n",
              "      <td>0.9425</td>\n",
              "      <td>-0.0993</td>\n",
              "      <td>0.0258</td>\n",
              "    </tr>\n",
              "    <tr>\n",
              "      <th>direcao-vento-25m</th>\n",
              "      <td>NaN</td>\n",
              "      <td>0.0552</td>\n",
              "      <td>0.0009</td>\n",
              "      <td>-0.1196</td>\n",
              "      <td>1.0000</td>\n",
              "      <td>-0.1714</td>\n",
              "      <td>-0.0611</td>\n",
              "      <td>0.9685</td>\n",
              "      <td>-0.1627</td>\n",
              "    </tr>\n",
              "    <tr>\n",
              "      <th>temperatura-25m</th>\n",
              "      <td>NaN</td>\n",
              "      <td>-0.3167</td>\n",
              "      <td>0.5541</td>\n",
              "      <td>0.0681</td>\n",
              "      <td>-0.1714</td>\n",
              "      <td>1.0000</td>\n",
              "      <td>-0.0571</td>\n",
              "      <td>-0.1742</td>\n",
              "      <td>0.9958</td>\n",
              "    </tr>\n",
              "    <tr>\n",
              "      <th>velocidade-vento-50m</th>\n",
              "      <td>NaN</td>\n",
              "      <td>0.4298</td>\n",
              "      <td>0.0554</td>\n",
              "      <td>0.9425</td>\n",
              "      <td>-0.0611</td>\n",
              "      <td>-0.0571</td>\n",
              "      <td>1.0000</td>\n",
              "      <td>-0.0454</td>\n",
              "      <td>-0.0772</td>\n",
              "    </tr>\n",
              "    <tr>\n",
              "      <th>direcao-vento-50m</th>\n",
              "      <td>NaN</td>\n",
              "      <td>0.0619</td>\n",
              "      <td>0.0069</td>\n",
              "      <td>-0.0993</td>\n",
              "      <td>0.9685</td>\n",
              "      <td>-0.1742</td>\n",
              "      <td>-0.0454</td>\n",
              "      <td>1.0000</td>\n",
              "      <td>-0.1687</td>\n",
              "    </tr>\n",
              "    <tr>\n",
              "      <th>temperatura-50m</th>\n",
              "      <td>NaN</td>\n",
              "      <td>-0.3333</td>\n",
              "      <td>0.5420</td>\n",
              "      <td>0.0258</td>\n",
              "      <td>-0.1627</td>\n",
              "      <td>0.9958</td>\n",
              "      <td>-0.0772</td>\n",
              "      <td>-0.1687</td>\n",
              "      <td>1.0000</td>\n",
              "    </tr>\n",
              "  </tbody>\n",
              "</table>\n",
              "</div>"
            ],
            "text/plain": [
              "                      ano     dia  ...  direcao-vento-50m  temperatura-50m\n",
              "ano                   NaN     NaN  ...                NaN              NaN\n",
              "dia                   NaN  1.0000  ...             0.0619          -0.3333\n",
              "minuto                NaN -0.0024  ...             0.0069           0.5420\n",
              "velocidade-vento-25m  NaN  0.3933  ...            -0.0993           0.0258\n",
              "direcao-vento-25m     NaN  0.0552  ...             0.9685          -0.1627\n",
              "temperatura-25m       NaN -0.3167  ...            -0.1742           0.9958\n",
              "velocidade-vento-50m  NaN  0.4298  ...            -0.0454          -0.0772\n",
              "direcao-vento-50m     NaN  0.0619  ...             1.0000          -0.1687\n",
              "temperatura-50m       NaN -0.3333  ...            -0.1687           1.0000\n",
              "\n",
              "[9 rows x 9 columns]"
            ]
          },
          "metadata": {
            "tags": []
          },
          "execution_count": 62
        }
      ]
    },
    {
      "cell_type": "code",
      "metadata": {
        "id": "3gxAaZbKN4xS",
        "colab": {
          "base_uri": "https://localhost:8080/",
          "height": 378
        },
        "outputId": "8ac2c912-e09e-4305-c7e2-d2070ea48391"
      },
      "source": [
        "fig, ax = plt.subplots(figsize=(20,6))\n",
        "ax = treino['velocidade-vento-50m'].plot(fontsize=14)"
      ],
      "execution_count": 58,
      "outputs": [
        {
          "output_type": "display_data",
          "data": {
            "image/png": "[encoded data removed]",
            "text/plain": [
              "<Figure size 1440x432 with 1 Axes>"
            ]
          },
          "metadata": {
            "tags": [],
            "needs_background": "light"
          }
        }
      ]
    },
    {
      "cell_type": "markdown",
      "metadata": {
        "id": "w9M8XPsWlx21"
      },
      "source": [
        "### Separando uma parte dos dados para validação com os dados de treino"
      ]
    },
    {
      "cell_type": "code",
      "metadata": {
        "id": "RwkorMehnn4Y"
      },
      "source": [
        "treino.sort_values(\"data-hora\", inplace=True)\n",
        "\n",
        "# Neste caso, removi as três ultimas horas pois não teriamos informações na tabela de Y_Train\n",
        "X = treino.drop(columns=['velocidade-vento-50m'])\n",
        "X_train = X[:-3]\n",
        "\n",
        "# Utilizei uma lógica simples: por conta dos dados serem contínuos e salvo por hora, apenas ordenei por data e hora e iniciei o dataset apenas da terceita linha, ou seja, 3 horas a mais que o X_train\n",
        "Y_train = treino[['velocidade-vento-50m']][3:].reset_index().drop(columns='index')\n"
      ],
      "execution_count": 49,
      "outputs": []
    },
    {
      "cell_type": "code",
      "metadata": {
        "id": "Q8XHPEGYfDSb"
      },
      "source": [
        "#Categorizando os valores para ficar entre zero e 1\n",
        "# Y_train = to_categorical(Y_train)"
      ],
      "execution_count": 53,
      "outputs": []
    },
    {
      "cell_type": "code",
      "metadata": {
        "id": "_B1rKUEwfDYK"
      },
      "source": [
        "# Separando uma parte dos dados para validação\n",
        "random_seed = 2\n",
        "X_train, X_val, Y_train, Y_val = train_test_split(X_train, Y_train, test_size = 0.1, random_state=random_seed)"
      ],
      "execution_count": 54,
      "outputs": []
    },
    {
      "cell_type": "code",
      "metadata": {
        "id": "Bxnwrpf_fDWf",
        "colab": {
          "base_uri": "https://localhost:8080/"
        },
        "outputId": "beaa2287-61dd-48ce-d8df-d0259478e277"
      },
      "source": [
        "X_train.shape,  X_val.shape, Y_train.shape, Y_val.shape"
      ],
      "execution_count": 55,
      "outputs": [
        {
          "output_type": "execute_result",
          "data": {
            "text/plain": [
              "((5388, 9), (599, 9), (5388, 1), (599, 1))"
            ]
          },
          "metadata": {
            "tags": []
          },
          "execution_count": 55
        }
      ]
    },
    {
      "cell_type": "markdown",
      "metadata": {
        "id": "l8Eyg31MmH2L"
      },
      "source": [
        "### Separando uma parte dos dados para validação com os dados de teste"
      ]
    },
    {
      "cell_type": "code",
      "metadata": {
        "id": "4NFfdY4NmHSl"
      },
      "source": [
        "teste.sort_values(\"data-hora\", inplace=True)\n",
        "\n",
        "# Neste caso, removi as três ultimas horas pois não teriamos informações na tabela de Y_Train\n",
        "X = teste.drop(columns=['velocidade-vento-50m', 'data-hora'])\n",
        "X_train_teste = X[:-3]\n",
        "\n",
        "# Utilizei uma lógica simples: por conta dos dados serem contínuos e salvo por hora, apenas ordenei por data e hora e iniciei o dataset apenas da terceita linha, ou seja, 3 horas a mais que o X_train\n",
        "Y_train_teste = teste[['velocidade-vento-50m']][3:].reset_index().drop(columns='index')"
      ],
      "execution_count": null,
      "outputs": []
    },
    {
      "cell_type": "code",
      "metadata": {
        "id": "qOs-5rJ4mHXG"
      },
      "source": [
        "# Y_train_test = to_categorical(Y_train)"
      ],
      "execution_count": null,
      "outputs": []
    },
    {
      "cell_type": "code",
      "metadata": {
        "id": "pDMWCpkTmHY1"
      },
      "source": [
        "random_seed = 2\n",
        "X_train_test, X_val_test, Y_train_test, Y_val_test = train_test_split(X_train, Y_train, test_size = 0.1, random_state=random_seed)"
      ],
      "execution_count": null,
      "outputs": []
    },
    {
      "cell_type": "markdown",
      "metadata": {
        "id": "b9BoDMrKn9Y5"
      },
      "source": [
        "### Escalonando os dados de entrada"
      ]
    },
    {
      "cell_type": "code",
      "metadata": {
        "id": "dwyWSW0kmHhm"
      },
      "source": [
        "# Normalize the data\n",
        "X_train = X_train / 255.0\n",
        "test = test / 255.0"
      ],
      "execution_count": null,
      "outputs": []
    },
    {
      "cell_type": "code",
      "metadata": {
        "id": "tcDkEOX3mHgC"
      },
      "source": [
        ""
      ],
      "execution_count": null,
      "outputs": []
    },
    {
      "cell_type": "code",
      "metadata": {
        "id": "gRnN8Ap7oKUE"
      },
      "source": [
        ""
      ],
      "execution_count": null,
      "outputs": []
    },
    {
      "cell_type": "code",
      "metadata": {
        "id": "XW76fiVboKWO"
      },
      "source": [
        "import pickle\n",
        "\n",
        "output = open('modelo_final.pkl', 'wb')\n",
        "pickle.dump(X_train, output)\n",
        "output.close()"
      ],
      "execution_count": null,
      "outputs": []
    },
    {
      "cell_type": "code",
      "metadata": {
        "id": "-sDbImZaoKYb"
      },
      "source": [
        ""
      ],
      "execution_count": null,
      "outputs": []
    },
    {
      "cell_type": "code",
      "metadata": {
        "id": "OMVeVyr2oKax"
      },
      "source": [
        ""
      ],
      "execution_count": null,
      "outputs": []
    },
    {
      "cell_type": "code",
      "metadata": {
        "id": "qkCN3Lg5oKdE"
      },
      "source": [
        ""
      ],
      "execution_count": null,
      "outputs": []
    },
    {
      "cell_type": "code",
      "metadata": {
        "id": "KDHHrziLoKiB"
      },
      "source": [
        ""
      ],
      "execution_count": null,
      "outputs": []
    },
    {
      "cell_type": "code",
      "metadata": {
        "id": "NTwzPZI_oKjc"
      },
      "source": [
        ""
      ],
      "execution_count": null,
      "outputs": []
    },
    {
      "cell_type": "code",
      "metadata": {
        "id": "iG_yOfPfoKky"
      },
      "source": [
        ""
      ],
      "execution_count": null,
      "outputs": []
    },
    {
      "cell_type": "code",
      "metadata": {
        "id": "TJaRxCNFoKnR"
      },
      "source": [
        ""
      ],
      "execution_count": null,
      "outputs": []
    },
    {
      "cell_type": "markdown",
      "metadata": {
        "id": "QhZ00bJUoM_h"
      },
      "source": [
        "### Lixo"
      ]
    },
    {
      "cell_type": "code",
      "metadata": {
        "id": "X2ohgkQDfDaB"
      },
      "source": [
        "num_classes = len(X)\n",
        "model = tf.keras.Sequential()\n",
        "model.add(tf.keras.layers.Dense(25, activation=tf.nn.relu))\n",
        "model.add(tf.keras.layers.Dense(25, activation=tf.nn.relu))\n",
        "model.add(tf.keras.layers.Dense(num_classes, activation=tf.nn.softmax))\n",
        "model.compile(optimizer='adam', loss='categorical_crossentropy', metrics=['accuracy'])"
      ],
      "execution_count": null,
      "outputs": []
    },
    {
      "cell_type": "code",
      "metadata": {
        "id": "QCMdCe0Ai9Kw",
        "colab": {
          "base_uri": "https://localhost:8080/"
        },
        "outputId": "e2c43401-56c6-4c69-fe3d-0305d1147bda"
      },
      "source": [
        "optimizer = RMSprop(lr=0.001, rho=0.9, epsilon=1e-08, decay=0.0)\n",
        "model.compile(optimizer = optimizer , loss = \"categorical_crossentropy\", metrics=[\"accuracy\"])"
      ],
      "execution_count": null,
      "outputs": [
        {
          "output_type": "stream",
          "text": [
            "/usr/local/lib/python3.7/dist-packages/tensorflow/python/keras/optimizer_v2/optimizer_v2.py:375: UserWarning: The `lr` argument is deprecated, use `learning_rate` instead.\n",
            "  \"The `lr` argument is deprecated, use `learning_rate` instead.\")\n"
          ],
          "name": "stderr"
        }
      ]
    },
    {
      "cell_type": "code",
      "metadata": {
        "id": "u6z1uctJi9M6"
      },
      "source": [
        "teste = model.predict(X_val)"
      ],
      "execution_count": null,
      "outputs": []
    },
    {
      "cell_type": "code",
      "metadata": {
        "id": "rZdnGs1Gi9PE"
      },
      "source": [
        ""
      ],
      "execution_count": null,
      "outputs": []
    },
    {
      "cell_type": "code",
      "metadata": {
        "id": "L2O1y3Izi9Tk"
      },
      "source": [
        ""
      ],
      "execution_count": null,
      "outputs": []
    },
    {
      "cell_type": "code",
      "metadata": {
        "id": "JflUxF4ofDbn"
      },
      "source": [
        ""
      ],
      "execution_count": null,
      "outputs": []
    },
    {
      "cell_type": "code",
      "metadata": {
        "id": "bv7oCRRCVcmN"
      },
      "source": [
        ""
      ],
      "execution_count": null,
      "outputs": []
    },
    {
      "cell_type": "code",
      "metadata": {
        "id": "zu-sybciVcoV"
      },
      "source": [
        "import pickle\n",
        "\n",
        "output = open('modelo_final', 'wb')\n",
        "pickle.dump(modelo, output)\n",
        "output.close()"
      ],
      "execution_count": null,
      "outputs": []
    },
    {
      "cell_type": "code",
      "metadata": {
        "id": "WNBzX5PoVctb"
      },
      "source": [
        ""
      ],
      "execution_count": null,
      "outputs": []
    },
    {
      "cell_type": "code",
      "metadata": {
        "id": "aR3jcHqW3HLc"
      },
      "source": [
        "num_classes = len(X)\n",
        "model = tf.keras.Sequential()\n",
        "model.add(tf.keras.layers.Dense(25, activation=tf.nn.relu))\n",
        "model.add(tf.keras.layers.Dense(25, activation=tf.nn.relu))\n",
        "model.add(tf.keras.layers.Dense(num_classes, activation=tf.nn.softmax))\n",
        "model.compile(optimizer='adam', loss='categorical_crossentropy', metrics=['accuracy'])\n"
      ],
      "execution_count": null,
      "outputs": []
    },
    {
      "cell_type": "code",
      "metadata": {
        "id": "JlF-w2kpa68c"
      },
      "source": [
        "# model.fit(X, y, epochs=600, batch_size=2)\n",
        "\n",
        "\n",
        "#model.save('model.h5')\n",
        "#with open ('preprocessor.pkl', 'wb') as f:\n",
        "#  pickle.dump(scaler, f)"
      ],
      "execution_count": null,
      "outputs": []
    },
    {
      "cell_type": "code",
      "metadata": {
        "id": "qEepImc4GYAt"
      },
      "source": [
        ""
      ],
      "execution_count": null,
      "outputs": []
    },
    {
      "cell_type": "code",
      "metadata": {
        "id": "Hmax3p36GYC1"
      },
      "source": [
        ""
      ],
      "execution_count": null,
      "outputs": []
    },
    {
      "cell_type": "code",
      "metadata": {
        "id": "OCulX5y1GYFC"
      },
      "source": [
        ""
      ],
      "execution_count": null,
      "outputs": []
    },
    {
      "cell_type": "code",
      "metadata": {
        "id": "vlv5O3bEGYIS"
      },
      "source": [
        ""
      ],
      "execution_count": null,
      "outputs": []
    },
    {
      "cell_type": "code",
      "metadata": {
        "id": "nEiWlbTdGYJf"
      },
      "source": [
        ""
      ],
      "execution_count": null,
      "outputs": []
    },
    {
      "cell_type": "code",
      "metadata": {
        "id": "UHuUfJtcGYLl"
      },
      "source": [
        ""
      ],
      "execution_count": null,
      "outputs": []
    },
    {
      "cell_type": "code",
      "metadata": {
        "id": "2qIjxYqHGYPV"
      },
      "source": [
        ""
      ],
      "execution_count": null,
      "outputs": []
    },
    {
      "cell_type": "code",
      "metadata": {
        "id": "8S6j0LZIGYRV"
      },
      "source": [
        ""
      ],
      "execution_count": null,
      "outputs": []
    },
    {
      "cell_type": "code",
      "metadata": {
        "id": "tO3bFsUjChqm"
      },
      "source": [
        "model = Sequential([\n",
        "                    Dense(16, input_shape=(1,), activation='relu'),\n",
        "                    Dense(32, activation='relu'),\n",
        "                    Dense(2, activation='sigmoid')\n",
        "                    ])"
      ],
      "execution_count": null,
      "outputs": []
    },
    {
      "cell_type": "code",
      "metadata": {
        "id": "PrWerRhKC4sM"
      },
      "source": [
        "model.compile(Adam(learning_rate=.0001), loss='sparse_categorical_crossentropy', metrics=['accuracy'])"
      ],
      "execution_count": null,
      "outputs": []
    },
    {
      "cell_type": "code",
      "metadata": {
        "id": "Mv6qde_XDREK",
        "colab": {
          "base_uri": "https://localhost:8080/",
          "height": 35
        },
        "outputId": "040d01e6-2275-49cc-e792-42894d826b87"
      },
      "source": [
        "model.loss= 'sparse_categorical_crossentropy'\n",
        "model.loss"
      ],
      "execution_count": null,
      "outputs": [
        {
          "output_type": "execute_result",
          "data": {
            "application/vnd.google.colaboratory.intrinsic+json": {
              "type": "string"
            },
            "text/plain": [
              "'sparse_categorical_crossentropy'"
            ]
          },
          "metadata": {
            "tags": []
          },
          "execution_count": 58
        }
      ]
    },
    {
      "cell_type": "code",
      "metadata": {
        "id": "R6-S1n39DRLs"
      },
      "source": [
        ""
      ],
      "execution_count": null,
      "outputs": []
    },
    {
      "cell_type": "code",
      "metadata": {
        "id": "jL3_GnQ5FYLE"
      },
      "source": [
        ""
      ],
      "execution_count": null,
      "outputs": []
    },
    {
      "cell_type": "code",
      "metadata": {
        "id": "0wU-YevMDRPd"
      },
      "source": [
        ""
      ],
      "execution_count": null,
      "outputs": []
    },
    {
      "cell_type": "code",
      "metadata": {
        "id": "Rc4oATHnauH5"
      },
      "source": [
        ""
      ],
      "execution_count": null,
      "outputs": []
    },
    {
      "cell_type": "code",
      "metadata": {
        "id": "tl-ulkf54vNK"
      },
      "source": [
        ""
      ],
      "execution_count": null,
      "outputs": []
    },
    {
      "cell_type": "code",
      "metadata": {
        "id": "wlp4cHNN3dab"
      },
      "source": [
        ""
      ],
      "execution_count": null,
      "outputs": []
    },
    {
      "cell_type": "code",
      "metadata": {
        "id": "zKURtc6o3eKm"
      },
      "source": [
        ""
      ],
      "execution_count": null,
      "outputs": []
    },
    {
      "cell_type": "code",
      "metadata": {
        "id": "uV7eOhVX_Sd_"
      },
      "source": [
        ""
      ],
      "execution_count": null,
      "outputs": []
    }
  ]
}