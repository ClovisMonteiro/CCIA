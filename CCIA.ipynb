{
  "nbformat": 4,
  "nbformat_minor": 0,
  "metadata": {
    "kernelspec": {
      "display_name": "Python 3",
      "language": "python",
      "name": "python3"
    },
    "language_info": {
      "codemirror_mode": {
        "name": "ipython",
        "version": 3
      },
      "file_extension": ".py",
      "mimetype": "text/x-python",
      "name": "python",
      "nbconvert_exporter": "python",
      "pygments_lexer": "ipython3",
      "version": "3.8.3"
    },
    "colab": {
      "name": "CCIA.ipynb",
      "provenance": [],
      "include_colab_link": true
    }
  },
  "cells": [
    {
      "cell_type": "markdown",
      "metadata": {
        "id": "view-in-github",
        "colab_type": "text"
      },
      "source": [
        "<a href=\"https://colab.research.google.com/github/ClovisMonteiro/CCIA/blob/main/CCIA.ipynb\" target=\"_parent\"><img src=\"https://colab.research.google.com/assets/colab-badge.svg\" alt=\"Open In Colab\"/></a>"
      ]
    },
    {
      "cell_type": "markdown",
      "metadata": {
        "id": "AF43dL_yYviC"
      },
      "source": [
        "# PROCESSO SELETIVO CCIA – HACKATON\n",
        "\n",
        "## Projeto prático para demonstrar conhecimentos na área de Ciência de Dados utilizando a linguagem de programação Python\n",
        "\n",
        "##### Por Clovis Monteiro da Silva Filho\n",
        "\n",
        "Objetivo: Realizar a criação de um modelo de previsão da velocidade do vento a 50 metros de altura para 3h à frente a partir de dados de torres anemométricas da plataforma SONDA – Estação de Petrolina."
      ]
    },
    {
      "cell_type": "markdown",
      "metadata": {
        "id": "h4ilF4uUYviH"
      },
      "source": [
        "# ETAPA 1 "
      ]
    },
    {
      "cell_type": "code",
      "metadata": {
        "id": "TqpyjDT9YviI"
      },
      "source": [
        "# importando bibliotecas necessárias para o tratamento dos dados\n",
        "\n",
        "import pandas as pd\n",
        "import os"
      ],
      "execution_count": null,
      "outputs": []
    },
    {
      "cell_type": "code",
      "metadata": {
        "scrolled": true,
        "colab": {
          "base_uri": "https://localhost:8080/"
        },
        "id": "akip-HoFYviJ",
        "outputId": "e2a3ea63-f8ed-493a-fc4f-6d51ce6af308"
      },
      "source": [
        "os.listdir(\"./\")"
      ],
      "execution_count": null,
      "outputs": [
        {
          "output_type": "execute_result",
          "data": {
            "text/plain": [
              "['.config', 'teste.csv', 'treino.csv', 'sample_data']"
            ]
          },
          "metadata": {
            "tags": []
          },
          "execution_count": 2
        }
      ]
    },
    {
      "cell_type": "markdown",
      "metadata": {
        "id": "diis-Y3_YviK"
      },
      "source": [
        "### • Lendo os arquivos de dados"
      ]
    },
    {
      "cell_type": "code",
      "metadata": {
        "id": "jfFCd276YviL"
      },
      "source": [
        "# Abrindo o arquivo de treino\n",
        "treino = pd.read_csv(\"treino.csv\", sep=',', encoding='utf-8')"
      ],
      "execution_count": null,
      "outputs": []
    },
    {
      "cell_type": "code",
      "metadata": {
        "colab": {
          "base_uri": "https://localhost:8080/"
        },
        "id": "kCGlnSxaYviL",
        "outputId": "0aaea65f-0bcb-4309-d704-e50e7e119d21"
      },
      "source": [
        "# Verificando o tipo de cada coluna\n",
        "treino.dtypes"
      ],
      "execution_count": null,
      "outputs": [
        {
          "output_type": "execute_result",
          "data": {
            "text/plain": [
              "ano                       int64\n",
              "dia                       int64\n",
              "data-hora                object\n",
              "minuto                    int64\n",
              "velocidde-vento-25m     float64\n",
              "direcao-vento-25m       float64\n",
              "temperatura-25m         float64\n",
              "velocidade-vento-50m    float64\n",
              "direcao-vento-50m       float64\n",
              "temratura-50m           float64\n",
              "dtype: object"
            ]
          },
          "metadata": {
            "tags": []
          },
          "execution_count": 26
        }
      ]
    },
    {
      "cell_type": "code",
      "metadata": {
        "id": "Xly2-7NPYviM"
      },
      "source": [
        "teste = pd.read_csv(\"teste.csv\", sep=',', encoding='utf-8')"
      ],
      "execution_count": null,
      "outputs": []
    },
    {
      "cell_type": "code",
      "metadata": {
        "colab": {
          "base_uri": "https://localhost:8080/"
        },
        "id": "G2fnPh3NYviN",
        "outputId": "360bca8e-5c6c-4ed5-ecfc-6a29f0491227"
      },
      "source": [
        "teste.dtypes"
      ],
      "execution_count": null,
      "outputs": [
        {
          "output_type": "execute_result",
          "data": {
            "text/plain": [
              "ano                       int64\n",
              "dia                       int64\n",
              "data-hora                object\n",
              "minuto                    int64\n",
              "velocidde-vento-25m     float64\n",
              "direcao-vento-25m       float64\n",
              "temperatura-25m         float64\n",
              "velocidade-vento-50m    float64\n",
              "direcao-vento-50m       float64\n",
              "temratura-50m           float64\n",
              "dtype: object"
            ]
          },
          "metadata": {
            "tags": []
          },
          "execution_count": 6
        }
      ]
    },
    {
      "cell_type": "markdown",
      "metadata": {
        "id": "KVXUlwv3YviN"
      },
      "source": [
        "### • Alterando o nome das colunas colunas “temratura-50m” e “velocidde-vento-25m” para “temperatura-50m” e “velocidade-vento-25m”"
      ]
    },
    {
      "cell_type": "code",
      "metadata": {
        "id": "bqCDouS-YviO"
      },
      "source": [
        "treino.rename(columns={'temratura-50m': 'temperatura-50m', 'velocidde-vento-25m':'velocidade-vento-25m'}, inplace=True)"
      ],
      "execution_count": null,
      "outputs": []
    },
    {
      "cell_type": "code",
      "metadata": {
        "id": "Ne1fzZTLYviO"
      },
      "source": [
        "teste.rename(columns={'temratura-50m': 'temperatura-50m', 'velocidde-vento-25m':'velocidade-vento-25m'}, inplace=True)"
      ],
      "execution_count": null,
      "outputs": []
    },
    {
      "cell_type": "markdown",
      "metadata": {
        "id": "9nI40pNBYviP"
      },
      "source": [
        "### •\tExiba os 5 primeiros elementos do dataset de treino e de teste"
      ]
    },
    {
      "cell_type": "code",
      "metadata": {
        "colab": {
          "base_uri": "https://localhost:8080/",
          "height": 203
        },
        "id": "Sj5WYjYmYviP",
        "outputId": "5a57a290-4a76-4454-dd00-7a29436c5a17"
      },
      "source": [
        "treino.head(5)"
      ],
      "execution_count": null,
      "outputs": [
        {
          "output_type": "execute_result",
          "data": {
            "text/html": [
              "<div>\n",
              "<style scoped>\n",
              "    .dataframe tbody tr th:only-of-type {\n",
              "        vertical-align: middle;\n",
              "    }\n",
              "\n",
              "    .dataframe tbody tr th {\n",
              "        vertical-align: top;\n",
              "    }\n",
              "\n",
              "    .dataframe thead th {\n",
              "        text-align: right;\n",
              "    }\n",
              "</style>\n",
              "<table border=\"1\" class=\"dataframe\">\n",
              "  <thead>\n",
              "    <tr style=\"text-align: right;\">\n",
              "      <th></th>\n",
              "      <th>ano</th>\n",
              "      <th>dia</th>\n",
              "      <th>data-hora</th>\n",
              "      <th>minuto</th>\n",
              "      <th>velocidade-vento-25m</th>\n",
              "      <th>direcao-vento-25m</th>\n",
              "      <th>temperatura-25m</th>\n",
              "      <th>velocidade-vento-50m</th>\n",
              "      <th>direcao-vento-50m</th>\n",
              "      <th>temperatura-50m</th>\n",
              "      <th>mes</th>\n",
              "    </tr>\n",
              "  </thead>\n",
              "  <tbody>\n",
              "    <tr>\n",
              "      <th>0</th>\n",
              "      <td>2010</td>\n",
              "      <td>1 00:00:00</td>\n",
              "      <td>2010-1-1 00:00:00</td>\n",
              "      <td>0</td>\n",
              "      <td>0.881500</td>\n",
              "      <td>298.333333</td>\n",
              "      <td>24.868333</td>\n",
              "      <td>0.932500</td>\n",
              "      <td>318.233333</td>\n",
              "      <td>24.888333</td>\n",
              "      <td>1</td>\n",
              "    </tr>\n",
              "    <tr>\n",
              "      <th>1</th>\n",
              "      <td>2010</td>\n",
              "      <td>1 01:00:00</td>\n",
              "      <td>2010-1-1 01:00:00</td>\n",
              "      <td>60</td>\n",
              "      <td>1.366167</td>\n",
              "      <td>329.533333</td>\n",
              "      <td>24.826667</td>\n",
              "      <td>1.825333</td>\n",
              "      <td>321.100000</td>\n",
              "      <td>24.858333</td>\n",
              "      <td>1</td>\n",
              "    </tr>\n",
              "    <tr>\n",
              "      <th>2</th>\n",
              "      <td>2010</td>\n",
              "      <td>1 02:00:00</td>\n",
              "      <td>2010-1-1 02:00:00</td>\n",
              "      <td>120</td>\n",
              "      <td>1.118667</td>\n",
              "      <td>290.233333</td>\n",
              "      <td>24.648333</td>\n",
              "      <td>2.170333</td>\n",
              "      <td>276.033333</td>\n",
              "      <td>25.133333</td>\n",
              "      <td>1</td>\n",
              "    </tr>\n",
              "    <tr>\n",
              "      <th>3</th>\n",
              "      <td>2010</td>\n",
              "      <td>1 03:00:00</td>\n",
              "      <td>2010-1-1 03:00:00</td>\n",
              "      <td>180</td>\n",
              "      <td>0.618000</td>\n",
              "      <td>196.950000</td>\n",
              "      <td>23.916667</td>\n",
              "      <td>1.472500</td>\n",
              "      <td>218.800000</td>\n",
              "      <td>24.268333</td>\n",
              "      <td>1</td>\n",
              "    </tr>\n",
              "    <tr>\n",
              "      <th>4</th>\n",
              "      <td>2010</td>\n",
              "      <td>1 04:00:00</td>\n",
              "      <td>2010-1-1 04:00:00</td>\n",
              "      <td>240</td>\n",
              "      <td>1.517833</td>\n",
              "      <td>117.183333</td>\n",
              "      <td>23.740000</td>\n",
              "      <td>2.058333</td>\n",
              "      <td>130.333333</td>\n",
              "      <td>23.801667</td>\n",
              "      <td>1</td>\n",
              "    </tr>\n",
              "  </tbody>\n",
              "</table>\n",
              "</div>"
            ],
            "text/plain": [
              "    ano         dia          data-hora  ...  direcao-vento-50m  temperatura-50m  mes\n",
              "0  2010  1 00:00:00  2010-1-1 00:00:00  ...         318.233333        24.888333    1\n",
              "1  2010  1 01:00:00  2010-1-1 01:00:00  ...         321.100000        24.858333    1\n",
              "2  2010  1 02:00:00  2010-1-1 02:00:00  ...         276.033333        25.133333    1\n",
              "3  2010  1 03:00:00  2010-1-1 03:00:00  ...         218.800000        24.268333    1\n",
              "4  2010  1 04:00:00  2010-1-1 04:00:00  ...         130.333333        23.801667    1\n",
              "\n",
              "[5 rows x 11 columns]"
            ]
          },
          "metadata": {
            "tags": []
          },
          "execution_count": 64
        }
      ]
    },
    {
      "cell_type": "code",
      "metadata": {
        "colab": {
          "base_uri": "https://localhost:8080/",
          "height": 203
        },
        "id": "rr9q1xwhYviQ",
        "outputId": "10ec9844-ba9a-40f5-81a8-a2d525bcf65b"
      },
      "source": [
        "teste.head(5)"
      ],
      "execution_count": null,
      "outputs": [
        {
          "output_type": "execute_result",
          "data": {
            "text/html": [
              "<div>\n",
              "<style scoped>\n",
              "    .dataframe tbody tr th:only-of-type {\n",
              "        vertical-align: middle;\n",
              "    }\n",
              "\n",
              "    .dataframe tbody tr th {\n",
              "        vertical-align: top;\n",
              "    }\n",
              "\n",
              "    .dataframe thead th {\n",
              "        text-align: right;\n",
              "    }\n",
              "</style>\n",
              "<table border=\"1\" class=\"dataframe\">\n",
              "  <thead>\n",
              "    <tr style=\"text-align: right;\">\n",
              "      <th></th>\n",
              "      <th>ano</th>\n",
              "      <th>dia</th>\n",
              "      <th>data-hora</th>\n",
              "      <th>minuto</th>\n",
              "      <th>velocidade-vento-25m</th>\n",
              "      <th>direcao-vento-25m</th>\n",
              "      <th>temperatura-25m</th>\n",
              "      <th>velocidade-vento-50m</th>\n",
              "      <th>direcao-vento-50m</th>\n",
              "      <th>temperatura-50m</th>\n",
              "    </tr>\n",
              "  </thead>\n",
              "  <tbody>\n",
              "    <tr>\n",
              "      <th>0</th>\n",
              "      <td>2010</td>\n",
              "      <td>278</td>\n",
              "      <td>2010-10-5 08:00:00</td>\n",
              "      <td>480</td>\n",
              "      <td>3.257333</td>\n",
              "      <td>139.116667</td>\n",
              "      <td>21.621667</td>\n",
              "      <td>4.960833</td>\n",
              "      <td>133.550000</td>\n",
              "      <td>21.283333</td>\n",
              "    </tr>\n",
              "    <tr>\n",
              "      <th>1</th>\n",
              "      <td>2010</td>\n",
              "      <td>278</td>\n",
              "      <td>2010-10-5 09:00:00</td>\n",
              "      <td>540</td>\n",
              "      <td>2.786167</td>\n",
              "      <td>143.883333</td>\n",
              "      <td>22.186667</td>\n",
              "      <td>3.783000</td>\n",
              "      <td>138.800000</td>\n",
              "      <td>21.550000</td>\n",
              "    </tr>\n",
              "    <tr>\n",
              "      <th>2</th>\n",
              "      <td>2010</td>\n",
              "      <td>278</td>\n",
              "      <td>2010-10-5 10:00:00</td>\n",
              "      <td>600</td>\n",
              "      <td>5.204167</td>\n",
              "      <td>144.983333</td>\n",
              "      <td>23.358333</td>\n",
              "      <td>6.489667</td>\n",
              "      <td>140.066667</td>\n",
              "      <td>22.695000</td>\n",
              "    </tr>\n",
              "    <tr>\n",
              "      <th>3</th>\n",
              "      <td>2010</td>\n",
              "      <td>278</td>\n",
              "      <td>2010-10-5 11:00:00</td>\n",
              "      <td>660</td>\n",
              "      <td>5.404333</td>\n",
              "      <td>133.116667</td>\n",
              "      <td>25.068333</td>\n",
              "      <td>6.390000</td>\n",
              "      <td>128.200000</td>\n",
              "      <td>24.313333</td>\n",
              "    </tr>\n",
              "    <tr>\n",
              "      <th>4</th>\n",
              "      <td>2010</td>\n",
              "      <td>278</td>\n",
              "      <td>2010-10-5 12:00:00</td>\n",
              "      <td>720</td>\n",
              "      <td>5.333167</td>\n",
              "      <td>139.266667</td>\n",
              "      <td>26.551667</td>\n",
              "      <td>6.098167</td>\n",
              "      <td>134.283333</td>\n",
              "      <td>25.748333</td>\n",
              "    </tr>\n",
              "  </tbody>\n",
              "</table>\n",
              "</div>"
            ],
            "text/plain": [
              "    ano  dia  ... direcao-vento-50m  temperatura-50m\n",
              "0  2010  278  ...        133.550000        21.283333\n",
              "1  2010  278  ...        138.800000        21.550000\n",
              "2  2010  278  ...        140.066667        22.695000\n",
              "3  2010  278  ...        128.200000        24.313333\n",
              "4  2010  278  ...        134.283333        25.748333\n",
              "\n",
              "[5 rows x 10 columns]"
            ]
          },
          "metadata": {
            "tags": []
          },
          "execution_count": 65
        }
      ]
    },
    {
      "cell_type": "markdown",
      "metadata": {
        "id": "QL8ZOdzAYviQ"
      },
      "source": [
        "### • Exibindo a quantidade total de elementos nas tabelas e a média dos valores da coluna velocidade-vento-50m"
      ]
    },
    {
      "cell_type": "code",
      "metadata": {
        "colab": {
          "base_uri": "https://localhost:8080/"
        },
        "id": "boSdlkbBYviQ",
        "outputId": "d91036ed-5a6d-4c9e-da4b-ed01c0d64bd4"
      },
      "source": [
        "#Quantidade total de elementos nas tabelas\n",
        "\n",
        "print(\"O arquivo de treino possui:\"+ str(treino.shape[0]) + \" linhas e \" + str(treino.shape[1]) + \" colunas. \")\n",
        "print(\"O arquivo de teste possui:\"+ str(teste.shape[0]) + \" linhas e \" + str(teste.shape[1]) + \" colunas. \")"
      ],
      "execution_count": null,
      "outputs": [
        {
          "output_type": "stream",
          "text": [
            "O arquivo de treino possui:6656 linhas e 11 colunas. \n",
            "O arquivo de teste possui:1000 linhas e 10 colunas. \n"
          ],
          "name": "stdout"
        }
      ]
    },
    {
      "cell_type": "code",
      "metadata": {
        "colab": {
          "base_uri": "https://localhost:8080/"
        },
        "id": "ZROHe_ZGYviR",
        "outputId": "b8a394f3-dc9b-419a-b6e2-26ba50df26a2"
      },
      "source": [
        "# Média dos valores da coluna  \"velocidade-vento-50m\"\n",
        "\n",
        "print(\"Dataset de treino possui a coluna 'velocidade-vento-50m' com média : %.2f\" % treino['velocidade-vento-50m'].mean() +\".\")"
      ],
      "execution_count": null,
      "outputs": [
        {
          "output_type": "stream",
          "text": [
            "Dataset de treino possui a coluna 'velocidade-vento-50m' com média : 5.02.\n"
          ],
          "name": "stdout"
        }
      ]
    },
    {
      "cell_type": "code",
      "metadata": {
        "colab": {
          "base_uri": "https://localhost:8080/"
        },
        "id": "qAutWeI-YviR",
        "outputId": "ad391d5f-8f2e-47a8-d73d-823309d261f1"
      },
      "source": [
        "print(\"Dataset de teste possui a coluna 'velocidade-vento-50m' com média : %.2f\" % teste['velocidade-vento-50m'].mean() +\".\")"
      ],
      "execution_count": null,
      "outputs": [
        {
          "output_type": "stream",
          "text": [
            "Dataset de teste possui a coluna 'velocidade-vento-50m' com média : 5.02.\n"
          ],
          "name": "stdout"
        }
      ]
    },
    {
      "cell_type": "code",
      "metadata": {
        "colab": {
          "base_uri": "https://localhost:8080/"
        },
        "id": "x3jvTmt1YviS",
        "outputId": "67a79d3d-74ce-4749-80bc-115fef5f5bbb"
      },
      "source": [
        "# Exibindo médias completas e separadas\n",
        "teste['velocidade-vento-50m'].mean()"
      ],
      "execution_count": null,
      "outputs": [
        {
          "output_type": "execute_result",
          "data": {
            "text/plain": [
              "5.022554333333336"
            ]
          },
          "metadata": {
            "tags": []
          },
          "execution_count": 69
        }
      ]
    },
    {
      "cell_type": "code",
      "metadata": {
        "colab": {
          "base_uri": "https://localhost:8080/"
        },
        "id": "9ulyavEJYviT",
        "outputId": "565bb5ea-3a2d-47ef-83ef-6f1dca292bf8"
      },
      "source": [
        "treino['velocidade-vento-50m'].mean()"
      ],
      "execution_count": null,
      "outputs": [
        {
          "output_type": "execute_result",
          "data": {
            "text/plain": [
              "5.016940604967936"
            ]
          },
          "metadata": {
            "tags": []
          },
          "execution_count": 70
        }
      ]
    },
    {
      "cell_type": "markdown",
      "metadata": {
        "id": "_rLjGTMFYviT"
      },
      "source": [
        "## •\tExiba qual Data apresentou o maior valor de velocidade-vento-50m;"
      ]
    },
    {
      "cell_type": "markdown",
      "metadata": {
        "id": "DWh6aDAOYviU"
      },
      "source": [
        "A melhor lógica pensada para esse caso foi ordenar a tabela do maior para o melhor e consultar o maior valor existente na coluna, em seguida pegar o dado na coluna de hora"
      ]
    },
    {
      "cell_type": "code",
      "metadata": {
        "colab": {
          "base_uri": "https://localhost:8080/"
        },
        "id": "rl2rxPbRYviU",
        "outputId": "87b2a4c2-c4bc-45fc-a9c1-15d200fa1e1e"
      },
      "source": [
        "# verificando qual é o maior valor existente no dataset de treino\n",
        "treino['velocidade-vento-50m'].sort_values(ascending=False)"
      ],
      "execution_count": null,
      "outputs": [
        {
          "output_type": "execute_result",
          "data": {
            "text/plain": [
              "6085    10.521667\n",
              "1178    10.276667\n",
              "1177    10.056667\n",
              "6359    10.020000\n",
              "1198     9.990833\n",
              "          ...    \n",
              "2096     0.364667\n",
              "947      0.358500\n",
              "3201     0.339667\n",
              "20       0.334500\n",
              "48       0.097167\n",
              "Name: velocidade-vento-50m, Length: 6656, dtype: float64"
            ]
          },
          "metadata": {
            "tags": []
          },
          "execution_count": 71
        }
      ]
    },
    {
      "cell_type": "code",
      "metadata": {
        "colab": {
          "base_uri": "https://localhost:8080/",
          "height": 80
        },
        "id": "CcAxk77jYviU",
        "outputId": "b558d573-1161-4aee-ad55-477c450ae846"
      },
      "source": [
        "# mostrando as informações do maior valor\n",
        "treino.loc[6085:6085]"
      ],
      "execution_count": null,
      "outputs": [
        {
          "output_type": "execute_result",
          "data": {
            "text/html": [
              "<div>\n",
              "<style scoped>\n",
              "    .dataframe tbody tr th:only-of-type {\n",
              "        vertical-align: middle;\n",
              "    }\n",
              "\n",
              "    .dataframe tbody tr th {\n",
              "        vertical-align: top;\n",
              "    }\n",
              "\n",
              "    .dataframe thead th {\n",
              "        text-align: right;\n",
              "    }\n",
              "</style>\n",
              "<table border=\"1\" class=\"dataframe\">\n",
              "  <thead>\n",
              "    <tr style=\"text-align: right;\">\n",
              "      <th></th>\n",
              "      <th>ano</th>\n",
              "      <th>dia</th>\n",
              "      <th>data-hora</th>\n",
              "      <th>minuto</th>\n",
              "      <th>velocidade-vento-25m</th>\n",
              "      <th>direcao-vento-25m</th>\n",
              "      <th>temperatura-25m</th>\n",
              "      <th>velocidade-vento-50m</th>\n",
              "      <th>direcao-vento-50m</th>\n",
              "      <th>temperatura-50m</th>\n",
              "      <th>mes</th>\n",
              "    </tr>\n",
              "  </thead>\n",
              "  <tbody>\n",
              "    <tr>\n",
              "      <th>6085</th>\n",
              "      <td>2010</td>\n",
              "      <td>11 13:00:00</td>\n",
              "      <td>2010-9-11 13:00:00</td>\n",
              "      <td>780</td>\n",
              "      <td>8.553333</td>\n",
              "      <td>160.916667</td>\n",
              "      <td>22.681667</td>\n",
              "      <td>10.521667</td>\n",
              "      <td>156.2</td>\n",
              "      <td>21.91</td>\n",
              "      <td>9</td>\n",
              "    </tr>\n",
              "  </tbody>\n",
              "</table>\n",
              "</div>"
            ],
            "text/plain": [
              "       ano          dia  ... temperatura-50m  mes\n",
              "6085  2010  11 13:00:00  ...           21.91    9\n",
              "\n",
              "[1 rows x 11 columns]"
            ]
          },
          "metadata": {
            "tags": []
          },
          "execution_count": 72
        }
      ]
    },
    {
      "cell_type": "code",
      "metadata": {
        "colab": {
          "base_uri": "https://localhost:8080/",
          "height": 35
        },
        "id": "xGrzMQhHYviV",
        "outputId": "e4273bbb-8050-4467-f724-612d6194a2ec"
      },
      "source": [
        "treino.iloc[6085]['data-hora']"
      ],
      "execution_count": null,
      "outputs": [
        {
          "output_type": "execute_result",
          "data": {
            "application/vnd.google.colaboratory.intrinsic+json": {
              "type": "string"
            },
            "text/plain": [
              "'2010-9-11 13:00:00'"
            ]
          },
          "metadata": {
            "tags": []
          },
          "execution_count": 73
        }
      ]
    },
    {
      "cell_type": "code",
      "metadata": {
        "colab": {
          "base_uri": "https://localhost:8080/"
        },
        "id": "N6n7uckMYviV",
        "outputId": "65590a4a-9b3c-4d5a-cbd9-3012d98158f4"
      },
      "source": [
        "print(\" A data que apresentou maior valor de velocidade foi: \" + treino.iloc[6085]['data-hora'][0:10]+\".\")"
      ],
      "execution_count": null,
      "outputs": [
        {
          "output_type": "stream",
          "text": [
            " A data que apresentou maior valor de velocidade foi: 2010-9-11 .\n"
          ],
          "name": "stdout"
        }
      ]
    },
    {
      "cell_type": "code",
      "metadata": {
        "colab": {
          "base_uri": "https://localhost:8080/"
        },
        "id": "zqwhud-xYviV",
        "outputId": "938a4ac3-e55d-46ff-9085-f52ff8c57055"
      },
      "source": [
        "# verificando qual é o maior valor existente no dataset de teste\n",
        "\n",
        "teste['velocidade-vento-50m'].sort_values(ascending=False)"
      ],
      "execution_count": null,
      "outputs": [
        {
          "output_type": "execute_result",
          "data": {
            "text/plain": [
              "517    9.985000\n",
              "209    9.765000\n",
              "844    9.586667\n",
              "833    9.483333\n",
              "233    9.456667\n",
              "         ...   \n",
              "529    0.703833\n",
              "972    0.701167\n",
              "571    0.588167\n",
              "365    0.577000\n",
              "526    0.269833\n",
              "Name: velocidade-vento-50m, Length: 1000, dtype: float64"
            ]
          },
          "metadata": {
            "tags": []
          },
          "execution_count": 75
        }
      ]
    },
    {
      "cell_type": "code",
      "metadata": {
        "colab": {
          "base_uri": "https://localhost:8080/",
          "height": 80
        },
        "id": "AdwdbgUUYviV",
        "outputId": "8bd8cc7a-4a19-4d8c-d290-7c72bc5cdcbc"
      },
      "source": [
        "treino.loc[517:517]"
      ],
      "execution_count": null,
      "outputs": [
        {
          "output_type": "execute_result",
          "data": {
            "text/html": [
              "<div>\n",
              "<style scoped>\n",
              "    .dataframe tbody tr th:only-of-type {\n",
              "        vertical-align: middle;\n",
              "    }\n",
              "\n",
              "    .dataframe tbody tr th {\n",
              "        vertical-align: top;\n",
              "    }\n",
              "\n",
              "    .dataframe thead th {\n",
              "        text-align: right;\n",
              "    }\n",
              "</style>\n",
              "<table border=\"1\" class=\"dataframe\">\n",
              "  <thead>\n",
              "    <tr style=\"text-align: right;\">\n",
              "      <th></th>\n",
              "      <th>ano</th>\n",
              "      <th>dia</th>\n",
              "      <th>data-hora</th>\n",
              "      <th>minuto</th>\n",
              "      <th>velocidade-vento-25m</th>\n",
              "      <th>direcao-vento-25m</th>\n",
              "      <th>temperatura-25m</th>\n",
              "      <th>velocidade-vento-50m</th>\n",
              "      <th>direcao-vento-50m</th>\n",
              "      <th>temperatura-50m</th>\n",
              "      <th>mes</th>\n",
              "    </tr>\n",
              "  </thead>\n",
              "  <tbody>\n",
              "    <tr>\n",
              "      <th>517</th>\n",
              "      <td>2010</td>\n",
              "      <td>22 13:00:00</td>\n",
              "      <td>2010-1-22 13:00:00</td>\n",
              "      <td>780</td>\n",
              "      <td>4.910333</td>\n",
              "      <td>98.9</td>\n",
              "      <td>27.07</td>\n",
              "      <td>5.557</td>\n",
              "      <td>94.316667</td>\n",
              "      <td>26.295</td>\n",
              "      <td>1</td>\n",
              "    </tr>\n",
              "  </tbody>\n",
              "</table>\n",
              "</div>"
            ],
            "text/plain": [
              "      ano          dia  ... temperatura-50m  mes\n",
              "517  2010  22 13:00:00  ...          26.295    1\n",
              "\n",
              "[1 rows x 11 columns]"
            ]
          },
          "metadata": {
            "tags": []
          },
          "execution_count": 76
        }
      ]
    },
    {
      "cell_type": "code",
      "metadata": {
        "colab": {
          "base_uri": "https://localhost:8080/",
          "height": 35
        },
        "id": "hikhJ-5iYviW",
        "outputId": "a95e593f-9d9e-4692-e584-406debfd3e3e"
      },
      "source": [
        "teste.iloc[517]['data-hora']"
      ],
      "execution_count": null,
      "outputs": [
        {
          "output_type": "execute_result",
          "data": {
            "application/vnd.google.colaboratory.intrinsic+json": {
              "type": "string"
            },
            "text/plain": [
              "'2010-10-26 21:00:00'"
            ]
          },
          "metadata": {
            "tags": []
          },
          "execution_count": 77
        }
      ]
    },
    {
      "cell_type": "code",
      "metadata": {
        "colab": {
          "base_uri": "https://localhost:8080/"
        },
        "id": "olCxWldcYviW",
        "outputId": "c916b161-88ae-4409-a04a-d4bd34c947de"
      },
      "source": [
        "print(\" A data que apresentou maior valor de velocidade foi: \" + teste.iloc[517]['data-hora'][0:10]+\".\")"
      ],
      "execution_count": null,
      "outputs": [
        {
          "output_type": "stream",
          "text": [
            " A data que apresentou maior valor de velocidade foi: 2010-10-26.\n"
          ],
          "name": "stdout"
        }
      ]
    },
    {
      "cell_type": "markdown",
      "metadata": {
        "id": "bRJbIn1PYviW"
      },
      "source": [
        "## Análise exploratória dos dados "
      ]
    },
    {
      "cell_type": "code",
      "metadata": {
        "id": "1orlaMZzduci"
      },
      "source": [
        "import matplotlib.pyplot as plt"
      ],
      "execution_count": null,
      "outputs": []
    },
    {
      "cell_type": "code",
      "metadata": {
        "colab": {
          "base_uri": "https://localhost:8080/",
          "height": 295
        },
        "id": "8A-Q4EiOYviW",
        "outputId": "dd33e0c2-3fbe-412e-ce01-7be618b3a808"
      },
      "source": [
        "# Identificando possíveis análises a partir de avaliação estatística\n",
        "treino.describe()"
      ],
      "execution_count": null,
      "outputs": [
        {
          "output_type": "execute_result",
          "data": {
            "text/html": [
              "<div>\n",
              "<style scoped>\n",
              "    .dataframe tbody tr th:only-of-type {\n",
              "        vertical-align: middle;\n",
              "    }\n",
              "\n",
              "    .dataframe tbody tr th {\n",
              "        vertical-align: top;\n",
              "    }\n",
              "\n",
              "    .dataframe thead th {\n",
              "        text-align: right;\n",
              "    }\n",
              "</style>\n",
              "<table border=\"1\" class=\"dataframe\">\n",
              "  <thead>\n",
              "    <tr style=\"text-align: right;\">\n",
              "      <th></th>\n",
              "      <th>ano</th>\n",
              "      <th>minuto</th>\n",
              "      <th>velocidade-vento-25m</th>\n",
              "      <th>direcao-vento-25m</th>\n",
              "      <th>temperatura-25m</th>\n",
              "      <th>velocidade-vento-50m</th>\n",
              "      <th>direcao-vento-50m</th>\n",
              "      <th>temperatura-50m</th>\n",
              "    </tr>\n",
              "  </thead>\n",
              "  <tbody>\n",
              "    <tr>\n",
              "      <th>count</th>\n",
              "      <td>6656.0</td>\n",
              "      <td>6656.000000</td>\n",
              "      <td>6656.000000</td>\n",
              "      <td>6656.000000</td>\n",
              "      <td>6655.000000</td>\n",
              "      <td>6656.000000</td>\n",
              "      <td>6655.000000</td>\n",
              "      <td>6656.000000</td>\n",
              "    </tr>\n",
              "    <tr>\n",
              "      <th>mean</th>\n",
              "      <td>2010.0</td>\n",
              "      <td>689.423077</td>\n",
              "      <td>3.780990</td>\n",
              "      <td>145.418534</td>\n",
              "      <td>26.080820</td>\n",
              "      <td>5.016941</td>\n",
              "      <td>139.766473</td>\n",
              "      <td>25.645969</td>\n",
              "    </tr>\n",
              "    <tr>\n",
              "      <th>std</th>\n",
              "      <td>0.0</td>\n",
              "      <td>415.473115</td>\n",
              "      <td>1.377644</td>\n",
              "      <td>34.336953</td>\n",
              "      <td>3.757746</td>\n",
              "      <td>1.619845</td>\n",
              "      <td>34.142498</td>\n",
              "      <td>3.713573</td>\n",
              "    </tr>\n",
              "    <tr>\n",
              "      <th>min</th>\n",
              "      <td>2010.0</td>\n",
              "      <td>0.000000</td>\n",
              "      <td>-0.007833</td>\n",
              "      <td>6.557000</td>\n",
              "      <td>16.061667</td>\n",
              "      <td>0.097167</td>\n",
              "      <td>12.635333</td>\n",
              "      <td>16.185000</td>\n",
              "    </tr>\n",
              "    <tr>\n",
              "      <th>25%</th>\n",
              "      <td>2010.0</td>\n",
              "      <td>300.000000</td>\n",
              "      <td>2.801167</td>\n",
              "      <td>129.045833</td>\n",
              "      <td>23.250000</td>\n",
              "      <td>3.950958</td>\n",
              "      <td>124.326667</td>\n",
              "      <td>22.845000</td>\n",
              "    </tr>\n",
              "    <tr>\n",
              "      <th>50%</th>\n",
              "      <td>2010.0</td>\n",
              "      <td>660.000000</td>\n",
              "      <td>3.656417</td>\n",
              "      <td>143.908333</td>\n",
              "      <td>25.728333</td>\n",
              "      <td>5.022417</td>\n",
              "      <td>138.533333</td>\n",
              "      <td>25.295833</td>\n",
              "    </tr>\n",
              "    <tr>\n",
              "      <th>75%</th>\n",
              "      <td>2010.0</td>\n",
              "      <td>1020.000000</td>\n",
              "      <td>4.745625</td>\n",
              "      <td>158.487500</td>\n",
              "      <td>28.778333</td>\n",
              "      <td>6.082958</td>\n",
              "      <td>152.025000</td>\n",
              "      <td>28.353333</td>\n",
              "    </tr>\n",
              "    <tr>\n",
              "      <th>max</th>\n",
              "      <td>2010.0</td>\n",
              "      <td>1380.000000</td>\n",
              "      <td>8.553333</td>\n",
              "      <td>351.066667</td>\n",
              "      <td>36.400000</td>\n",
              "      <td>10.521667</td>\n",
              "      <td>346.850000</td>\n",
              "      <td>35.753333</td>\n",
              "    </tr>\n",
              "  </tbody>\n",
              "</table>\n",
              "</div>"
            ],
            "text/plain": [
              "          ano       minuto  ...  direcao-vento-50m  temperatura-50m\n",
              "count  6656.0  6656.000000  ...        6655.000000      6656.000000\n",
              "mean   2010.0   689.423077  ...         139.766473        25.645969\n",
              "std       0.0   415.473115  ...          34.142498         3.713573\n",
              "min    2010.0     0.000000  ...          12.635333        16.185000\n",
              "25%    2010.0   300.000000  ...         124.326667        22.845000\n",
              "50%    2010.0   660.000000  ...         138.533333        25.295833\n",
              "75%    2010.0  1020.000000  ...         152.025000        28.353333\n",
              "max    2010.0  1380.000000  ...         346.850000        35.753333\n",
              "\n",
              "[8 rows x 8 columns]"
            ]
          },
          "metadata": {
            "tags": []
          },
          "execution_count": 79
        }
      ]
    },
    {
      "cell_type": "code",
      "metadata": {
        "colab": {
          "base_uri": "https://localhost:8080/",
          "height": 295
        },
        "id": "zp0QG_4AYviX",
        "outputId": "922e8232-0000-43bb-cdae-bf09cc1b7541"
      },
      "source": [
        "teste.describe()"
      ],
      "execution_count": null,
      "outputs": [
        {
          "output_type": "execute_result",
          "data": {
            "text/html": [
              "<div>\n",
              "<style scoped>\n",
              "    .dataframe tbody tr th:only-of-type {\n",
              "        vertical-align: middle;\n",
              "    }\n",
              "\n",
              "    .dataframe tbody tr th {\n",
              "        vertical-align: top;\n",
              "    }\n",
              "\n",
              "    .dataframe thead th {\n",
              "        text-align: right;\n",
              "    }\n",
              "</style>\n",
              "<table border=\"1\" class=\"dataframe\">\n",
              "  <thead>\n",
              "    <tr style=\"text-align: right;\">\n",
              "      <th></th>\n",
              "      <th>ano</th>\n",
              "      <th>dia</th>\n",
              "      <th>minuto</th>\n",
              "      <th>velocidade-vento-25m</th>\n",
              "      <th>direcao-vento-25m</th>\n",
              "      <th>temperatura-25m</th>\n",
              "      <th>velocidade-vento-50m</th>\n",
              "      <th>direcao-vento-50m</th>\n",
              "      <th>temperatura-50m</th>\n",
              "    </tr>\n",
              "  </thead>\n",
              "  <tbody>\n",
              "    <tr>\n",
              "      <th>count</th>\n",
              "      <td>1000.0</td>\n",
              "      <td>1000.000000</td>\n",
              "      <td>1000.000000</td>\n",
              "      <td>1000.000000</td>\n",
              "      <td>1000.000000</td>\n",
              "      <td>1000.000000</td>\n",
              "      <td>1000.000000</td>\n",
              "      <td>1000.000000</td>\n",
              "      <td>1000.000000</td>\n",
              "    </tr>\n",
              "    <tr>\n",
              "      <th>mean</th>\n",
              "      <td>2010.0</td>\n",
              "      <td>298.664000</td>\n",
              "      <td>693.840000</td>\n",
              "      <td>3.894355</td>\n",
              "      <td>134.224431</td>\n",
              "      <td>27.993528</td>\n",
              "      <td>5.022554</td>\n",
              "      <td>129.178476</td>\n",
              "      <td>27.571610</td>\n",
              "    </tr>\n",
              "    <tr>\n",
              "      <th>std</th>\n",
              "      <td>0.0</td>\n",
              "      <td>12.035279</td>\n",
              "      <td>414.780541</td>\n",
              "      <td>1.321615</td>\n",
              "      <td>44.395029</td>\n",
              "      <td>3.814328</td>\n",
              "      <td>1.592096</td>\n",
              "      <td>44.847802</td>\n",
              "      <td>3.802059</td>\n",
              "    </tr>\n",
              "    <tr>\n",
              "      <th>min</th>\n",
              "      <td>2010.0</td>\n",
              "      <td>278.000000</td>\n",
              "      <td>0.000000</td>\n",
              "      <td>0.522333</td>\n",
              "      <td>17.988000</td>\n",
              "      <td>20.275000</td>\n",
              "      <td>0.269833</td>\n",
              "      <td>11.077000</td>\n",
              "      <td>19.950000</td>\n",
              "    </tr>\n",
              "    <tr>\n",
              "      <th>25%</th>\n",
              "      <td>2010.0</td>\n",
              "      <td>288.000000</td>\n",
              "      <td>360.000000</td>\n",
              "      <td>3.042042</td>\n",
              "      <td>109.887500</td>\n",
              "      <td>24.571667</td>\n",
              "      <td>4.104208</td>\n",
              "      <td>105.408333</td>\n",
              "      <td>24.185833</td>\n",
              "    </tr>\n",
              "    <tr>\n",
              "      <th>50%</th>\n",
              "      <td>2010.0</td>\n",
              "      <td>299.000000</td>\n",
              "      <td>720.000000</td>\n",
              "      <td>3.868333</td>\n",
              "      <td>128.250000</td>\n",
              "      <td>27.837500</td>\n",
              "      <td>5.079333</td>\n",
              "      <td>123.658333</td>\n",
              "      <td>27.325833</td>\n",
              "    </tr>\n",
              "    <tr>\n",
              "      <th>75%</th>\n",
              "      <td>2010.0</td>\n",
              "      <td>309.000000</td>\n",
              "      <td>1080.000000</td>\n",
              "      <td>4.702917</td>\n",
              "      <td>142.620833</td>\n",
              "      <td>31.203333</td>\n",
              "      <td>5.960708</td>\n",
              "      <td>137.091667</td>\n",
              "      <td>30.968750</td>\n",
              "    </tr>\n",
              "    <tr>\n",
              "      <th>max</th>\n",
              "      <td>2010.0</td>\n",
              "      <td>319.000000</td>\n",
              "      <td>1380.000000</td>\n",
              "      <td>8.301667</td>\n",
              "      <td>339.750000</td>\n",
              "      <td>36.205000</td>\n",
              "      <td>9.985000</td>\n",
              "      <td>337.083333</td>\n",
              "      <td>35.411667</td>\n",
              "    </tr>\n",
              "  </tbody>\n",
              "</table>\n",
              "</div>"
            ],
            "text/plain": [
              "          ano          dia  ...  direcao-vento-50m  temperatura-50m\n",
              "count  1000.0  1000.000000  ...        1000.000000      1000.000000\n",
              "mean   2010.0   298.664000  ...         129.178476        27.571610\n",
              "std       0.0    12.035279  ...          44.847802         3.802059\n",
              "min    2010.0   278.000000  ...          11.077000        19.950000\n",
              "25%    2010.0   288.000000  ...         105.408333        24.185833\n",
              "50%    2010.0   299.000000  ...         123.658333        27.325833\n",
              "75%    2010.0   309.000000  ...         137.091667        30.968750\n",
              "max    2010.0   319.000000  ...         337.083333        35.411667\n",
              "\n",
              "[8 rows x 9 columns]"
            ]
          },
          "metadata": {
            "tags": []
          },
          "execution_count": 80
        }
      ]
    },
    {
      "cell_type": "code",
      "metadata": {
        "colab": {
          "base_uri": "https://localhost:8080/",
          "height": 203
        },
        "id": "0COat4NNYviX",
        "outputId": "ebca78eb-1d66-47cb-d0c7-64176003f27a"
      },
      "source": [
        "treino.head()"
      ],
      "execution_count": null,
      "outputs": [
        {
          "output_type": "execute_result",
          "data": {
            "text/html": [
              "<div>\n",
              "<style scoped>\n",
              "    .dataframe tbody tr th:only-of-type {\n",
              "        vertical-align: middle;\n",
              "    }\n",
              "\n",
              "    .dataframe tbody tr th {\n",
              "        vertical-align: top;\n",
              "    }\n",
              "\n",
              "    .dataframe thead th {\n",
              "        text-align: right;\n",
              "    }\n",
              "</style>\n",
              "<table border=\"1\" class=\"dataframe\">\n",
              "  <thead>\n",
              "    <tr style=\"text-align: right;\">\n",
              "      <th></th>\n",
              "      <th>ano</th>\n",
              "      <th>dia</th>\n",
              "      <th>data-hora</th>\n",
              "      <th>minuto</th>\n",
              "      <th>velocidade-vento-25m</th>\n",
              "      <th>direcao-vento-25m</th>\n",
              "      <th>temperatura-25m</th>\n",
              "      <th>velocidade-vento-50m</th>\n",
              "      <th>direcao-vento-50m</th>\n",
              "      <th>temperatura-50m</th>\n",
              "      <th>mes</th>\n",
              "    </tr>\n",
              "  </thead>\n",
              "  <tbody>\n",
              "    <tr>\n",
              "      <th>0</th>\n",
              "      <td>2010</td>\n",
              "      <td>1 00:00:00</td>\n",
              "      <td>2010-1-1 00:00:00</td>\n",
              "      <td>0</td>\n",
              "      <td>0.881500</td>\n",
              "      <td>298.333333</td>\n",
              "      <td>24.868333</td>\n",
              "      <td>0.932500</td>\n",
              "      <td>318.233333</td>\n",
              "      <td>24.888333</td>\n",
              "      <td>1</td>\n",
              "    </tr>\n",
              "    <tr>\n",
              "      <th>1</th>\n",
              "      <td>2010</td>\n",
              "      <td>1 01:00:00</td>\n",
              "      <td>2010-1-1 01:00:00</td>\n",
              "      <td>60</td>\n",
              "      <td>1.366167</td>\n",
              "      <td>329.533333</td>\n",
              "      <td>24.826667</td>\n",
              "      <td>1.825333</td>\n",
              "      <td>321.100000</td>\n",
              "      <td>24.858333</td>\n",
              "      <td>1</td>\n",
              "    </tr>\n",
              "    <tr>\n",
              "      <th>2</th>\n",
              "      <td>2010</td>\n",
              "      <td>1 02:00:00</td>\n",
              "      <td>2010-1-1 02:00:00</td>\n",
              "      <td>120</td>\n",
              "      <td>1.118667</td>\n",
              "      <td>290.233333</td>\n",
              "      <td>24.648333</td>\n",
              "      <td>2.170333</td>\n",
              "      <td>276.033333</td>\n",
              "      <td>25.133333</td>\n",
              "      <td>1</td>\n",
              "    </tr>\n",
              "    <tr>\n",
              "      <th>3</th>\n",
              "      <td>2010</td>\n",
              "      <td>1 03:00:00</td>\n",
              "      <td>2010-1-1 03:00:00</td>\n",
              "      <td>180</td>\n",
              "      <td>0.618000</td>\n",
              "      <td>196.950000</td>\n",
              "      <td>23.916667</td>\n",
              "      <td>1.472500</td>\n",
              "      <td>218.800000</td>\n",
              "      <td>24.268333</td>\n",
              "      <td>1</td>\n",
              "    </tr>\n",
              "    <tr>\n",
              "      <th>4</th>\n",
              "      <td>2010</td>\n",
              "      <td>1 04:00:00</td>\n",
              "      <td>2010-1-1 04:00:00</td>\n",
              "      <td>240</td>\n",
              "      <td>1.517833</td>\n",
              "      <td>117.183333</td>\n",
              "      <td>23.740000</td>\n",
              "      <td>2.058333</td>\n",
              "      <td>130.333333</td>\n",
              "      <td>23.801667</td>\n",
              "      <td>1</td>\n",
              "    </tr>\n",
              "  </tbody>\n",
              "</table>\n",
              "</div>"
            ],
            "text/plain": [
              "    ano         dia          data-hora  ...  direcao-vento-50m  temperatura-50m  mes\n",
              "0  2010  1 00:00:00  2010-1-1 00:00:00  ...         318.233333        24.888333    1\n",
              "1  2010  1 01:00:00  2010-1-1 01:00:00  ...         321.100000        24.858333    1\n",
              "2  2010  1 02:00:00  2010-1-1 02:00:00  ...         276.033333        25.133333    1\n",
              "3  2010  1 03:00:00  2010-1-1 03:00:00  ...         218.800000        24.268333    1\n",
              "4  2010  1 04:00:00  2010-1-1 04:00:00  ...         130.333333        23.801667    1\n",
              "\n",
              "[5 rows x 11 columns]"
            ]
          },
          "metadata": {
            "tags": []
          },
          "execution_count": 81
        }
      ]
    },
    {
      "cell_type": "code",
      "metadata": {
        "id": "v8pPYAQuYviX"
      },
      "source": [
        "mes = treino['data-hora'].str.split(\"-\", expand=True)[1]\n",
        "treino['mes'] = mes\n",
        "df_agp = treino.groupby('mes').mean()\n",
        "df_agp.reset_index(inplace=True)"
      ],
      "execution_count": null,
      "outputs": []
    },
    {
      "cell_type": "code",
      "metadata": {
        "id": "QPFr21tjeUIP"
      },
      "source": [
        "df_agp.mes = df_agp.mes.astype('int')"
      ],
      "execution_count": null,
      "outputs": []
    },
    {
      "cell_type": "code",
      "metadata": {
        "colab": {
          "base_uri": "https://localhost:8080/"
        },
        "id": "D4Y8CfvPejWv",
        "outputId": "2c59f430-226f-43c8-80ee-414dd92635c3"
      },
      "source": [
        "df_agp.dtypes"
      ],
      "execution_count": null,
      "outputs": [
        {
          "output_type": "execute_result",
          "data": {
            "text/plain": [
              "mes                       int64\n",
              "ano                     float64\n",
              "minuto                  float64\n",
              "velocidade-vento-25m    float64\n",
              "direcao-vento-25m       float64\n",
              "temperatura-25m         float64\n",
              "velocidade-vento-50m    float64\n",
              "direcao-vento-50m       float64\n",
              "temperatura-50m         float64\n",
              "dtype: object"
            ]
          },
          "metadata": {
            "tags": []
          },
          "execution_count": 120
        }
      ]
    },
    {
      "cell_type": "code",
      "metadata": {
        "id": "31xw_xmrYviX"
      },
      "source": [
        "df_agp.round(2)\n",
        "\n",
        "df_agp = df_agp.sort_values('mes', ascending='True')"
      ],
      "execution_count": null,
      "outputs": []
    },
    {
      "cell_type": "code",
      "metadata": {
        "colab": {
          "base_uri": "https://localhost:8080/",
          "height": 281
        },
        "id": "lOb66sIrYviX",
        "outputId": "d93db538-fd48-41c2-ac5b-729c10698123"
      },
      "source": [
        "plt.plot(df_agp['mes'], df_agp['velocidade-vento-50m'])\n",
        "plt.title(\"Mês X Velocidade do Vento 50m\")\n",
        "plt.grid(True)\n",
        "plt.show()"
      ],
      "execution_count": null,
      "outputs": [
        {
          "output_type": "display_data",
          "data": {
            "image/png": "[encoded data removed]",
            "text/plain": [
              "<Figure size 432x288 with 1 Axes>"
            ]
          },
          "metadata": {
            "tags": [],
            "needs_background": "light"
          }
        }
      ]
    },
    {
      "cell_type": "code",
      "metadata": {
        "colab": {
          "base_uri": "https://localhost:8080/",
          "height": 281
        },
        "id": "cOi2L4U7YviX",
        "outputId": "52feca8b-6512-48bb-94b5-236d8af75b44"
      },
      "source": [
        "plt.plot(df_agp['mes'], df_agp['temperatura-50m'])\n",
        "plt.title(\"Mês X Temperatura 50m\")\n",
        "plt.grid(True)\n",
        "plt.show()\n"
      ],
      "execution_count": null,
      "outputs": [
        {
          "output_type": "display_data",
          "data": {
            "image/png": "[encoded data removed]",
            "text/plain": [
              "<Figure size 432x288 with 1 Axes>"
            ]
          },
          "metadata": {
            "tags": [],
            "needs_background": "light"
          }
        }
      ]
    },
    {
      "cell_type": "markdown",
      "metadata": {
        "id": "kfmVEHxqfpse"
      },
      "source": [
        "Com a análise anterior, é possível identificar uma forte relação da valocidade do vento com a temperatura. As duas dimensões na tabela são teoricamente inversamente proporcionais. \n",
        "\n",
        "- Quanto maior a temperatura, menor a velocidade do vento.\n",
        "- Quanto menor a temperatura, maior a velocidade do vento.\n",
        "\n",
        "obs.: Trabalhei apenas com valores médios para as análises por mês"
      ]
    },
    {
      "cell_type": "code",
      "metadata": {
        "colab": {
          "base_uri": "https://localhost:8080/",
          "height": 281
        },
        "id": "iGoRMtN5YviX",
        "outputId": "c363d896-852a-4394-d12e-ecd5f6a34375"
      },
      "source": [
        "plt.plot(df_agp['mes'], df_agp['velocidade-vento-25m'])\n",
        "plt.title(\"Mês X Velocidade do Vento 25m\")\n",
        "plt.grid(True)\n",
        "plt.show()"
      ],
      "execution_count": null,
      "outputs": [
        {
          "output_type": "display_data",
          "data": {
            "image/png": "[encoded data removed]",
            "text/plain": [
              "<Figure size 432x288 with 1 Axes>"
            ]
          },
          "metadata": {
            "tags": [],
            "needs_background": "light"
          }
        }
      ]
    },
    {
      "cell_type": "code",
      "metadata": {
        "colab": {
          "base_uri": "https://localhost:8080/",
          "height": 281
        },
        "id": "wVnTlCL7fKr0",
        "outputId": "7bb34d1c-d5ed-4ff0-ac18-51dd18315e7e"
      },
      "source": [
        "plt.plot(df_agp['mes'], df_agp['temperatura-25m'])\n",
        "plt.title(\"Mês X Temperatura 25m\")\n",
        "plt.grid(True)\n",
        "plt.show()"
      ],
      "execution_count": null,
      "outputs": [
        {
          "output_type": "display_data",
          "data": {
            "image/png": "[encoded data removed]",
            "text/plain": [
              "<Figure size 432x288 with 1 Axes>"
            ]
          },
          "metadata": {
            "tags": [],
            "needs_background": "light"
          }
        }
      ]
    },
    {
      "cell_type": "markdown",
      "metadata": {
        "id": "eLxaE-RngZB3"
      },
      "source": [
        "Acabei não me alongando muito por conta das duas etapas seguintes. Mas tem muita coisa que pode ser analisada ainda"
      ]
    },
    {
      "cell_type": "markdown",
      "metadata": {
        "id": "VdYfEz90jwqK"
      },
      "source": [
        "# Etapa 2"
      ]
    },
    {
      "cell_type": "code",
      "metadata": {
        "id": "EUxq_J2hgYUj"
      },
      "source": [
        ""
      ],
      "execution_count": null,
      "outputs": []
    },
    {
      "cell_type": "code",
      "metadata": {
        "id": "4SQRCd95f-0x"
      },
      "source": [
        ""
      ],
      "execution_count": null,
      "outputs": []
    },
    {
      "cell_type": "code",
      "metadata": {
        "id": "HJVTZ2m2jvnk"
      },
      "source": [
        ""
      ],
      "execution_count": null,
      "outputs": []
    }
  ]
}