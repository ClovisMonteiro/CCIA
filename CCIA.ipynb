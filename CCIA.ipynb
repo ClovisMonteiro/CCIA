{
  "nbformat": 4,
  "nbformat_minor": 0,
  "metadata": {
    "colab": {
      "name": "CCIA.ipynb",
      "provenance": [],
      "collapsed_sections": [
        "QL8ZOdzAYviQ",
        "_rLjGTMFYviT",
        "bRJbIn1PYviW",
        "VdYfEz90jwqK",
        "L8Ky-sONKMDy",
        "Z6oXOj2WsKCe",
        "arFRyzJrS5Nq",
        "w9M8XPsWlx21",
        "l8Eyg31MmH2L",
        "EnZ8BJswDuJs"
      ],
      "include_colab_link": true
    },
    "kernelspec": {
      "display_name": "Python 3",
      "language": "python",
      "name": "python3"
    },
    "language_info": {
      "codemirror_mode": {
        "name": "ipython",
        "version": 3
      },
      "file_extension": ".py",
      "mimetype": "text/x-python",
      "name": "python",
      "nbconvert_exporter": "python",
      "pygments_lexer": "ipython3",
      "version": "3.8.3"
    }
  },
  "cells": [
    {
      "cell_type": "markdown",
      "metadata": {
        "id": "view-in-github",
        "colab_type": "text"
      },
      "source": [
        "<a href=\"https://colab.research.google.com/github/ClovisMonteiro/CCIA/blob/main/CCIA.ipynb\" target=\"_parent\"><img src=\"https://colab.research.google.com/assets/colab-badge.svg\" alt=\"Open In Colab\"/></a>"
      ]
    },
    {
      "cell_type": "markdown",
      "metadata": {
        "id": "AF43dL_yYviC"
      },
      "source": [
        "# PROCESSO SELETIVO CCIA – HACKATON\n",
        "\n",
        "## Projeto prático para demonstrar conhecimentos na área de Ciência de Dados utilizando a linguagem de programação Python\n",
        "\n",
        "##### Por Clovis Monteiro da Silva Filho\n",
        "\n",
        "Objetivo: Realizar a criação de um modelo de previsão da velocidade do vento a 50 metros de altura para 3h à frente a partir de dados de torres anemométricas da plataforma SONDA – Estação de Petrolina."
      ]
    },
    {
      "cell_type": "markdown",
      "metadata": {
        "id": "h4ilF4uUYviH"
      },
      "source": [
        "# ETAPA 1 "
      ]
    },
    {
      "cell_type": "code",
      "metadata": {
        "id": "TqpyjDT9YviI"
      },
      "source": [
        "# Carregando os pacores necessários para o tratamento dos dados\n",
        "\n",
        "import pandas as pd\n",
        "import os\n",
        "import matplotlib.pyplot as plt\n",
        "\n",
        "%matplotlib inline\n",
        "\n",
        "import numpy as np\n",
        "import seaborn as sns"
      ],
      "execution_count": 2,
      "outputs": []
    },
    {
      "cell_type": "code",
      "metadata": {
        "colab": {
          "base_uri": "https://localhost:8080/"
        },
        "id": "akip-HoFYviJ",
        "scrolled": true,
        "outputId": "00fd04ad-5b70-494f-f5c0-3d5822430709"
      },
      "source": [
        "os.listdir(\"./\")"
      ],
      "execution_count": 3,
      "outputs": [
        {
          "output_type": "execute_result",
          "data": {
            "text/plain": [
              "['.config',\n",
              " 'teste.csv',\n",
              " 'modelo.h5',\n",
              " 'treino.csv',\n",
              " 'modelo',\n",
              " 'model.h5',\n",
              " 'modelo_final.pkl',\n",
              " 'sample_data']"
            ]
          },
          "metadata": {
            "tags": []
          },
          "execution_count": 3
        }
      ]
    },
    {
      "cell_type": "markdown",
      "metadata": {
        "id": "diis-Y3_YviK"
      },
      "source": [
        "### • Lendo os arquivos de dados"
      ]
    },
    {
      "cell_type": "code",
      "metadata": {
        "id": "jfFCd276YviL"
      },
      "source": [
        "# Abrindo o arquivo de treino\n",
        "treino = pd.read_csv(\"treino.csv\", sep=',', encoding='utf-8')"
      ],
      "execution_count": 4,
      "outputs": []
    },
    {
      "cell_type": "code",
      "metadata": {
        "colab": {
          "base_uri": "https://localhost:8080/"
        },
        "id": "kCGlnSxaYviL",
        "outputId": "f31447ac-8521-4adc-dcd4-1d8b96a0f0f5"
      },
      "source": [
        "# Verificando o tipo de cada coluna\n",
        "treino.dtypes"
      ],
      "execution_count": 5,
      "outputs": [
        {
          "output_type": "execute_result",
          "data": {
            "text/plain": [
              "ano                       int64\n",
              "dia                       int64\n",
              "data-hora                object\n",
              "minuto                    int64\n",
              "velocidde-vento-25m     float64\n",
              "direcao-vento-25m       float64\n",
              "temperatura-25m         float64\n",
              "velocidade-vento-50m    float64\n",
              "direcao-vento-50m       float64\n",
              "temratura-50m           float64\n",
              "dtype: object"
            ]
          },
          "metadata": {
            "tags": []
          },
          "execution_count": 5
        }
      ]
    },
    {
      "cell_type": "code",
      "metadata": {
        "id": "Xly2-7NPYviM"
      },
      "source": [
        "teste = pd.read_csv(\"teste.csv\", sep=',', encoding='utf-8')"
      ],
      "execution_count": 6,
      "outputs": []
    },
    {
      "cell_type": "code",
      "metadata": {
        "colab": {
          "base_uri": "https://localhost:8080/"
        },
        "id": "G2fnPh3NYviN",
        "outputId": "c6e7a027-1bf2-4860-f89a-69a3ca1f41ce"
      },
      "source": [
        "teste.dtypes"
      ],
      "execution_count": 7,
      "outputs": [
        {
          "output_type": "execute_result",
          "data": {
            "text/plain": [
              "ano                       int64\n",
              "dia                       int64\n",
              "data-hora                object\n",
              "minuto                    int64\n",
              "velocidde-vento-25m     float64\n",
              "direcao-vento-25m       float64\n",
              "temperatura-25m         float64\n",
              "velocidade-vento-50m    float64\n",
              "direcao-vento-50m       float64\n",
              "temratura-50m           float64\n",
              "dtype: object"
            ]
          },
          "metadata": {
            "tags": []
          },
          "execution_count": 7
        }
      ]
    },
    {
      "cell_type": "markdown",
      "metadata": {
        "id": "KVXUlwv3YviN"
      },
      "source": [
        "### • Alterando o nome das colunas colunas “temratura-50m” e “velocidde-vento-25m” para “temperatura-50m” e “velocidade-vento-25m”"
      ]
    },
    {
      "cell_type": "code",
      "metadata": {
        "id": "bqCDouS-YviO"
      },
      "source": [
        "treino.rename(columns={'temratura-50m': 'temperatura-50m', 'velocidde-vento-25m':'velocidade-vento-25m'}, inplace=True)"
      ],
      "execution_count": 8,
      "outputs": []
    },
    {
      "cell_type": "code",
      "metadata": {
        "id": "Ne1fzZTLYviO"
      },
      "source": [
        "teste.rename(columns={'temratura-50m': 'temperatura-50m', 'velocidde-vento-25m':'velocidade-vento-25m'}, inplace=True)"
      ],
      "execution_count": 9,
      "outputs": []
    },
    {
      "cell_type": "markdown",
      "metadata": {
        "id": "9nI40pNBYviP"
      },
      "source": [
        "### •\tExiba os 5 primeiros elementos do dataset de treino e de teste"
      ]
    },
    {
      "cell_type": "code",
      "metadata": {
        "colab": {
          "base_uri": "https://localhost:8080/",
          "height": 0
        },
        "id": "Sj5WYjYmYviP",
        "outputId": "f815961e-0396-4a4d-d02b-ea2c8c178001"
      },
      "source": [
        "treino.head(5)"
      ],
      "execution_count": 10,
      "outputs": [
        {
          "output_type": "execute_result",
          "data": {
            "text/html": [
              "<div>\n",
              "<style scoped>\n",
              "    .dataframe tbody tr th:only-of-type {\n",
              "        vertical-align: middle;\n",
              "    }\n",
              "\n",
              "    .dataframe tbody tr th {\n",
              "        vertical-align: top;\n",
              "    }\n",
              "\n",
              "    .dataframe thead th {\n",
              "        text-align: right;\n",
              "    }\n",
              "</style>\n",
              "<table border=\"1\" class=\"dataframe\">\n",
              "  <thead>\n",
              "    <tr style=\"text-align: right;\">\n",
              "      <th></th>\n",
              "      <th>ano</th>\n",
              "      <th>dia</th>\n",
              "      <th>data-hora</th>\n",
              "      <th>minuto</th>\n",
              "      <th>velocidade-vento-25m</th>\n",
              "      <th>direcao-vento-25m</th>\n",
              "      <th>temperatura-25m</th>\n",
              "      <th>velocidade-vento-50m</th>\n",
              "      <th>direcao-vento-50m</th>\n",
              "      <th>temperatura-50m</th>\n",
              "    </tr>\n",
              "  </thead>\n",
              "  <tbody>\n",
              "    <tr>\n",
              "      <th>0</th>\n",
              "      <td>2010</td>\n",
              "      <td>1</td>\n",
              "      <td>2010-1-1 00:00:00</td>\n",
              "      <td>0</td>\n",
              "      <td>0.881500</td>\n",
              "      <td>298.333333</td>\n",
              "      <td>24.868333</td>\n",
              "      <td>0.932500</td>\n",
              "      <td>318.233333</td>\n",
              "      <td>24.888333</td>\n",
              "    </tr>\n",
              "    <tr>\n",
              "      <th>1</th>\n",
              "      <td>2010</td>\n",
              "      <td>1</td>\n",
              "      <td>2010-1-1 01:00:00</td>\n",
              "      <td>60</td>\n",
              "      <td>1.366167</td>\n",
              "      <td>329.533333</td>\n",
              "      <td>24.826667</td>\n",
              "      <td>1.825333</td>\n",
              "      <td>321.100000</td>\n",
              "      <td>24.858333</td>\n",
              "    </tr>\n",
              "    <tr>\n",
              "      <th>2</th>\n",
              "      <td>2010</td>\n",
              "      <td>1</td>\n",
              "      <td>2010-1-1 02:00:00</td>\n",
              "      <td>120</td>\n",
              "      <td>1.118667</td>\n",
              "      <td>290.233333</td>\n",
              "      <td>24.648333</td>\n",
              "      <td>2.170333</td>\n",
              "      <td>276.033333</td>\n",
              "      <td>25.133333</td>\n",
              "    </tr>\n",
              "    <tr>\n",
              "      <th>3</th>\n",
              "      <td>2010</td>\n",
              "      <td>1</td>\n",
              "      <td>2010-1-1 03:00:00</td>\n",
              "      <td>180</td>\n",
              "      <td>0.618000</td>\n",
              "      <td>196.950000</td>\n",
              "      <td>23.916667</td>\n",
              "      <td>1.472500</td>\n",
              "      <td>218.800000</td>\n",
              "      <td>24.268333</td>\n",
              "    </tr>\n",
              "    <tr>\n",
              "      <th>4</th>\n",
              "      <td>2010</td>\n",
              "      <td>1</td>\n",
              "      <td>2010-1-1 04:00:00</td>\n",
              "      <td>240</td>\n",
              "      <td>1.517833</td>\n",
              "      <td>117.183333</td>\n",
              "      <td>23.740000</td>\n",
              "      <td>2.058333</td>\n",
              "      <td>130.333333</td>\n",
              "      <td>23.801667</td>\n",
              "    </tr>\n",
              "  </tbody>\n",
              "</table>\n",
              "</div>"
            ],
            "text/plain": [
              "    ano  dia  ... direcao-vento-50m  temperatura-50m\n",
              "0  2010    1  ...        318.233333        24.888333\n",
              "1  2010    1  ...        321.100000        24.858333\n",
              "2  2010    1  ...        276.033333        25.133333\n",
              "3  2010    1  ...        218.800000        24.268333\n",
              "4  2010    1  ...        130.333333        23.801667\n",
              "\n",
              "[5 rows x 10 columns]"
            ]
          },
          "metadata": {
            "tags": []
          },
          "execution_count": 10
        }
      ]
    },
    {
      "cell_type": "code",
      "metadata": {
        "colab": {
          "base_uri": "https://localhost:8080/",
          "height": 0
        },
        "id": "rr9q1xwhYviQ",
        "outputId": "defbd79c-2a21-42a9-f733-dca40dca21bf"
      },
      "source": [
        "teste.head(5)"
      ],
      "execution_count": 11,
      "outputs": [
        {
          "output_type": "execute_result",
          "data": {
            "text/html": [
              "<div>\n",
              "<style scoped>\n",
              "    .dataframe tbody tr th:only-of-type {\n",
              "        vertical-align: middle;\n",
              "    }\n",
              "\n",
              "    .dataframe tbody tr th {\n",
              "        vertical-align: top;\n",
              "    }\n",
              "\n",
              "    .dataframe thead th {\n",
              "        text-align: right;\n",
              "    }\n",
              "</style>\n",
              "<table border=\"1\" class=\"dataframe\">\n",
              "  <thead>\n",
              "    <tr style=\"text-align: right;\">\n",
              "      <th></th>\n",
              "      <th>ano</th>\n",
              "      <th>dia</th>\n",
              "      <th>data-hora</th>\n",
              "      <th>minuto</th>\n",
              "      <th>velocidade-vento-25m</th>\n",
              "      <th>direcao-vento-25m</th>\n",
              "      <th>temperatura-25m</th>\n",
              "      <th>velocidade-vento-50m</th>\n",
              "      <th>direcao-vento-50m</th>\n",
              "      <th>temperatura-50m</th>\n",
              "    </tr>\n",
              "  </thead>\n",
              "  <tbody>\n",
              "    <tr>\n",
              "      <th>0</th>\n",
              "      <td>2010</td>\n",
              "      <td>278</td>\n",
              "      <td>2010-10-5 08:00:00</td>\n",
              "      <td>480</td>\n",
              "      <td>3.257333</td>\n",
              "      <td>139.116667</td>\n",
              "      <td>21.621667</td>\n",
              "      <td>4.960833</td>\n",
              "      <td>133.550000</td>\n",
              "      <td>21.283333</td>\n",
              "    </tr>\n",
              "    <tr>\n",
              "      <th>1</th>\n",
              "      <td>2010</td>\n",
              "      <td>278</td>\n",
              "      <td>2010-10-5 09:00:00</td>\n",
              "      <td>540</td>\n",
              "      <td>2.786167</td>\n",
              "      <td>143.883333</td>\n",
              "      <td>22.186667</td>\n",
              "      <td>3.783000</td>\n",
              "      <td>138.800000</td>\n",
              "      <td>21.550000</td>\n",
              "    </tr>\n",
              "    <tr>\n",
              "      <th>2</th>\n",
              "      <td>2010</td>\n",
              "      <td>278</td>\n",
              "      <td>2010-10-5 10:00:00</td>\n",
              "      <td>600</td>\n",
              "      <td>5.204167</td>\n",
              "      <td>144.983333</td>\n",
              "      <td>23.358333</td>\n",
              "      <td>6.489667</td>\n",
              "      <td>140.066667</td>\n",
              "      <td>22.695000</td>\n",
              "    </tr>\n",
              "    <tr>\n",
              "      <th>3</th>\n",
              "      <td>2010</td>\n",
              "      <td>278</td>\n",
              "      <td>2010-10-5 11:00:00</td>\n",
              "      <td>660</td>\n",
              "      <td>5.404333</td>\n",
              "      <td>133.116667</td>\n",
              "      <td>25.068333</td>\n",
              "      <td>6.390000</td>\n",
              "      <td>128.200000</td>\n",
              "      <td>24.313333</td>\n",
              "    </tr>\n",
              "    <tr>\n",
              "      <th>4</th>\n",
              "      <td>2010</td>\n",
              "      <td>278</td>\n",
              "      <td>2010-10-5 12:00:00</td>\n",
              "      <td>720</td>\n",
              "      <td>5.333167</td>\n",
              "      <td>139.266667</td>\n",
              "      <td>26.551667</td>\n",
              "      <td>6.098167</td>\n",
              "      <td>134.283333</td>\n",
              "      <td>25.748333</td>\n",
              "    </tr>\n",
              "  </tbody>\n",
              "</table>\n",
              "</div>"
            ],
            "text/plain": [
              "    ano  dia  ... direcao-vento-50m  temperatura-50m\n",
              "0  2010  278  ...        133.550000        21.283333\n",
              "1  2010  278  ...        138.800000        21.550000\n",
              "2  2010  278  ...        140.066667        22.695000\n",
              "3  2010  278  ...        128.200000        24.313333\n",
              "4  2010  278  ...        134.283333        25.748333\n",
              "\n",
              "[5 rows x 10 columns]"
            ]
          },
          "metadata": {
            "tags": []
          },
          "execution_count": 11
        }
      ]
    },
    {
      "cell_type": "markdown",
      "metadata": {
        "id": "QL8ZOdzAYviQ"
      },
      "source": [
        "### • Exibindo a quantidade total de elementos nas tabelas e a média dos valores da coluna velocidade-vento-50m"
      ]
    },
    {
      "cell_type": "code",
      "metadata": {
        "colab": {
          "base_uri": "https://localhost:8080/"
        },
        "id": "boSdlkbBYviQ",
        "outputId": "86b2d403-2203-4007-94f7-fbe230ab4971"
      },
      "source": [
        "#Quantidade total de elementos nas tabelas\n",
        "\n",
        "print(\"O arquivo de treino possui: \"+ str(treino.shape[0]) + \" linhas e \" + str(treino.shape[1]) + \" colunas. \")\n",
        "print(\"O arquivo de teste possui: \"+ str(teste.shape[0]) + \" linhas e \" + str(teste.shape[1]) + \" colunas. \")"
      ],
      "execution_count": 12,
      "outputs": [
        {
          "output_type": "stream",
          "text": [
            "O arquivo de treino possui: 6656 linhas e 10 colunas. \n",
            "O arquivo de teste possui: 1000 linhas e 10 colunas. \n"
          ],
          "name": "stdout"
        }
      ]
    },
    {
      "cell_type": "code",
      "metadata": {
        "colab": {
          "base_uri": "https://localhost:8080/"
        },
        "id": "ZROHe_ZGYviR",
        "outputId": "517e7904-b476-4364-a9e1-4f292da413b3"
      },
      "source": [
        "# Média dos valores da coluna  \"velocidade-vento-50m\"\n",
        "\n",
        "print(\"Dataset de treino possui a coluna 'velocidade-vento-50m' com média: %.2f\" % treino['velocidade-vento-50m'].mean() +\".\")"
      ],
      "execution_count": 13,
      "outputs": [
        {
          "output_type": "stream",
          "text": [
            "Dataset de treino possui a coluna 'velocidade-vento-50m' com média: 5.02.\n"
          ],
          "name": "stdout"
        }
      ]
    },
    {
      "cell_type": "code",
      "metadata": {
        "colab": {
          "base_uri": "https://localhost:8080/"
        },
        "id": "qAutWeI-YviR",
        "outputId": "d7f278d8-e4b9-4b0e-927a-da1ccd1b98f2"
      },
      "source": [
        "print(\"Dataset de teste possui a coluna 'velocidade-vento-50m' com média : %.2f\" % teste['velocidade-vento-50m'].mean() +\".\")"
      ],
      "execution_count": 14,
      "outputs": [
        {
          "output_type": "stream",
          "text": [
            "Dataset de teste possui a coluna 'velocidade-vento-50m' com média : 5.02.\n"
          ],
          "name": "stdout"
        }
      ]
    },
    {
      "cell_type": "code",
      "metadata": {
        "colab": {
          "base_uri": "https://localhost:8080/"
        },
        "id": "x3jvTmt1YviS",
        "outputId": "fc6550ca-c9d4-4790-cf86-fe43f1e9685b"
      },
      "source": [
        "# Exibindo médias completas e separadas\n",
        "teste['velocidade-vento-50m'].mean()"
      ],
      "execution_count": 15,
      "outputs": [
        {
          "output_type": "execute_result",
          "data": {
            "text/plain": [
              "5.022554333333336"
            ]
          },
          "metadata": {
            "tags": []
          },
          "execution_count": 15
        }
      ]
    },
    {
      "cell_type": "code",
      "metadata": {
        "colab": {
          "base_uri": "https://localhost:8080/"
        },
        "id": "9ulyavEJYviT",
        "outputId": "dc26c5ff-da9a-40f6-8a17-9f1ebaa35a0b"
      },
      "source": [
        "treino['velocidade-vento-50m'].mean()"
      ],
      "execution_count": 16,
      "outputs": [
        {
          "output_type": "execute_result",
          "data": {
            "text/plain": [
              "5.016940604967936"
            ]
          },
          "metadata": {
            "tags": []
          },
          "execution_count": 16
        }
      ]
    },
    {
      "cell_type": "markdown",
      "metadata": {
        "id": "_rLjGTMFYviT"
      },
      "source": [
        "## •\tExiba qual Data apresentou o maior valor de velocidade-vento-50m;"
      ]
    },
    {
      "cell_type": "markdown",
      "metadata": {
        "id": "DWh6aDAOYviU"
      },
      "source": [
        "A melhor lógica pensada para esse caso foi ordenar a tabela do maior para o melhor e consultar o maior valor existente na coluna, em seguida pegar o dado na coluna de hora"
      ]
    },
    {
      "cell_type": "code",
      "metadata": {
        "colab": {
          "base_uri": "https://localhost:8080/"
        },
        "id": "rl2rxPbRYviU",
        "outputId": "ee70651f-4d91-4906-f2bf-dc12d0380239"
      },
      "source": [
        "# verificando qual é o maior valor existente no dataset de treino\n",
        "treino['velocidade-vento-50m'].sort_values(ascending=False)"
      ],
      "execution_count": 17,
      "outputs": [
        {
          "output_type": "execute_result",
          "data": {
            "text/plain": [
              "6085    10.521667\n",
              "1178    10.276667\n",
              "1177    10.056667\n",
              "6359    10.020000\n",
              "1198     9.990833\n",
              "          ...    \n",
              "2096     0.364667\n",
              "947      0.358500\n",
              "3201     0.339667\n",
              "20       0.334500\n",
              "48       0.097167\n",
              "Name: velocidade-vento-50m, Length: 6656, dtype: float64"
            ]
          },
          "metadata": {
            "tags": []
          },
          "execution_count": 17
        }
      ]
    },
    {
      "cell_type": "code",
      "metadata": {
        "colab": {
          "base_uri": "https://localhost:8080/",
          "height": 0
        },
        "id": "CcAxk77jYviU",
        "outputId": "abac5dec-8afc-496a-dc3c-e786bf19ff2f"
      },
      "source": [
        "# mostrando as informações do maior valor\n",
        "treino.loc[6085:6085]"
      ],
      "execution_count": 18,
      "outputs": [
        {
          "output_type": "execute_result",
          "data": {
            "text/html": [
              "<div>\n",
              "<style scoped>\n",
              "    .dataframe tbody tr th:only-of-type {\n",
              "        vertical-align: middle;\n",
              "    }\n",
              "\n",
              "    .dataframe tbody tr th {\n",
              "        vertical-align: top;\n",
              "    }\n",
              "\n",
              "    .dataframe thead th {\n",
              "        text-align: right;\n",
              "    }\n",
              "</style>\n",
              "<table border=\"1\" class=\"dataframe\">\n",
              "  <thead>\n",
              "    <tr style=\"text-align: right;\">\n",
              "      <th></th>\n",
              "      <th>ano</th>\n",
              "      <th>dia</th>\n",
              "      <th>data-hora</th>\n",
              "      <th>minuto</th>\n",
              "      <th>velocidade-vento-25m</th>\n",
              "      <th>direcao-vento-25m</th>\n",
              "      <th>temperatura-25m</th>\n",
              "      <th>velocidade-vento-50m</th>\n",
              "      <th>direcao-vento-50m</th>\n",
              "      <th>temperatura-50m</th>\n",
              "    </tr>\n",
              "  </thead>\n",
              "  <tbody>\n",
              "    <tr>\n",
              "      <th>6085</th>\n",
              "      <td>2010</td>\n",
              "      <td>254</td>\n",
              "      <td>2010-9-11 13:00:00</td>\n",
              "      <td>780</td>\n",
              "      <td>8.553333</td>\n",
              "      <td>160.916667</td>\n",
              "      <td>22.681667</td>\n",
              "      <td>10.521667</td>\n",
              "      <td>156.2</td>\n",
              "      <td>21.91</td>\n",
              "    </tr>\n",
              "  </tbody>\n",
              "</table>\n",
              "</div>"
            ],
            "text/plain": [
              "       ano  dia  ... direcao-vento-50m  temperatura-50m\n",
              "6085  2010  254  ...             156.2            21.91\n",
              "\n",
              "[1 rows x 10 columns]"
            ]
          },
          "metadata": {
            "tags": []
          },
          "execution_count": 18
        }
      ]
    },
    {
      "cell_type": "code",
      "metadata": {
        "colab": {
          "base_uri": "https://localhost:8080/",
          "height": 0
        },
        "id": "xGrzMQhHYviV",
        "outputId": "b694e508-2d21-4674-8727-62e3374cfdaf"
      },
      "source": [
        "treino.iloc[6085]['data-hora']"
      ],
      "execution_count": 19,
      "outputs": [
        {
          "output_type": "execute_result",
          "data": {
            "application/vnd.google.colaboratory.intrinsic+json": {
              "type": "string"
            },
            "text/plain": [
              "'2010-9-11 13:00:00'"
            ]
          },
          "metadata": {
            "tags": []
          },
          "execution_count": 19
        }
      ]
    },
    {
      "cell_type": "code",
      "metadata": {
        "colab": {
          "base_uri": "https://localhost:8080/"
        },
        "id": "N6n7uckMYviV",
        "outputId": "9800715e-5228-4020-a7b3-4cce2c8441e0"
      },
      "source": [
        "print(\" A data que apresentou maior valor de velocidade foi: \" + treino.iloc[6085]['data-hora'][0:10]+\".\")"
      ],
      "execution_count": 20,
      "outputs": [
        {
          "output_type": "stream",
          "text": [
            " A data que apresentou maior valor de velocidade foi: 2010-9-11 .\n"
          ],
          "name": "stdout"
        }
      ]
    },
    {
      "cell_type": "code",
      "metadata": {
        "colab": {
          "base_uri": "https://localhost:8080/"
        },
        "id": "zqwhud-xYviV",
        "outputId": "63d82b44-728a-4dbc-9dfb-83a64a8fcfc2"
      },
      "source": [
        "# verificando qual é o maior valor existente no dataset de teste\n",
        "\n",
        "teste['velocidade-vento-50m'].sort_values(ascending=False)"
      ],
      "execution_count": 21,
      "outputs": [
        {
          "output_type": "execute_result",
          "data": {
            "text/plain": [
              "517    9.985000\n",
              "209    9.765000\n",
              "844    9.586667\n",
              "833    9.483333\n",
              "233    9.456667\n",
              "         ...   \n",
              "529    0.703833\n",
              "972    0.701167\n",
              "571    0.588167\n",
              "365    0.577000\n",
              "526    0.269833\n",
              "Name: velocidade-vento-50m, Length: 1000, dtype: float64"
            ]
          },
          "metadata": {
            "tags": []
          },
          "execution_count": 21
        }
      ]
    },
    {
      "cell_type": "code",
      "metadata": {
        "colab": {
          "base_uri": "https://localhost:8080/",
          "height": 0
        },
        "id": "AdwdbgUUYviV",
        "outputId": "9537d3e6-e95a-419c-9285-450500ed9de4"
      },
      "source": [
        "treino.loc[517:517]"
      ],
      "execution_count": 22,
      "outputs": [
        {
          "output_type": "execute_result",
          "data": {
            "text/html": [
              "<div>\n",
              "<style scoped>\n",
              "    .dataframe tbody tr th:only-of-type {\n",
              "        vertical-align: middle;\n",
              "    }\n",
              "\n",
              "    .dataframe tbody tr th {\n",
              "        vertical-align: top;\n",
              "    }\n",
              "\n",
              "    .dataframe thead th {\n",
              "        text-align: right;\n",
              "    }\n",
              "</style>\n",
              "<table border=\"1\" class=\"dataframe\">\n",
              "  <thead>\n",
              "    <tr style=\"text-align: right;\">\n",
              "      <th></th>\n",
              "      <th>ano</th>\n",
              "      <th>dia</th>\n",
              "      <th>data-hora</th>\n",
              "      <th>minuto</th>\n",
              "      <th>velocidade-vento-25m</th>\n",
              "      <th>direcao-vento-25m</th>\n",
              "      <th>temperatura-25m</th>\n",
              "      <th>velocidade-vento-50m</th>\n",
              "      <th>direcao-vento-50m</th>\n",
              "      <th>temperatura-50m</th>\n",
              "    </tr>\n",
              "  </thead>\n",
              "  <tbody>\n",
              "    <tr>\n",
              "      <th>517</th>\n",
              "      <td>2010</td>\n",
              "      <td>22</td>\n",
              "      <td>2010-1-22 13:00:00</td>\n",
              "      <td>780</td>\n",
              "      <td>4.910333</td>\n",
              "      <td>98.9</td>\n",
              "      <td>27.07</td>\n",
              "      <td>5.557</td>\n",
              "      <td>94.316667</td>\n",
              "      <td>26.295</td>\n",
              "    </tr>\n",
              "  </tbody>\n",
              "</table>\n",
              "</div>"
            ],
            "text/plain": [
              "      ano  dia  ... direcao-vento-50m  temperatura-50m\n",
              "517  2010   22  ...         94.316667           26.295\n",
              "\n",
              "[1 rows x 10 columns]"
            ]
          },
          "metadata": {
            "tags": []
          },
          "execution_count": 22
        }
      ]
    },
    {
      "cell_type": "code",
      "metadata": {
        "colab": {
          "base_uri": "https://localhost:8080/",
          "height": 0
        },
        "id": "hikhJ-5iYviW",
        "outputId": "da86121d-2ac0-477e-ca73-bb9df6d7cfed"
      },
      "source": [
        "teste.iloc[517]['data-hora']"
      ],
      "execution_count": 23,
      "outputs": [
        {
          "output_type": "execute_result",
          "data": {
            "application/vnd.google.colaboratory.intrinsic+json": {
              "type": "string"
            },
            "text/plain": [
              "'2010-10-26 21:00:00'"
            ]
          },
          "metadata": {
            "tags": []
          },
          "execution_count": 23
        }
      ]
    },
    {
      "cell_type": "code",
      "metadata": {
        "colab": {
          "base_uri": "https://localhost:8080/"
        },
        "id": "olCxWldcYviW",
        "outputId": "2bc648a7-1227-4f86-b406-0fa8335a06df"
      },
      "source": [
        "print(\" A data que apresentou maior valor de velocidade foi: \" + teste.iloc[517]['data-hora'][0:10]+\".\")"
      ],
      "execution_count": 24,
      "outputs": [
        {
          "output_type": "stream",
          "text": [
            " A data que apresentou maior valor de velocidade foi: 2010-10-26.\n"
          ],
          "name": "stdout"
        }
      ]
    },
    {
      "cell_type": "markdown",
      "metadata": {
        "id": "bRJbIn1PYviW"
      },
      "source": [
        "## Análise exploratória dos dados "
      ]
    },
    {
      "cell_type": "code",
      "metadata": {
        "id": "1orlaMZzduci"
      },
      "source": [
        "import matplotlib.pyplot as plt"
      ],
      "execution_count": 25,
      "outputs": []
    },
    {
      "cell_type": "code",
      "metadata": {
        "colab": {
          "base_uri": "https://localhost:8080/",
          "height": 0
        },
        "id": "8A-Q4EiOYviW",
        "outputId": "7a289ed0-e86a-4b03-8990-c49d7c0d2b46"
      },
      "source": [
        "# Identificando análises a partir de avaliação estatística\n",
        "treino.describe()"
      ],
      "execution_count": 26,
      "outputs": [
        {
          "output_type": "execute_result",
          "data": {
            "text/html": [
              "<div>\n",
              "<style scoped>\n",
              "    .dataframe tbody tr th:only-of-type {\n",
              "        vertical-align: middle;\n",
              "    }\n",
              "\n",
              "    .dataframe tbody tr th {\n",
              "        vertical-align: top;\n",
              "    }\n",
              "\n",
              "    .dataframe thead th {\n",
              "        text-align: right;\n",
              "    }\n",
              "</style>\n",
              "<table border=\"1\" class=\"dataframe\">\n",
              "  <thead>\n",
              "    <tr style=\"text-align: right;\">\n",
              "      <th></th>\n",
              "      <th>ano</th>\n",
              "      <th>dia</th>\n",
              "      <th>minuto</th>\n",
              "      <th>velocidade-vento-25m</th>\n",
              "      <th>direcao-vento-25m</th>\n",
              "      <th>temperatura-25m</th>\n",
              "      <th>velocidade-vento-50m</th>\n",
              "      <th>direcao-vento-50m</th>\n",
              "      <th>temperatura-50m</th>\n",
              "    </tr>\n",
              "  </thead>\n",
              "  <tbody>\n",
              "    <tr>\n",
              "      <th>count</th>\n",
              "      <td>6656.0</td>\n",
              "      <td>6656.000000</td>\n",
              "      <td>6656.000000</td>\n",
              "      <td>6656.000000</td>\n",
              "      <td>6656.000000</td>\n",
              "      <td>6655.000000</td>\n",
              "      <td>6656.000000</td>\n",
              "      <td>6655.000000</td>\n",
              "      <td>6656.000000</td>\n",
              "    </tr>\n",
              "    <tr>\n",
              "      <th>mean</th>\n",
              "      <td>2010.0</td>\n",
              "      <td>139.167067</td>\n",
              "      <td>689.423077</td>\n",
              "      <td>3.780990</td>\n",
              "      <td>145.418534</td>\n",
              "      <td>26.080820</td>\n",
              "      <td>5.016941</td>\n",
              "      <td>139.766473</td>\n",
              "      <td>25.645969</td>\n",
              "    </tr>\n",
              "    <tr>\n",
              "      <th>std</th>\n",
              "      <td>0.0</td>\n",
              "      <td>80.065426</td>\n",
              "      <td>415.473115</td>\n",
              "      <td>1.377644</td>\n",
              "      <td>34.336953</td>\n",
              "      <td>3.757746</td>\n",
              "      <td>1.619845</td>\n",
              "      <td>34.142498</td>\n",
              "      <td>3.713573</td>\n",
              "    </tr>\n",
              "    <tr>\n",
              "      <th>min</th>\n",
              "      <td>2010.0</td>\n",
              "      <td>1.000000</td>\n",
              "      <td>0.000000</td>\n",
              "      <td>-0.007833</td>\n",
              "      <td>6.557000</td>\n",
              "      <td>16.061667</td>\n",
              "      <td>0.097167</td>\n",
              "      <td>12.635333</td>\n",
              "      <td>16.185000</td>\n",
              "    </tr>\n",
              "    <tr>\n",
              "      <th>25%</th>\n",
              "      <td>2010.0</td>\n",
              "      <td>70.000000</td>\n",
              "      <td>300.000000</td>\n",
              "      <td>2.801167</td>\n",
              "      <td>129.045833</td>\n",
              "      <td>23.250000</td>\n",
              "      <td>3.950958</td>\n",
              "      <td>124.326667</td>\n",
              "      <td>22.845000</td>\n",
              "    </tr>\n",
              "    <tr>\n",
              "      <th>50%</th>\n",
              "      <td>2010.0</td>\n",
              "      <td>139.000000</td>\n",
              "      <td>660.000000</td>\n",
              "      <td>3.656417</td>\n",
              "      <td>143.908333</td>\n",
              "      <td>25.728333</td>\n",
              "      <td>5.022417</td>\n",
              "      <td>138.533333</td>\n",
              "      <td>25.295833</td>\n",
              "    </tr>\n",
              "    <tr>\n",
              "      <th>75%</th>\n",
              "      <td>2010.0</td>\n",
              "      <td>208.250000</td>\n",
              "      <td>1020.000000</td>\n",
              "      <td>4.745625</td>\n",
              "      <td>158.487500</td>\n",
              "      <td>28.778333</td>\n",
              "      <td>6.082958</td>\n",
              "      <td>152.025000</td>\n",
              "      <td>28.353333</td>\n",
              "    </tr>\n",
              "    <tr>\n",
              "      <th>max</th>\n",
              "      <td>2010.0</td>\n",
              "      <td>278.000000</td>\n",
              "      <td>1380.000000</td>\n",
              "      <td>8.553333</td>\n",
              "      <td>351.066667</td>\n",
              "      <td>36.400000</td>\n",
              "      <td>10.521667</td>\n",
              "      <td>346.850000</td>\n",
              "      <td>35.753333</td>\n",
              "    </tr>\n",
              "  </tbody>\n",
              "</table>\n",
              "</div>"
            ],
            "text/plain": [
              "          ano          dia  ...  direcao-vento-50m  temperatura-50m\n",
              "count  6656.0  6656.000000  ...        6655.000000      6656.000000\n",
              "mean   2010.0   139.167067  ...         139.766473        25.645969\n",
              "std       0.0    80.065426  ...          34.142498         3.713573\n",
              "min    2010.0     1.000000  ...          12.635333        16.185000\n",
              "25%    2010.0    70.000000  ...         124.326667        22.845000\n",
              "50%    2010.0   139.000000  ...         138.533333        25.295833\n",
              "75%    2010.0   208.250000  ...         152.025000        28.353333\n",
              "max    2010.0   278.000000  ...         346.850000        35.753333\n",
              "\n",
              "[8 rows x 9 columns]"
            ]
          },
          "metadata": {
            "tags": []
          },
          "execution_count": 26
        }
      ]
    },
    {
      "cell_type": "code",
      "metadata": {
        "colab": {
          "base_uri": "https://localhost:8080/",
          "height": 0
        },
        "id": "zp0QG_4AYviX",
        "outputId": "1aee2577-b669-4266-91be-cc48e1957be9"
      },
      "source": [
        "teste.describe()"
      ],
      "execution_count": 27,
      "outputs": [
        {
          "output_type": "execute_result",
          "data": {
            "text/html": [
              "<div>\n",
              "<style scoped>\n",
              "    .dataframe tbody tr th:only-of-type {\n",
              "        vertical-align: middle;\n",
              "    }\n",
              "\n",
              "    .dataframe tbody tr th {\n",
              "        vertical-align: top;\n",
              "    }\n",
              "\n",
              "    .dataframe thead th {\n",
              "        text-align: right;\n",
              "    }\n",
              "</style>\n",
              "<table border=\"1\" class=\"dataframe\">\n",
              "  <thead>\n",
              "    <tr style=\"text-align: right;\">\n",
              "      <th></th>\n",
              "      <th>ano</th>\n",
              "      <th>dia</th>\n",
              "      <th>minuto</th>\n",
              "      <th>velocidade-vento-25m</th>\n",
              "      <th>direcao-vento-25m</th>\n",
              "      <th>temperatura-25m</th>\n",
              "      <th>velocidade-vento-50m</th>\n",
              "      <th>direcao-vento-50m</th>\n",
              "      <th>temperatura-50m</th>\n",
              "    </tr>\n",
              "  </thead>\n",
              "  <tbody>\n",
              "    <tr>\n",
              "      <th>count</th>\n",
              "      <td>1000.0</td>\n",
              "      <td>1000.000000</td>\n",
              "      <td>1000.000000</td>\n",
              "      <td>1000.000000</td>\n",
              "      <td>1000.000000</td>\n",
              "      <td>1000.000000</td>\n",
              "      <td>1000.000000</td>\n",
              "      <td>1000.000000</td>\n",
              "      <td>1000.000000</td>\n",
              "    </tr>\n",
              "    <tr>\n",
              "      <th>mean</th>\n",
              "      <td>2010.0</td>\n",
              "      <td>298.664000</td>\n",
              "      <td>693.840000</td>\n",
              "      <td>3.894355</td>\n",
              "      <td>134.224431</td>\n",
              "      <td>27.993528</td>\n",
              "      <td>5.022554</td>\n",
              "      <td>129.178476</td>\n",
              "      <td>27.571610</td>\n",
              "    </tr>\n",
              "    <tr>\n",
              "      <th>std</th>\n",
              "      <td>0.0</td>\n",
              "      <td>12.035279</td>\n",
              "      <td>414.780541</td>\n",
              "      <td>1.321615</td>\n",
              "      <td>44.395029</td>\n",
              "      <td>3.814328</td>\n",
              "      <td>1.592096</td>\n",
              "      <td>44.847802</td>\n",
              "      <td>3.802059</td>\n",
              "    </tr>\n",
              "    <tr>\n",
              "      <th>min</th>\n",
              "      <td>2010.0</td>\n",
              "      <td>278.000000</td>\n",
              "      <td>0.000000</td>\n",
              "      <td>0.522333</td>\n",
              "      <td>17.988000</td>\n",
              "      <td>20.275000</td>\n",
              "      <td>0.269833</td>\n",
              "      <td>11.077000</td>\n",
              "      <td>19.950000</td>\n",
              "    </tr>\n",
              "    <tr>\n",
              "      <th>25%</th>\n",
              "      <td>2010.0</td>\n",
              "      <td>288.000000</td>\n",
              "      <td>360.000000</td>\n",
              "      <td>3.042042</td>\n",
              "      <td>109.887500</td>\n",
              "      <td>24.571667</td>\n",
              "      <td>4.104208</td>\n",
              "      <td>105.408333</td>\n",
              "      <td>24.185833</td>\n",
              "    </tr>\n",
              "    <tr>\n",
              "      <th>50%</th>\n",
              "      <td>2010.0</td>\n",
              "      <td>299.000000</td>\n",
              "      <td>720.000000</td>\n",
              "      <td>3.868333</td>\n",
              "      <td>128.250000</td>\n",
              "      <td>27.837500</td>\n",
              "      <td>5.079333</td>\n",
              "      <td>123.658333</td>\n",
              "      <td>27.325833</td>\n",
              "    </tr>\n",
              "    <tr>\n",
              "      <th>75%</th>\n",
              "      <td>2010.0</td>\n",
              "      <td>309.000000</td>\n",
              "      <td>1080.000000</td>\n",
              "      <td>4.702917</td>\n",
              "      <td>142.620833</td>\n",
              "      <td>31.203333</td>\n",
              "      <td>5.960708</td>\n",
              "      <td>137.091667</td>\n",
              "      <td>30.968750</td>\n",
              "    </tr>\n",
              "    <tr>\n",
              "      <th>max</th>\n",
              "      <td>2010.0</td>\n",
              "      <td>319.000000</td>\n",
              "      <td>1380.000000</td>\n",
              "      <td>8.301667</td>\n",
              "      <td>339.750000</td>\n",
              "      <td>36.205000</td>\n",
              "      <td>9.985000</td>\n",
              "      <td>337.083333</td>\n",
              "      <td>35.411667</td>\n",
              "    </tr>\n",
              "  </tbody>\n",
              "</table>\n",
              "</div>"
            ],
            "text/plain": [
              "          ano          dia  ...  direcao-vento-50m  temperatura-50m\n",
              "count  1000.0  1000.000000  ...        1000.000000      1000.000000\n",
              "mean   2010.0   298.664000  ...         129.178476        27.571610\n",
              "std       0.0    12.035279  ...          44.847802         3.802059\n",
              "min    2010.0   278.000000  ...          11.077000        19.950000\n",
              "25%    2010.0   288.000000  ...         105.408333        24.185833\n",
              "50%    2010.0   299.000000  ...         123.658333        27.325833\n",
              "75%    2010.0   309.000000  ...         137.091667        30.968750\n",
              "max    2010.0   319.000000  ...         337.083333        35.411667\n",
              "\n",
              "[8 rows x 9 columns]"
            ]
          },
          "metadata": {
            "tags": []
          },
          "execution_count": 27
        }
      ]
    },
    {
      "cell_type": "code",
      "metadata": {
        "colab": {
          "base_uri": "https://localhost:8080/",
          "height": 0
        },
        "id": "0COat4NNYviX",
        "outputId": "50f9a97e-71a0-4035-abaa-a899c708378e"
      },
      "source": [
        "treino.head()"
      ],
      "execution_count": 28,
      "outputs": [
        {
          "output_type": "execute_result",
          "data": {
            "text/html": [
              "<div>\n",
              "<style scoped>\n",
              "    .dataframe tbody tr th:only-of-type {\n",
              "        vertical-align: middle;\n",
              "    }\n",
              "\n",
              "    .dataframe tbody tr th {\n",
              "        vertical-align: top;\n",
              "    }\n",
              "\n",
              "    .dataframe thead th {\n",
              "        text-align: right;\n",
              "    }\n",
              "</style>\n",
              "<table border=\"1\" class=\"dataframe\">\n",
              "  <thead>\n",
              "    <tr style=\"text-align: right;\">\n",
              "      <th></th>\n",
              "      <th>ano</th>\n",
              "      <th>dia</th>\n",
              "      <th>data-hora</th>\n",
              "      <th>minuto</th>\n",
              "      <th>velocidade-vento-25m</th>\n",
              "      <th>direcao-vento-25m</th>\n",
              "      <th>temperatura-25m</th>\n",
              "      <th>velocidade-vento-50m</th>\n",
              "      <th>direcao-vento-50m</th>\n",
              "      <th>temperatura-50m</th>\n",
              "    </tr>\n",
              "  </thead>\n",
              "  <tbody>\n",
              "    <tr>\n",
              "      <th>0</th>\n",
              "      <td>2010</td>\n",
              "      <td>1</td>\n",
              "      <td>2010-1-1 00:00:00</td>\n",
              "      <td>0</td>\n",
              "      <td>0.881500</td>\n",
              "      <td>298.333333</td>\n",
              "      <td>24.868333</td>\n",
              "      <td>0.932500</td>\n",
              "      <td>318.233333</td>\n",
              "      <td>24.888333</td>\n",
              "    </tr>\n",
              "    <tr>\n",
              "      <th>1</th>\n",
              "      <td>2010</td>\n",
              "      <td>1</td>\n",
              "      <td>2010-1-1 01:00:00</td>\n",
              "      <td>60</td>\n",
              "      <td>1.366167</td>\n",
              "      <td>329.533333</td>\n",
              "      <td>24.826667</td>\n",
              "      <td>1.825333</td>\n",
              "      <td>321.100000</td>\n",
              "      <td>24.858333</td>\n",
              "    </tr>\n",
              "    <tr>\n",
              "      <th>2</th>\n",
              "      <td>2010</td>\n",
              "      <td>1</td>\n",
              "      <td>2010-1-1 02:00:00</td>\n",
              "      <td>120</td>\n",
              "      <td>1.118667</td>\n",
              "      <td>290.233333</td>\n",
              "      <td>24.648333</td>\n",
              "      <td>2.170333</td>\n",
              "      <td>276.033333</td>\n",
              "      <td>25.133333</td>\n",
              "    </tr>\n",
              "    <tr>\n",
              "      <th>3</th>\n",
              "      <td>2010</td>\n",
              "      <td>1</td>\n",
              "      <td>2010-1-1 03:00:00</td>\n",
              "      <td>180</td>\n",
              "      <td>0.618000</td>\n",
              "      <td>196.950000</td>\n",
              "      <td>23.916667</td>\n",
              "      <td>1.472500</td>\n",
              "      <td>218.800000</td>\n",
              "      <td>24.268333</td>\n",
              "    </tr>\n",
              "    <tr>\n",
              "      <th>4</th>\n",
              "      <td>2010</td>\n",
              "      <td>1</td>\n",
              "      <td>2010-1-1 04:00:00</td>\n",
              "      <td>240</td>\n",
              "      <td>1.517833</td>\n",
              "      <td>117.183333</td>\n",
              "      <td>23.740000</td>\n",
              "      <td>2.058333</td>\n",
              "      <td>130.333333</td>\n",
              "      <td>23.801667</td>\n",
              "    </tr>\n",
              "  </tbody>\n",
              "</table>\n",
              "</div>"
            ],
            "text/plain": [
              "    ano  dia  ... direcao-vento-50m  temperatura-50m\n",
              "0  2010    1  ...        318.233333        24.888333\n",
              "1  2010    1  ...        321.100000        24.858333\n",
              "2  2010    1  ...        276.033333        25.133333\n",
              "3  2010    1  ...        218.800000        24.268333\n",
              "4  2010    1  ...        130.333333        23.801667\n",
              "\n",
              "[5 rows x 10 columns]"
            ]
          },
          "metadata": {
            "tags": []
          },
          "execution_count": 28
        }
      ]
    },
    {
      "cell_type": "code",
      "metadata": {
        "id": "v8pPYAQuYviX"
      },
      "source": [
        "mes = treino['data-hora'].str.split(\"-\", expand=True)[1]\n",
        "treino['mes'] = mes\n",
        "df_agp = treino.groupby('mes').mean()\n",
        "df_agp.reset_index(inplace=True)"
      ],
      "execution_count": 29,
      "outputs": []
    },
    {
      "cell_type": "code",
      "metadata": {
        "id": "QPFr21tjeUIP"
      },
      "source": [
        "df_agp.mes = df_agp.mes.astype('int')"
      ],
      "execution_count": 30,
      "outputs": []
    },
    {
      "cell_type": "code",
      "metadata": {
        "colab": {
          "base_uri": "https://localhost:8080/"
        },
        "id": "D4Y8CfvPejWv",
        "outputId": "5ac4f4b9-e219-4ed7-c008-b797c68d1645"
      },
      "source": [
        "df_agp.dtypes"
      ],
      "execution_count": 31,
      "outputs": [
        {
          "output_type": "execute_result",
          "data": {
            "text/plain": [
              "mes                       int64\n",
              "ano                     float64\n",
              "dia                     float64\n",
              "minuto                  float64\n",
              "velocidade-vento-25m    float64\n",
              "direcao-vento-25m       float64\n",
              "temperatura-25m         float64\n",
              "velocidade-vento-50m    float64\n",
              "direcao-vento-50m       float64\n",
              "temperatura-50m         float64\n",
              "dtype: object"
            ]
          },
          "metadata": {
            "tags": []
          },
          "execution_count": 31
        }
      ]
    },
    {
      "cell_type": "code",
      "metadata": {
        "id": "31xw_xmrYviX"
      },
      "source": [
        "df_agp.round(2)\n",
        "\n",
        "df_agp = df_agp.sort_values('mes', ascending='True')"
      ],
      "execution_count": 32,
      "outputs": []
    },
    {
      "cell_type": "code",
      "metadata": {
        "colab": {
          "base_uri": "https://localhost:8080/",
          "height": 0
        },
        "id": "lOb66sIrYviX",
        "outputId": "260b7065-1c4c-427b-da57-48b9cfc20575"
      },
      "source": [
        "plt.plot(df_agp['mes'], df_agp['velocidade-vento-50m'])\n",
        "plt.title(\"Mês X Velocidade do Vento 50m\")\n",
        "plt.grid(True)\n",
        "plt.show()"
      ],
      "execution_count": 33,
      "outputs": [
        {
          "output_type": "display_data",
          "data": {
            "image/png": "[encoded data removed]",
            "text/plain": [
              "<Figure size 432x288 with 1 Axes>"
            ]
          },
          "metadata": {
            "tags": [],
            "needs_background": "light"
          }
        }
      ]
    },
    {
      "cell_type": "code",
      "metadata": {
        "colab": {
          "base_uri": "https://localhost:8080/",
          "height": 0
        },
        "id": "cOi2L4U7YviX",
        "outputId": "371320fb-9ed0-40fb-c117-005154222208"
      },
      "source": [
        "plt.plot(df_agp['mes'], df_agp['temperatura-50m'])\n",
        "plt.title(\"Mês X Temperatura 50m\")\n",
        "plt.grid(True)\n",
        "plt.show()\n"
      ],
      "execution_count": 34,
      "outputs": [
        {
          "output_type": "display_data",
          "data": {
            "image/png": "[encoded data removed]",
            "text/plain": [
              "<Figure size 432x288 with 1 Axes>"
            ]
          },
          "metadata": {
            "tags": [],
            "needs_background": "light"
          }
        }
      ]
    },
    {
      "cell_type": "markdown",
      "metadata": {
        "id": "kfmVEHxqfpse"
      },
      "source": [
        "Com a análise anterior, é possível identificar uma forte relação da valocidade do vento com a temperatura. As duas dimensões na tabela são teoricamente inversamente proporcionais. \n",
        "\n",
        "- Quanto maior a temperatura, menor a velocidade do vento.\n",
        "- Quanto menor a temperatura, maior a velocidade do vento.\n",
        "\n",
        "obs.: Trabalhei apenas com valores médios para as análises por mês"
      ]
    },
    {
      "cell_type": "code",
      "metadata": {
        "colab": {
          "base_uri": "https://localhost:8080/",
          "height": 0
        },
        "id": "iGoRMtN5YviX",
        "outputId": "971f4ff7-e62d-42db-e210-af92f3233f0f"
      },
      "source": [
        "plt.plot(df_agp['mes'], df_agp['velocidade-vento-25m'])\n",
        "plt.title(\"Mês X Velocidade do Vento 25m\")\n",
        "plt.grid(True)\n",
        "plt.show()"
      ],
      "execution_count": 35,
      "outputs": [
        {
          "output_type": "display_data",
          "data": {
            "image/png": "[encoded data removed]",
            "text/plain": [
              "<Figure size 432x288 with 1 Axes>"
            ]
          },
          "metadata": {
            "tags": [],
            "needs_background": "light"
          }
        }
      ]
    },
    {
      "cell_type": "code",
      "metadata": {
        "colab": {
          "base_uri": "https://localhost:8080/",
          "height": 0
        },
        "id": "wVnTlCL7fKr0",
        "outputId": "00ec8be3-a46b-411a-c230-bff8ceb9cccf"
      },
      "source": [
        "plt.plot(df_agp['mes'], df_agp['temperatura-25m'])\n",
        "plt.title(\"Mês X Temperatura 25m\")\n",
        "plt.grid(True)\n",
        "plt.show()"
      ],
      "execution_count": 36,
      "outputs": [
        {
          "output_type": "display_data",
          "data": {
            "image/png": "[encoded data removed]",
            "text/plain": [
              "<Figure size 432x288 with 1 Axes>"
            ]
          },
          "metadata": {
            "tags": [],
            "needs_background": "light"
          }
        }
      ]
    },
    {
      "cell_type": "markdown",
      "metadata": {
        "id": "eLxaE-RngZB3"
      },
      "source": [
        "Acabei não me alongando muito por conta das duas etapas seguintes. Mas tem muita coisa que pode ser analisada ainda"
      ]
    },
    {
      "cell_type": "code",
      "metadata": {
        "id": "L-rijaQj2XgZ"
      },
      "source": [
        "treino.drop(columns=\"mes\", inplace=True)"
      ],
      "execution_count": 37,
      "outputs": []
    },
    {
      "cell_type": "markdown",
      "metadata": {
        "id": "VdYfEz90jwqK"
      },
      "source": [
        "# Etapa 2"
      ]
    },
    {
      "cell_type": "markdown",
      "metadata": {
        "id": "L8Ky-sONKMDy"
      },
      "source": [
        "### •\tRealizando tratamento para lidar com os dados faltantes"
      ]
    },
    {
      "cell_type": "code",
      "metadata": {
        "colab": {
          "base_uri": "https://localhost:8080/"
        },
        "id": "EUxq_J2hgYUj",
        "outputId": "4d774b46-2ec9-46c7-8952-912112e4cd34"
      },
      "source": [
        "teste.isnull().sum()\n",
        "#não possui dados faltantes"
      ],
      "execution_count": 38,
      "outputs": [
        {
          "output_type": "execute_result",
          "data": {
            "text/plain": [
              "ano                     0\n",
              "dia                     0\n",
              "data-hora               0\n",
              "minuto                  0\n",
              "velocidade-vento-25m    0\n",
              "direcao-vento-25m       0\n",
              "temperatura-25m         0\n",
              "velocidade-vento-50m    0\n",
              "direcao-vento-50m       0\n",
              "temperatura-50m         0\n",
              "dtype: int64"
            ]
          },
          "metadata": {
            "tags": []
          },
          "execution_count": 38
        }
      ]
    },
    {
      "cell_type": "code",
      "metadata": {
        "colab": {
          "base_uri": "https://localhost:8080/"
        },
        "id": "4SQRCd95f-0x",
        "outputId": "0d1ed5f4-44e5-436c-d48b-b7a094a36451"
      },
      "source": [
        "treino.isnull().sum()\n",
        "# será necessário aplicar algum método para substituir o valor nulo\n",
        "# A minha decisão foi pegar a média dos valores para não pegar um valor fora do real ou que viesse a impactar na análise. \n",
        "# Antes do tratamento"
      ],
      "execution_count": 39,
      "outputs": [
        {
          "output_type": "execute_result",
          "data": {
            "text/plain": [
              "ano                     0\n",
              "dia                     0\n",
              "data-hora               0\n",
              "minuto                  0\n",
              "velocidade-vento-25m    0\n",
              "direcao-vento-25m       0\n",
              "temperatura-25m         1\n",
              "velocidade-vento-50m    0\n",
              "direcao-vento-50m       1\n",
              "temperatura-50m         0\n",
              "dtype: int64"
            ]
          },
          "metadata": {
            "tags": []
          },
          "execution_count": 39
        }
      ]
    },
    {
      "cell_type": "code",
      "metadata": {
        "id": "HJVTZ2m2jvnk"
      },
      "source": [
        "media = treino['temperatura-25m'].mean()\n",
        "treino['temperatura-25m'] = treino['temperatura-25m'].fillna(media)"
      ],
      "execution_count": 40,
      "outputs": []
    },
    {
      "cell_type": "code",
      "metadata": {
        "id": "4XAL1aYoHkJK"
      },
      "source": [
        "media = treino['direcao-vento-50m'].mean()\n",
        "treino['direcao-vento-50m'] = treino['direcao-vento-50m'].fillna(media)"
      ],
      "execution_count": 41,
      "outputs": []
    },
    {
      "cell_type": "code",
      "metadata": {
        "colab": {
          "base_uri": "https://localhost:8080/"
        },
        "id": "Y9fkVgSlIriu",
        "outputId": "e0eb518a-972b-4173-a9d6-05ddb8545d8c"
      },
      "source": [
        "treino.isnull().sum()\n",
        "# Depois do tratamento"
      ],
      "execution_count": 42,
      "outputs": [
        {
          "output_type": "execute_result",
          "data": {
            "text/plain": [
              "ano                     0\n",
              "dia                     0\n",
              "data-hora               0\n",
              "minuto                  0\n",
              "velocidade-vento-25m    0\n",
              "direcao-vento-25m       0\n",
              "temperatura-25m         0\n",
              "velocidade-vento-50m    0\n",
              "direcao-vento-50m       0\n",
              "temperatura-50m         0\n",
              "dtype: int64"
            ]
          },
          "metadata": {
            "tags": []
          },
          "execution_count": 42
        }
      ]
    },
    {
      "cell_type": "markdown",
      "metadata": {
        "id": "bwJ9fVIXKcs_"
      },
      "source": [
        "### •\tConsidere as variáveis temporais: ano, dia, data-hora e minuto. Caso deseje, considere transformar as colunas para que elas sejam representadas por valores contínuos. Caso faça isto, disponibilize a função para o tratamento dos dados;"
      ]
    },
    {
      "cell_type": "markdown",
      "metadata": {
        "id": "GAh8qHM2lcJm"
      },
      "source": [
        "Não ficou claro o que vocês quiseram dizer com \"Considere as variáveis temporais: ano, dia, data-hora e minuto. Caso deseje, considere transformar as colunas para que elas sejam representadas por valores contínuos.\"\n",
        "\n",
        "- Explicado a falta de compreensão, irei fazer o que eu acho que está correto e espero que entendam"
      ]
    },
    {
      "cell_type": "code",
      "metadata": {
        "colab": {
          "base_uri": "https://localhost:8080/",
          "height": 203
        },
        "id": "k9CzBT2jKpkR",
        "outputId": "38c32ed2-5400-4473-c72d-97c29b4b61d9"
      },
      "source": [
        "treino.head()"
      ],
      "execution_count": 43,
      "outputs": [
        {
          "output_type": "execute_result",
          "data": {
            "text/html": [
              "<div>\n",
              "<style scoped>\n",
              "    .dataframe tbody tr th:only-of-type {\n",
              "        vertical-align: middle;\n",
              "    }\n",
              "\n",
              "    .dataframe tbody tr th {\n",
              "        vertical-align: top;\n",
              "    }\n",
              "\n",
              "    .dataframe thead th {\n",
              "        text-align: right;\n",
              "    }\n",
              "</style>\n",
              "<table border=\"1\" class=\"dataframe\">\n",
              "  <thead>\n",
              "    <tr style=\"text-align: right;\">\n",
              "      <th></th>\n",
              "      <th>ano</th>\n",
              "      <th>dia</th>\n",
              "      <th>data-hora</th>\n",
              "      <th>minuto</th>\n",
              "      <th>velocidade-vento-25m</th>\n",
              "      <th>direcao-vento-25m</th>\n",
              "      <th>temperatura-25m</th>\n",
              "      <th>velocidade-vento-50m</th>\n",
              "      <th>direcao-vento-50m</th>\n",
              "      <th>temperatura-50m</th>\n",
              "    </tr>\n",
              "  </thead>\n",
              "  <tbody>\n",
              "    <tr>\n",
              "      <th>0</th>\n",
              "      <td>2010</td>\n",
              "      <td>1</td>\n",
              "      <td>2010-1-1 00:00:00</td>\n",
              "      <td>0</td>\n",
              "      <td>0.881500</td>\n",
              "      <td>298.333333</td>\n",
              "      <td>24.868333</td>\n",
              "      <td>0.932500</td>\n",
              "      <td>318.233333</td>\n",
              "      <td>24.888333</td>\n",
              "    </tr>\n",
              "    <tr>\n",
              "      <th>1</th>\n",
              "      <td>2010</td>\n",
              "      <td>1</td>\n",
              "      <td>2010-1-1 01:00:00</td>\n",
              "      <td>60</td>\n",
              "      <td>1.366167</td>\n",
              "      <td>329.533333</td>\n",
              "      <td>24.826667</td>\n",
              "      <td>1.825333</td>\n",
              "      <td>321.100000</td>\n",
              "      <td>24.858333</td>\n",
              "    </tr>\n",
              "    <tr>\n",
              "      <th>2</th>\n",
              "      <td>2010</td>\n",
              "      <td>1</td>\n",
              "      <td>2010-1-1 02:00:00</td>\n",
              "      <td>120</td>\n",
              "      <td>1.118667</td>\n",
              "      <td>290.233333</td>\n",
              "      <td>24.648333</td>\n",
              "      <td>2.170333</td>\n",
              "      <td>276.033333</td>\n",
              "      <td>25.133333</td>\n",
              "    </tr>\n",
              "    <tr>\n",
              "      <th>3</th>\n",
              "      <td>2010</td>\n",
              "      <td>1</td>\n",
              "      <td>2010-1-1 03:00:00</td>\n",
              "      <td>180</td>\n",
              "      <td>0.618000</td>\n",
              "      <td>196.950000</td>\n",
              "      <td>23.916667</td>\n",
              "      <td>1.472500</td>\n",
              "      <td>218.800000</td>\n",
              "      <td>24.268333</td>\n",
              "    </tr>\n",
              "    <tr>\n",
              "      <th>4</th>\n",
              "      <td>2010</td>\n",
              "      <td>1</td>\n",
              "      <td>2010-1-1 04:00:00</td>\n",
              "      <td>240</td>\n",
              "      <td>1.517833</td>\n",
              "      <td>117.183333</td>\n",
              "      <td>23.740000</td>\n",
              "      <td>2.058333</td>\n",
              "      <td>130.333333</td>\n",
              "      <td>23.801667</td>\n",
              "    </tr>\n",
              "  </tbody>\n",
              "</table>\n",
              "</div>"
            ],
            "text/plain": [
              "    ano  dia  ... direcao-vento-50m  temperatura-50m\n",
              "0  2010    1  ...        318.233333        24.888333\n",
              "1  2010    1  ...        321.100000        24.858333\n",
              "2  2010    1  ...        276.033333        25.133333\n",
              "3  2010    1  ...        218.800000        24.268333\n",
              "4  2010    1  ...        130.333333        23.801667\n",
              "\n",
              "[5 rows x 10 columns]"
            ]
          },
          "metadata": {
            "tags": []
          },
          "execution_count": 43
        }
      ]
    },
    {
      "cell_type": "code",
      "metadata": {
        "id": "44BraGF-K-BA"
      },
      "source": [
        "treino['data-hora'] = pd.to_datetime(treino['data-hora'])\n",
        "teste['data-hora'] = pd.to_datetime(teste['data-hora'])"
      ],
      "execution_count": 44,
      "outputs": []
    },
    {
      "cell_type": "markdown",
      "metadata": {
        "id": "Z6oXOj2WsKCe"
      },
      "source": [
        "### •\timports ML libs\n",
        "\n"
      ]
    },
    {
      "cell_type": "code",
      "metadata": {
        "colab": {
          "base_uri": "https://localhost:8080/"
        },
        "id": "dSk8QSNIoUAl",
        "outputId": "814a55f9-325f-4edc-d3e8-4e1184bdcba3"
      },
      "source": [
        "# TensorFlow e tf.keras\n",
        "import tensorflow as tf\n",
        "from tensorflow import keras\n",
        "import keras\n",
        "from keras.models import Sequential\n",
        "from keras.layers import Activation\n",
        "from keras.layers.core import Dense, Dropout\n",
        "from keras.optimizers import Adam\n",
        "from keras.metrics import categorical_crossentropy\n",
        "from keras.utils.np_utils import to_categorical \n",
        "from sklearn.model_selection import KFold\n",
        "from sklearn.preprocessing import StandardScaler\n",
        "\n",
        "import pickle\n",
        "\n",
        "print(tf.__version__)"
      ],
      "execution_count": 62,
      "outputs": [
        {
          "output_type": "stream",
          "text": [
            "2.5.0\n"
          ],
          "name": "stdout"
        }
      ]
    },
    {
      "cell_type": "markdown",
      "metadata": {
        "id": "arFRyzJrS5Nq"
      },
      "source": [
        "### Matriz de correlação\n",
        "\n",
        "# <p style='font-size: 18px; line-height: 2; margin: 10px 50px; text-align: justify;'>O <b>coeficiente de correlação</b> é uma medida de associação linear entre duas variáveis e situa-se entre <b>-1</b> e <b>+1</b> sendo que <b>-1</b> indica associação negativa perfeita e <b>+1</b> indica associação positiva perfeita.</p>"
      ]
    },
    {
      "cell_type": "code",
      "metadata": {
        "id": "K3rv144wg7pJ"
      },
      "source": [
        "from sklearn.model_selection import train_test_split"
      ],
      "execution_count": 46,
      "outputs": []
    },
    {
      "cell_type": "code",
      "metadata": {
        "colab": {
          "base_uri": "https://localhost:8080/",
          "height": 326
        },
        "id": "9ZTZmQLuTBT-",
        "outputId": "a33efc59-2435-4754-f5b1-53953a435277"
      },
      "source": [
        "treino.corr().round(4)"
      ],
      "execution_count": 47,
      "outputs": [
        {
          "output_type": "execute_result",
          "data": {
            "text/html": [
              "<div>\n",
              "<style scoped>\n",
              "    .dataframe tbody tr th:only-of-type {\n",
              "        vertical-align: middle;\n",
              "    }\n",
              "\n",
              "    .dataframe tbody tr th {\n",
              "        vertical-align: top;\n",
              "    }\n",
              "\n",
              "    .dataframe thead th {\n",
              "        text-align: right;\n",
              "    }\n",
              "</style>\n",
              "<table border=\"1\" class=\"dataframe\">\n",
              "  <thead>\n",
              "    <tr style=\"text-align: right;\">\n",
              "      <th></th>\n",
              "      <th>ano</th>\n",
              "      <th>dia</th>\n",
              "      <th>minuto</th>\n",
              "      <th>velocidade-vento-25m</th>\n",
              "      <th>direcao-vento-25m</th>\n",
              "      <th>temperatura-25m</th>\n",
              "      <th>velocidade-vento-50m</th>\n",
              "      <th>direcao-vento-50m</th>\n",
              "      <th>temperatura-50m</th>\n",
              "    </tr>\n",
              "  </thead>\n",
              "  <tbody>\n",
              "    <tr>\n",
              "      <th>ano</th>\n",
              "      <td>NaN</td>\n",
              "      <td>NaN</td>\n",
              "      <td>NaN</td>\n",
              "      <td>NaN</td>\n",
              "      <td>NaN</td>\n",
              "      <td>NaN</td>\n",
              "      <td>NaN</td>\n",
              "      <td>NaN</td>\n",
              "      <td>NaN</td>\n",
              "    </tr>\n",
              "    <tr>\n",
              "      <th>dia</th>\n",
              "      <td>NaN</td>\n",
              "      <td>1.0000</td>\n",
              "      <td>-0.0024</td>\n",
              "      <td>0.3933</td>\n",
              "      <td>0.0552</td>\n",
              "      <td>-0.3167</td>\n",
              "      <td>0.4298</td>\n",
              "      <td>0.0619</td>\n",
              "      <td>-0.3333</td>\n",
              "    </tr>\n",
              "    <tr>\n",
              "      <th>minuto</th>\n",
              "      <td>NaN</td>\n",
              "      <td>-0.0024</td>\n",
              "      <td>1.0000</td>\n",
              "      <td>0.1438</td>\n",
              "      <td>0.0009</td>\n",
              "      <td>0.5541</td>\n",
              "      <td>0.0554</td>\n",
              "      <td>0.0069</td>\n",
              "      <td>0.5420</td>\n",
              "    </tr>\n",
              "    <tr>\n",
              "      <th>velocidade-vento-25m</th>\n",
              "      <td>NaN</td>\n",
              "      <td>0.3933</td>\n",
              "      <td>0.1438</td>\n",
              "      <td>1.0000</td>\n",
              "      <td>-0.1196</td>\n",
              "      <td>0.0681</td>\n",
              "      <td>0.9425</td>\n",
              "      <td>-0.0993</td>\n",
              "      <td>0.0258</td>\n",
              "    </tr>\n",
              "    <tr>\n",
              "      <th>direcao-vento-25m</th>\n",
              "      <td>NaN</td>\n",
              "      <td>0.0552</td>\n",
              "      <td>0.0009</td>\n",
              "      <td>-0.1196</td>\n",
              "      <td>1.0000</td>\n",
              "      <td>-0.1714</td>\n",
              "      <td>-0.0611</td>\n",
              "      <td>0.9685</td>\n",
              "      <td>-0.1627</td>\n",
              "    </tr>\n",
              "    <tr>\n",
              "      <th>temperatura-25m</th>\n",
              "      <td>NaN</td>\n",
              "      <td>-0.3167</td>\n",
              "      <td>0.5541</td>\n",
              "      <td>0.0681</td>\n",
              "      <td>-0.1714</td>\n",
              "      <td>1.0000</td>\n",
              "      <td>-0.0571</td>\n",
              "      <td>-0.1742</td>\n",
              "      <td>0.9958</td>\n",
              "    </tr>\n",
              "    <tr>\n",
              "      <th>velocidade-vento-50m</th>\n",
              "      <td>NaN</td>\n",
              "      <td>0.4298</td>\n",
              "      <td>0.0554</td>\n",
              "      <td>0.9425</td>\n",
              "      <td>-0.0611</td>\n",
              "      <td>-0.0571</td>\n",
              "      <td>1.0000</td>\n",
              "      <td>-0.0454</td>\n",
              "      <td>-0.0772</td>\n",
              "    </tr>\n",
              "    <tr>\n",
              "      <th>direcao-vento-50m</th>\n",
              "      <td>NaN</td>\n",
              "      <td>0.0619</td>\n",
              "      <td>0.0069</td>\n",
              "      <td>-0.0993</td>\n",
              "      <td>0.9685</td>\n",
              "      <td>-0.1742</td>\n",
              "      <td>-0.0454</td>\n",
              "      <td>1.0000</td>\n",
              "      <td>-0.1687</td>\n",
              "    </tr>\n",
              "    <tr>\n",
              "      <th>temperatura-50m</th>\n",
              "      <td>NaN</td>\n",
              "      <td>-0.3333</td>\n",
              "      <td>0.5420</td>\n",
              "      <td>0.0258</td>\n",
              "      <td>-0.1627</td>\n",
              "      <td>0.9958</td>\n",
              "      <td>-0.0772</td>\n",
              "      <td>-0.1687</td>\n",
              "      <td>1.0000</td>\n",
              "    </tr>\n",
              "  </tbody>\n",
              "</table>\n",
              "</div>"
            ],
            "text/plain": [
              "                      ano     dia  ...  direcao-vento-50m  temperatura-50m\n",
              "ano                   NaN     NaN  ...                NaN              NaN\n",
              "dia                   NaN  1.0000  ...             0.0619          -0.3333\n",
              "minuto                NaN -0.0024  ...             0.0069           0.5420\n",
              "velocidade-vento-25m  NaN  0.3933  ...            -0.0993           0.0258\n",
              "direcao-vento-25m     NaN  0.0552  ...             0.9685          -0.1627\n",
              "temperatura-25m       NaN -0.3167  ...            -0.1742           0.9958\n",
              "velocidade-vento-50m  NaN  0.4298  ...            -0.0454          -0.0772\n",
              "direcao-vento-50m     NaN  0.0619  ...             1.0000          -0.1687\n",
              "temperatura-50m       NaN -0.3333  ...            -0.1687           1.0000\n",
              "\n",
              "[9 rows x 9 columns]"
            ]
          },
          "metadata": {
            "tags": []
          },
          "execution_count": 47
        }
      ]
    },
    {
      "cell_type": "code",
      "metadata": {
        "colab": {
          "base_uri": "https://localhost:8080/",
          "height": 142
        },
        "id": "idiKDqYtcDPo",
        "outputId": "6d17bd1c-f830-44b0-d992-2c0e13ed47f0"
      },
      "source": [
        "treino.head(3)"
      ],
      "execution_count": 48,
      "outputs": [
        {
          "output_type": "execute_result",
          "data": {
            "text/html": [
              "<div>\n",
              "<style scoped>\n",
              "    .dataframe tbody tr th:only-of-type {\n",
              "        vertical-align: middle;\n",
              "    }\n",
              "\n",
              "    .dataframe tbody tr th {\n",
              "        vertical-align: top;\n",
              "    }\n",
              "\n",
              "    .dataframe thead th {\n",
              "        text-align: right;\n",
              "    }\n",
              "</style>\n",
              "<table border=\"1\" class=\"dataframe\">\n",
              "  <thead>\n",
              "    <tr style=\"text-align: right;\">\n",
              "      <th></th>\n",
              "      <th>ano</th>\n",
              "      <th>dia</th>\n",
              "      <th>data-hora</th>\n",
              "      <th>minuto</th>\n",
              "      <th>velocidade-vento-25m</th>\n",
              "      <th>direcao-vento-25m</th>\n",
              "      <th>temperatura-25m</th>\n",
              "      <th>velocidade-vento-50m</th>\n",
              "      <th>direcao-vento-50m</th>\n",
              "      <th>temperatura-50m</th>\n",
              "    </tr>\n",
              "  </thead>\n",
              "  <tbody>\n",
              "    <tr>\n",
              "      <th>0</th>\n",
              "      <td>2010</td>\n",
              "      <td>1</td>\n",
              "      <td>2010-01-01 00:00:00</td>\n",
              "      <td>0</td>\n",
              "      <td>0.881500</td>\n",
              "      <td>298.333333</td>\n",
              "      <td>24.868333</td>\n",
              "      <td>0.932500</td>\n",
              "      <td>318.233333</td>\n",
              "      <td>24.888333</td>\n",
              "    </tr>\n",
              "    <tr>\n",
              "      <th>1</th>\n",
              "      <td>2010</td>\n",
              "      <td>1</td>\n",
              "      <td>2010-01-01 01:00:00</td>\n",
              "      <td>60</td>\n",
              "      <td>1.366167</td>\n",
              "      <td>329.533333</td>\n",
              "      <td>24.826667</td>\n",
              "      <td>1.825333</td>\n",
              "      <td>321.100000</td>\n",
              "      <td>24.858333</td>\n",
              "    </tr>\n",
              "    <tr>\n",
              "      <th>2</th>\n",
              "      <td>2010</td>\n",
              "      <td>1</td>\n",
              "      <td>2010-01-01 02:00:00</td>\n",
              "      <td>120</td>\n",
              "      <td>1.118667</td>\n",
              "      <td>290.233333</td>\n",
              "      <td>24.648333</td>\n",
              "      <td>2.170333</td>\n",
              "      <td>276.033333</td>\n",
              "      <td>25.133333</td>\n",
              "    </tr>\n",
              "  </tbody>\n",
              "</table>\n",
              "</div>"
            ],
            "text/plain": [
              "    ano  dia  ... direcao-vento-50m  temperatura-50m\n",
              "0  2010    1  ...        318.233333        24.888333\n",
              "1  2010    1  ...        321.100000        24.858333\n",
              "2  2010    1  ...        276.033333        25.133333\n",
              "\n",
              "[3 rows x 10 columns]"
            ]
          },
          "metadata": {
            "tags": []
          },
          "execution_count": 48
        }
      ]
    },
    {
      "cell_type": "code",
      "metadata": {
        "colab": {
          "base_uri": "https://localhost:8080/",
          "height": 388
        },
        "id": "tDtgQbUgpw4T",
        "outputId": "212f1377-cac6-4ad0-9137-b0fca9ef701a"
      },
      "source": [
        "sns.heatmap(treino.corr(), annot=True)"
      ],
      "execution_count": 49,
      "outputs": [
        {
          "output_type": "execute_result",
          "data": {
            "text/plain": [
              "<matplotlib.axes._subplots.AxesSubplot at 0x7f45839bac10>"
            ]
          },
          "metadata": {
            "tags": []
          },
          "execution_count": 49
        },
        {
          "output_type": "display_data",
          "data": {
            "image/png": "[encoded data removed]",
            "text/plain": [
              "<Figure size 432x288 with 2 Axes>"
            ]
          },
          "metadata": {
            "tags": [],
            "needs_background": "light"
          }
        }
      ]
    },
    {
      "cell_type": "markdown",
      "metadata": {
        "id": "w9M8XPsWlx21"
      },
      "source": [
        "### Separando uma parte dos dados para validação com os dados de treino"
      ]
    },
    {
      "cell_type": "markdown",
      "metadata": {
        "id": "GmmSAwIpb63E"
      },
      "source": [
        "OBSERVAÇÕES"
      ]
    },
    {
      "cell_type": "code",
      "metadata": {
        "colab": {
          "base_uri": "https://localhost:8080/",
          "height": 388
        },
        "id": "8jq6mloZcLG5",
        "outputId": "81905565-2526-44ce-d93a-0845659d5be4"
      },
      "source": [
        "sns.heatmap(treino.corr(), annot=True)"
      ],
      "execution_count": 50,
      "outputs": [
        {
          "output_type": "execute_result",
          "data": {
            "text/plain": [
              "<matplotlib.axes._subplots.AxesSubplot at 0x7f457b863450>"
            ]
          },
          "metadata": {
            "tags": []
          },
          "execution_count": 50
        },
        {
          "output_type": "display_data",
          "data": {
            "image/png": "[encoded data removed]",
            "text/plain": [
              "<Figure size 432x288 with 2 Axes>"
            ]
          },
          "metadata": {
            "tags": [],
            "needs_background": "light"
          }
        }
      ]
    },
    {
      "cell_type": "markdown",
      "metadata": {
        "id": "7mqIMXmjb_-X"
      },
      "source": [
        "Analisando o gráfico de correlação acima, é possível concluir que apenas as seguintes variáveis tem relevância com o resultado da variável \"velocidade-vento-50m\":\n",
        "\n",
        "  - velocidade-vento-25m\n",
        "  - dia\n",
        "\n",
        "Fiquei de mãos atadas pois as outras informações não ajudam o Modelo de Machine Learning a entender os padrões e poder fazer as previsões. A maioria dos valores tem correlações negativas."
      ]
    },
    {
      "cell_type": "markdown",
      "metadata": {
        "id": "22Qcu_gPwoux"
      },
      "source": [
        "Para criar o modelo, tomei a decisão de deixar apenas os dados que possuem correlação de acordo com o gráfico acima."
      ]
    },
    {
      "cell_type": "code",
      "metadata": {
        "colab": {
          "base_uri": "https://localhost:8080/"
        },
        "id": "jBAvoOglvkQd",
        "outputId": "e3b97462-0e2d-4027-dbd9-66af064e8078"
      },
      "source": [
        "treino.columns"
      ],
      "execution_count": 51,
      "outputs": [
        {
          "output_type": "execute_result",
          "data": {
            "text/plain": [
              "Index(['ano', 'dia', 'data-hora', 'minuto', 'velocidade-vento-25m',\n",
              "       'direcao-vento-25m', 'temperatura-25m', 'velocidade-vento-50m',\n",
              "       'direcao-vento-50m', 'temperatura-50m'],\n",
              "      dtype='object')"
            ]
          },
          "metadata": {
            "tags": []
          },
          "execution_count": 51
        }
      ]
    },
    {
      "cell_type": "code",
      "metadata": {
        "id": "RwkorMehnn4Y"
      },
      "source": [
        "treino.sort_values(\"data-hora\", inplace=True)\n",
        "\n",
        "# Neste caso, removi as três ultimas horas pois não teriamos informações na tabela de Y_Train\n",
        "X = treino[['velocidade-vento-25m', 'dia']]\n",
        "X = X[:-3]\n",
        "\n",
        "# Utilizei uma lógica simples: por conta dos dados serem contínuos e salvo por hora, apenas ordenei por data e hora e iniciei o dataset apenas da terceira linha, ou seja, 3 horas a mais que o X_train\n",
        "y = treino[['velocidade-vento-50m']][3:].reset_index().drop(columns='index')\n"
      ],
      "execution_count": 52,
      "outputs": []
    },
    {
      "cell_type": "code",
      "metadata": {
        "id": "_B1rKUEwfDYK"
      },
      "source": [
        "# Separando uma parte dos dados para validação\n",
        "\n",
        "X_train, X_val, Y_train, Y_val = train_test_split(X, y, test_size = 0.2, random_state=False)"
      ],
      "execution_count": 53,
      "outputs": []
    },
    {
      "cell_type": "code",
      "metadata": {
        "id": "g4m_Z-X6ksjO"
      },
      "source": [
        "X_train = X_train.loc[X_train.index.sort_values()]\n",
        "X_val = X_val.loc[X_val.index.sort_values()]\n",
        "Y_train = Y_train.loc[Y_train.index.sort_values()]\n",
        "Y_train = Y_train.loc[Y_train.index.sort_values()]"
      ],
      "execution_count": 54,
      "outputs": []
    },
    {
      "cell_type": "code",
      "metadata": {
        "colab": {
          "base_uri": "https://localhost:8080/"
        },
        "id": "Bxnwrpf_fDWf",
        "outputId": "9484a938-a05b-4e6f-8031-8d73401650d8"
      },
      "source": [
        "X_train.shape,  X_val.shape, Y_train.shape, Y_val.shape"
      ],
      "execution_count": 55,
      "outputs": [
        {
          "output_type": "execute_result",
          "data": {
            "text/plain": [
              "((5322, 2), (1331, 2), (5322, 1), (1331, 1))"
            ]
          },
          "metadata": {
            "tags": []
          },
          "execution_count": 55
        }
      ]
    },
    {
      "cell_type": "markdown",
      "metadata": {
        "id": "l8Eyg31MmH2L"
      },
      "source": [
        "### Separando uma parte dos dados para validação com os dados de teste"
      ]
    },
    {
      "cell_type": "code",
      "metadata": {
        "id": "4NFfdY4NmHSl"
      },
      "source": [
        "teste.sort_values(\"data-hora\", inplace=True)\n",
        "\n",
        "X = teste[['velocidade-vento-25m', 'dia']]\n",
        "X_train_teste = X[:-3]\n",
        "\n",
        "Y_train_teste = teste[['velocidade-vento-50m']][3:].reset_index().drop(columns='index')"
      ],
      "execution_count": 56,
      "outputs": []
    },
    {
      "cell_type": "code",
      "metadata": {
        "id": "pDMWCpkTmHY1"
      },
      "source": [
        "random_seed = 0\n",
        "X_train_test, X_val_test, Y_train_test, Y_val_test = train_test_split(X_train, Y_train, test_size = 0.1, random_state=random_seed)"
      ],
      "execution_count": 57,
      "outputs": []
    },
    {
      "cell_type": "markdown",
      "metadata": {
        "id": "b9BoDMrKn9Y5"
      },
      "source": [
        "### Escalonando os dados de entrada"
      ]
    },
    {
      "cell_type": "code",
      "metadata": {
        "id": "qOs-5rJ4mHXG"
      },
      "source": [
        "from sklearn.preprocessing import MinMaxScaler\n",
        "\n",
        "# define o scaler \n",
        "scaler = MinMaxScaler(feature_range=(0,1)) \n",
        "\n",
        "\n",
        "# fit nos dados de treino , trás todos os dados para um intervalo entre (0 e 1)\n",
        "scaler.fit(X_train) \n",
        "\n",
        "\n",
        "# scaler - transformação nos dados de treino \n",
        "X_train = scaler.transform(X_train)\n",
        "\n",
        "\n",
        "# scaler - transformação nos dados de validação \n",
        "X_val = scaler.transform(X_val)\n"
      ],
      "execution_count": 58,
      "outputs": []
    },
    {
      "cell_type": "code",
      "metadata": {
        "id": "7k3txEgveHVA"
      },
      "source": [
        "def intro():\n",
        "  print(\"Você precisa passar os dados de Treino e de valicação para escalona-los.\")\n",
        "\n",
        "def escalonador_cf(X_train, X_val):\n",
        "\n",
        "  from sklearn.preprocessing import MinMaxScaler\n",
        "  scaler = MinMaxScaler(feature_range=(0,1)) \n",
        "  scaler.fit(X_train) \n",
        "  X_train = scaler.transform(X_train)\n",
        "  X_val = scaler.transform(X_val)\n",
        "\n",
        "  return X_train, X_val"
      ],
      "execution_count": 59,
      "outputs": []
    },
    {
      "cell_type": "markdown",
      "metadata": {
        "id": "EnZ8BJswDuJs"
      },
      "source": [
        "### Salvando o escalonador"
      ]
    },
    {
      "cell_type": "code",
      "metadata": {
        "id": "dwyWSW0kmHhm"
      },
      "source": [
        "#Salvando o escalonador\n",
        "\n",
        "import pickle\n",
        "\n",
        "output = open('modelo_final.pkl', 'wb')\n",
        "pickle.dump(escalonador_cf, output)\n",
        "pickle.dump(Y_train, output)\n",
        "pickle.dump(Y_train_test, output)\n",
        "output.close()"
      ],
      "execution_count": 60,
      "outputs": []
    },
    {
      "cell_type": "markdown",
      "metadata": {
        "id": "QhZ00bJUoM_h"
      },
      "source": [
        "# ETAPA 3 "
      ]
    },
    {
      "cell_type": "markdown",
      "metadata": {
        "id": "SenYAjSu6Nfj"
      },
      "source": [
        "### •\tDesenvolvendo um modelo que aprenda a predizer a velocidade-vento-50m das 3 próximas horas a partir dos dados de treinamento\n"
      ]
    },
    {
      "cell_type": "markdown",
      "metadata": {
        "id": "RIJZubIXiwNV"
      },
      "source": [
        "A lógica correta para executar o procedimento de aprendizado, necessita utilizar um pacote  chamado \"LSTM\", entretanto, por falta da prática, acabei me deparando com mais dificuldades para realizar os tratamentos."
      ]
    },
    {
      "cell_type": "code",
      "metadata": {
        "id": "HKzAma9U_BJ9"
      },
      "source": [
        "model = Sequential()\n",
        "model.compile(loss='MeanSquaredError', optimizer='adam', metrics=['mse'])\n",
        "\n",
        "model.add(Dense(2, input_dim=2, kernel_initializer='normal', activation='relu'))\n",
        "model.add(Dropout(0.3))\n",
        "model.add(Dense(1, kernel_initializer='normal'))\n",
        "model.add(Dropout(0.3))"
      ],
      "execution_count": 63,
      "outputs": []
    },
    {
      "cell_type": "code",
      "metadata": {
        "colab": {
          "base_uri": "https://localhost:8080/"
        },
        "id": "LjHCYoHP4Hk0",
        "outputId": "01276835-b739-4300-afa7-9955fb8e1de0"
      },
      "source": [
        "model.fit(X_train, Y_train, epochs=50, verbose=2)"
      ],
      "execution_count": 64,
      "outputs": [
        {
          "output_type": "stream",
          "text": [
            "Epoch 1/50\n",
            "167/167 - 13s - loss: 26.7282 - mse: 26.7282\n",
            "Epoch 2/50\n",
            "167/167 - 0s - loss: 23.1358 - mse: 23.1358\n",
            "Epoch 3/50\n",
            "167/167 - 0s - loss: 18.7360 - mse: 18.7360\n",
            "Epoch 4/50\n",
            "167/167 - 0s - loss: 15.1723 - mse: 15.1723\n",
            "Epoch 5/50\n",
            "167/167 - 0s - loss: 13.6333 - mse: 13.6333\n",
            "Epoch 6/50\n",
            "167/167 - 0s - loss: 13.3536 - mse: 13.3536\n",
            "Epoch 7/50\n",
            "167/167 - 0s - loss: 12.9883 - mse: 12.9883\n",
            "Epoch 8/50\n",
            "167/167 - 0s - loss: 12.9342 - mse: 12.9342\n",
            "Epoch 9/50\n",
            "167/167 - 0s - loss: 12.7618 - mse: 12.7618\n",
            "Epoch 10/50\n",
            "167/167 - 0s - loss: 12.4813 - mse: 12.4813\n",
            "Epoch 11/50\n",
            "167/167 - 0s - loss: 12.3644 - mse: 12.3644\n",
            "Epoch 12/50\n",
            "167/167 - 0s - loss: 11.9154 - mse: 11.9154\n",
            "Epoch 13/50\n",
            "167/167 - 0s - loss: 12.2947 - mse: 12.2947\n",
            "Epoch 14/50\n",
            "167/167 - 0s - loss: 12.0767 - mse: 12.0767\n",
            "Epoch 15/50\n",
            "167/167 - 0s - loss: 11.8511 - mse: 11.8511\n",
            "Epoch 16/50\n",
            "167/167 - 0s - loss: 11.7957 - mse: 11.7957\n",
            "Epoch 17/50\n",
            "167/167 - 0s - loss: 11.5118 - mse: 11.5118\n",
            "Epoch 18/50\n",
            "167/167 - 0s - loss: 11.0778 - mse: 11.0778\n",
            "Epoch 19/50\n",
            "167/167 - 0s - loss: 11.0711 - mse: 11.0711\n",
            "Epoch 20/50\n",
            "167/167 - 0s - loss: 11.2271 - mse: 11.2271\n",
            "Epoch 21/50\n",
            "167/167 - 0s - loss: 10.7933 - mse: 10.7933\n",
            "Epoch 22/50\n",
            "167/167 - 0s - loss: 10.6524 - mse: 10.6524\n",
            "Epoch 23/50\n",
            "167/167 - 0s - loss: 10.9992 - mse: 10.9992\n",
            "Epoch 24/50\n",
            "167/167 - 0s - loss: 10.7894 - mse: 10.7894\n",
            "Epoch 25/50\n",
            "167/167 - 0s - loss: 10.4044 - mse: 10.4044\n",
            "Epoch 26/50\n",
            "167/167 - 0s - loss: 10.6102 - mse: 10.6102\n",
            "Epoch 27/50\n",
            "167/167 - 0s - loss: 10.2573 - mse: 10.2573\n",
            "Epoch 28/50\n",
            "167/167 - 0s - loss: 10.2884 - mse: 10.2884\n",
            "Epoch 29/50\n",
            "167/167 - 0s - loss: 10.7276 - mse: 10.7276\n",
            "Epoch 30/50\n",
            "167/167 - 0s - loss: 10.3462 - mse: 10.3462\n",
            "Epoch 31/50\n",
            "167/167 - 0s - loss: 10.0706 - mse: 10.0706\n",
            "Epoch 32/50\n",
            "167/167 - 0s - loss: 10.4973 - mse: 10.4973\n",
            "Epoch 33/50\n",
            "167/167 - 0s - loss: 10.1481 - mse: 10.1481\n",
            "Epoch 34/50\n",
            "167/167 - 0s - loss: 9.6889 - mse: 9.6889\n",
            "Epoch 35/50\n",
            "167/167 - 0s - loss: 10.1674 - mse: 10.1674\n",
            "Epoch 36/50\n",
            "167/167 - 0s - loss: 9.9239 - mse: 9.9239\n",
            "Epoch 37/50\n",
            "167/167 - 0s - loss: 9.8331 - mse: 9.8331\n",
            "Epoch 38/50\n",
            "167/167 - 0s - loss: 9.6841 - mse: 9.6841\n",
            "Epoch 39/50\n",
            "167/167 - 0s - loss: 10.1107 - mse: 10.1107\n",
            "Epoch 40/50\n",
            "167/167 - 0s - loss: 10.0607 - mse: 10.0607\n",
            "Epoch 41/50\n",
            "167/167 - 0s - loss: 10.2002 - mse: 10.2002\n",
            "Epoch 42/50\n",
            "167/167 - 0s - loss: 9.8914 - mse: 9.8914\n",
            "Epoch 43/50\n",
            "167/167 - 0s - loss: 9.7950 - mse: 9.7950\n",
            "Epoch 44/50\n",
            "167/167 - 0s - loss: 10.0226 - mse: 10.0226\n",
            "Epoch 45/50\n",
            "167/167 - 0s - loss: 9.5642 - mse: 9.5642\n",
            "Epoch 46/50\n",
            "167/167 - 0s - loss: 10.2959 - mse: 10.2959\n",
            "Epoch 47/50\n",
            "167/167 - 0s - loss: 10.0894 - mse: 10.0894\n",
            "Epoch 48/50\n",
            "167/167 - 0s - loss: 9.5621 - mse: 9.5621\n",
            "Epoch 49/50\n",
            "167/167 - 0s - loss: 9.6330 - mse: 9.6330\n",
            "Epoch 50/50\n",
            "167/167 - 0s - loss: 10.0286 - mse: 10.0286\n"
          ],
          "name": "stdout"
        },
        {
          "output_type": "execute_result",
          "data": {
            "text/plain": [
              "<keras.callbacks.History at 0x7f457756aad0>"
            ]
          },
          "metadata": {
            "tags": []
          },
          "execution_count": 64
        }
      ]
    },
    {
      "cell_type": "markdown",
      "metadata": {
        "id": "6sMtE_X76VRw"
      },
      "source": [
        "### •\tApresentando o gráfico de loss de treinamento e validação do modelo"
      ]
    },
    {
      "cell_type": "code",
      "metadata": {
        "colab": {
          "base_uri": "https://localhost:8080/"
        },
        "id": "9xMetJ6FgVLP",
        "outputId": "9700c4bc-4c68-4488-f61e-97a26b76c925"
      },
      "source": [
        "score = model.evaluate(X_train, Y_train, verbose=0)\n",
        "\n",
        "print('mse:', score[1])\n",
        "print('loss:', score[0])"
      ],
      "execution_count": 65,
      "outputs": [
        {
          "output_type": "stream",
          "text": [
            "mse: 4.403641223907471\n",
            "loss: 4.403641223907471\n"
          ],
          "name": "stdout"
        }
      ]
    },
    {
      "cell_type": "code",
      "metadata": {
        "id": "ttNytS4aHj1g",
        "colab": {
          "base_uri": "https://localhost:8080/"
        },
        "outputId": "819ecc7f-435a-4f90-8dec-5bc63bddbfa8"
      },
      "source": [
        "score = model.evaluate(X_val, Y_val, verbose=0)\n",
        "\n",
        "print('mse:', score[1])\n",
        "print('loss:', score[0])"
      ],
      "execution_count": 66,
      "outputs": [
        {
          "output_type": "stream",
          "text": [
            "mse: 4.906256198883057\n",
            "loss: 4.906256198883057\n"
          ],
          "name": "stdout"
        }
      ]
    },
    {
      "cell_type": "code",
      "metadata": {
        "id": "6tw3BtBU2jU_"
      },
      "source": [
        "y_pred = model.predict(X_val)"
      ],
      "execution_count": 67,
      "outputs": []
    },
    {
      "cell_type": "code",
      "metadata": {
        "colab": {
          "base_uri": "https://localhost:8080/"
        },
        "id": "JEBpVbRLQ88I",
        "outputId": "5f343534-e5a1-40be-b216-28472cb3b726"
      },
      "source": [
        "# Previsões pontuais\n",
        "y_pred[0], y_pred[1]"
      ],
      "execution_count": 68,
      "outputs": [
        {
          "output_type": "execute_result",
          "data": {
            "text/plain": [
              "(array([3.196843], dtype=float32), array([3.196843], dtype=float32))"
            ]
          },
          "metadata": {
            "tags": []
          },
          "execution_count": 68
        }
      ]
    },
    {
      "cell_type": "markdown",
      "metadata": {
        "id": "24weomUAB8qG"
      },
      "source": [
        "### •\tApresente o gráfico de loss de treinamento e validação do modelo. Mostre que o modelo não apresenta over/underfitting;"
      ]
    },
    {
      "cell_type": "markdown",
      "metadata": {
        "id": "Hnvxs63aCia6"
      },
      "source": [
        "Infelizmente não consegui criar um modelo com bons resultados para esses dados. Fiquei com bastante dúvidas referentes a execução, creio que falta alguns ajustes com os argumentos na criação do modelo "
      ]
    },
    {
      "cell_type": "markdown",
      "metadata": {
        "id": "G0B-camTCxPG"
      },
      "source": [
        "### •\tAvalie quantitativamente o desempenho final do modelo desenvolvido a partir dos dados de teste, utilizando as métricas Mean Squared Error (MSE), Mean Absolute Error (MAE), coeficiente de correlação Pearson r e o coeficiente de determinação R²;"
      ]
    },
    {
      "cell_type": "code",
      "metadata": {
        "id": "mxrwOCDqEcS1"
      },
      "source": [
        "scaler = MinMaxScaler(feature_range=(0,1)) \n",
        "\n",
        "scaler.fit(X_train) \n",
        "#escalonando dados de teste\n",
        "X_train_test = scaler.transform(X_train_test)\n",
        "X_val_test = scaler.transform(X_val_test)"
      ],
      "execution_count": 71,
      "outputs": []
    },
    {
      "cell_type": "markdown",
      "metadata": {
        "id": "RtLHB4ykD2cP"
      },
      "source": [
        "MSE"
      ]
    },
    {
      "cell_type": "code",
      "metadata": {
        "colab": {
          "base_uri": "https://localhost:8080/"
        },
        "id": "l4OZaigLC3rf",
        "outputId": "7d853f7d-fe3b-4436-d443-07fd2d0ca367"
      },
      "source": [
        "model = Sequential()\n",
        "model.compile(loss='MeanSquaredError', optimizer='adam', metrics=['mse'])\n",
        "\n",
        "model.add(Dense(2, input_dim=2, kernel_initializer='normal', activation='relu'))\n",
        "model.add(Dense(1, kernel_initializer='normal'))\n",
        "\n",
        "model.fit(X_train_test, Y_train_test, validation_data = (X_val_test, Y_val_test), epochs=50, verbose=1)"
      ],
      "execution_count": 72,
      "outputs": [
        {
          "output_type": "stream",
          "text": [
            "Epoch 1/50\n",
            "150/150 [==============================] - 1s 2ms/step - loss: 21.7154 - mse: 21.7154 - val_loss: 5.3592 - val_mse: 5.3592\n",
            "Epoch 2/50\n",
            "150/150 [==============================] - 0s 1ms/step - loss: 5.3767 - mse: 5.3767 - val_loss: 5.1759 - val_mse: 5.1759\n",
            "Epoch 3/50\n",
            "150/150 [==============================] - 0s 1ms/step - loss: 5.2213 - mse: 5.2213 - val_loss: 4.9636 - val_mse: 4.9636\n",
            "Epoch 4/50\n",
            "150/150 [==============================] - 0s 1ms/step - loss: 5.0674 - mse: 5.0674 - val_loss: 4.7303 - val_mse: 4.7303\n",
            "Epoch 5/50\n",
            "150/150 [==============================] - 0s 1ms/step - loss: 4.7205 - mse: 4.7205 - val_loss: 4.4872 - val_mse: 4.4872\n",
            "Epoch 6/50\n",
            "150/150 [==============================] - 0s 1ms/step - loss: 4.5015 - mse: 4.5015 - val_loss: 4.2164 - val_mse: 4.2164\n",
            "Epoch 7/50\n",
            "150/150 [==============================] - 0s 1ms/step - loss: 4.2030 - mse: 4.2030 - val_loss: 3.9342 - val_mse: 3.9342\n",
            "Epoch 8/50\n",
            "150/150 [==============================] - 0s 1ms/step - loss: 3.9856 - mse: 3.9856 - val_loss: 3.6272 - val_mse: 3.6272\n",
            "Epoch 9/50\n",
            "150/150 [==============================] - 0s 1ms/step - loss: 3.6984 - mse: 3.6984 - val_loss: 3.3093 - val_mse: 3.3093\n",
            "Epoch 10/50\n",
            "150/150 [==============================] - 0s 1ms/step - loss: 3.1105 - mse: 3.1105 - val_loss: 2.9858 - val_mse: 2.9858\n",
            "Epoch 11/50\n",
            "150/150 [==============================] - 0s 1ms/step - loss: 2.8146 - mse: 2.8146 - val_loss: 2.6033 - val_mse: 2.6033\n",
            "Epoch 12/50\n",
            "150/150 [==============================] - 0s 1ms/step - loss: 2.5956 - mse: 2.5956 - val_loss: 2.2925 - val_mse: 2.2925\n",
            "Epoch 13/50\n",
            "150/150 [==============================] - 0s 1ms/step - loss: 2.4200 - mse: 2.4200 - val_loss: 2.0634 - val_mse: 2.0634\n",
            "Epoch 14/50\n",
            "150/150 [==============================] - 0s 1ms/step - loss: 2.0934 - mse: 2.0934 - val_loss: 1.8697 - val_mse: 1.8697\n",
            "Epoch 15/50\n",
            "150/150 [==============================] - 0s 1ms/step - loss: 1.8945 - mse: 1.8945 - val_loss: 1.7743 - val_mse: 1.7743\n",
            "Epoch 16/50\n",
            "150/150 [==============================] - 0s 1ms/step - loss: 1.7776 - mse: 1.7776 - val_loss: 1.7030 - val_mse: 1.7030\n",
            "Epoch 17/50\n",
            "150/150 [==============================] - 0s 1ms/step - loss: 1.7361 - mse: 1.7361 - val_loss: 1.6897 - val_mse: 1.6897\n",
            "Epoch 18/50\n",
            "150/150 [==============================] - 0s 1ms/step - loss: 1.7455 - mse: 1.7455 - val_loss: 1.6601 - val_mse: 1.6601\n",
            "Epoch 19/50\n",
            "150/150 [==============================] - 0s 1ms/step - loss: 1.6993 - mse: 1.6993 - val_loss: 1.6889 - val_mse: 1.6889\n",
            "Epoch 20/50\n",
            "150/150 [==============================] - 0s 1ms/step - loss: 1.7182 - mse: 1.7182 - val_loss: 1.6664 - val_mse: 1.6664\n",
            "Epoch 21/50\n",
            "150/150 [==============================] - 0s 1ms/step - loss: 1.7861 - mse: 1.7861 - val_loss: 1.6490 - val_mse: 1.6490\n",
            "Epoch 22/50\n",
            "150/150 [==============================] - 0s 1ms/step - loss: 1.6287 - mse: 1.6287 - val_loss: 1.6599 - val_mse: 1.6599\n",
            "Epoch 23/50\n",
            "150/150 [==============================] - 0s 1ms/step - loss: 1.7331 - mse: 1.7331 - val_loss: 1.6442 - val_mse: 1.6442\n",
            "Epoch 24/50\n",
            "150/150 [==============================] - 0s 1ms/step - loss: 1.6354 - mse: 1.6354 - val_loss: 1.6732 - val_mse: 1.6732\n",
            "Epoch 25/50\n",
            "150/150 [==============================] - 0s 1ms/step - loss: 1.6723 - mse: 1.6723 - val_loss: 1.6429 - val_mse: 1.6429\n",
            "Epoch 26/50\n",
            "150/150 [==============================] - 0s 1ms/step - loss: 1.6943 - mse: 1.6943 - val_loss: 1.6595 - val_mse: 1.6595\n",
            "Epoch 27/50\n",
            "150/150 [==============================] - 0s 1ms/step - loss: 1.7026 - mse: 1.7026 - val_loss: 1.6398 - val_mse: 1.6398\n",
            "Epoch 28/50\n",
            "150/150 [==============================] - 0s 1ms/step - loss: 1.6674 - mse: 1.6674 - val_loss: 1.6386 - val_mse: 1.6386\n",
            "Epoch 29/50\n",
            "150/150 [==============================] - 0s 1ms/step - loss: 1.6706 - mse: 1.6706 - val_loss: 1.6587 - val_mse: 1.6587\n",
            "Epoch 30/50\n",
            "150/150 [==============================] - 0s 1ms/step - loss: 1.6731 - mse: 1.6731 - val_loss: 1.6462 - val_mse: 1.6462\n",
            "Epoch 31/50\n",
            "150/150 [==============================] - 0s 1ms/step - loss: 1.6752 - mse: 1.6752 - val_loss: 1.6387 - val_mse: 1.6387\n",
            "Epoch 32/50\n",
            "150/150 [==============================] - 0s 1ms/step - loss: 1.7368 - mse: 1.7368 - val_loss: 1.6353 - val_mse: 1.6353\n",
            "Epoch 33/50\n",
            "150/150 [==============================] - 0s 1ms/step - loss: 1.7066 - mse: 1.7066 - val_loss: 1.6375 - val_mse: 1.6375\n",
            "Epoch 34/50\n",
            "150/150 [==============================] - 0s 1ms/step - loss: 1.6987 - mse: 1.6987 - val_loss: 1.6390 - val_mse: 1.6390\n",
            "Epoch 35/50\n",
            "150/150 [==============================] - 0s 1ms/step - loss: 1.6825 - mse: 1.6825 - val_loss: 1.6366 - val_mse: 1.6366\n",
            "Epoch 36/50\n",
            "150/150 [==============================] - 0s 1ms/step - loss: 1.6699 - mse: 1.6699 - val_loss: 1.6371 - val_mse: 1.6371\n",
            "Epoch 37/50\n",
            "150/150 [==============================] - 0s 1ms/step - loss: 1.6923 - mse: 1.6923 - val_loss: 1.6375 - val_mse: 1.6375\n",
            "Epoch 38/50\n",
            "150/150 [==============================] - 0s 1ms/step - loss: 1.7295 - mse: 1.7295 - val_loss: 1.6329 - val_mse: 1.6329\n",
            "Epoch 39/50\n",
            "150/150 [==============================] - 0s 1ms/step - loss: 1.7537 - mse: 1.7537 - val_loss: 1.6374 - val_mse: 1.6374\n",
            "Epoch 40/50\n",
            "150/150 [==============================] - 0s 1ms/step - loss: 1.7215 - mse: 1.7215 - val_loss: 1.6315 - val_mse: 1.6315\n",
            "Epoch 41/50\n",
            "150/150 [==============================] - 0s 1ms/step - loss: 1.6195 - mse: 1.6195 - val_loss: 1.6321 - val_mse: 1.6321\n",
            "Epoch 42/50\n",
            "150/150 [==============================] - 0s 1ms/step - loss: 1.6871 - mse: 1.6871 - val_loss: 1.6403 - val_mse: 1.6403\n",
            "Epoch 43/50\n",
            "150/150 [==============================] - 0s 1ms/step - loss: 1.6985 - mse: 1.6985 - val_loss: 1.6356 - val_mse: 1.6356\n",
            "Epoch 44/50\n",
            "150/150 [==============================] - 0s 1ms/step - loss: 1.6954 - mse: 1.6954 - val_loss: 1.6370 - val_mse: 1.6370\n",
            "Epoch 45/50\n",
            "150/150 [==============================] - 0s 1ms/step - loss: 1.6848 - mse: 1.6848 - val_loss: 1.6466 - val_mse: 1.6466\n",
            "Epoch 46/50\n",
            "150/150 [==============================] - 0s 1ms/step - loss: 1.7033 - mse: 1.7033 - val_loss: 1.6341 - val_mse: 1.6341\n",
            "Epoch 47/50\n",
            "150/150 [==============================] - 0s 1ms/step - loss: 1.6406 - mse: 1.6406 - val_loss: 1.6312 - val_mse: 1.6312\n",
            "Epoch 48/50\n",
            "150/150 [==============================] - 0s 1ms/step - loss: 1.6967 - mse: 1.6967 - val_loss: 1.6344 - val_mse: 1.6344\n",
            "Epoch 49/50\n",
            "150/150 [==============================] - 0s 1ms/step - loss: 1.7638 - mse: 1.7638 - val_loss: 1.6301 - val_mse: 1.6301\n",
            "Epoch 50/50\n",
            "150/150 [==============================] - 0s 1ms/step - loss: 1.6395 - mse: 1.6395 - val_loss: 1.6401 - val_mse: 1.6401\n"
          ],
          "name": "stdout"
        },
        {
          "output_type": "execute_result",
          "data": {
            "text/plain": [
              "<keras.callbacks.History at 0x7f4576a18d10>"
            ]
          },
          "metadata": {
            "tags": []
          },
          "execution_count": 72
        }
      ]
    },
    {
      "cell_type": "code",
      "metadata": {
        "colab": {
          "base_uri": "https://localhost:8080/"
        },
        "id": "vZ4x_NZsF7vY",
        "outputId": "c8d80886-30ea-45df-daa8-d9a3fe7c44d3"
      },
      "source": [
        "#Métricas para o valor de treino\n",
        "model.evaluate(X_train_test,Y_train_test )"
      ],
      "execution_count": 73,
      "outputs": [
        {
          "output_type": "stream",
          "text": [
            "150/150 [==============================] - 0s 854us/step - loss: 1.7081 - mse: 1.7081\n"
          ],
          "name": "stdout"
        },
        {
          "output_type": "execute_result",
          "data": {
            "text/plain": [
              "[1.7080551385879517, 1.7080551385879517]"
            ]
          },
          "metadata": {
            "tags": []
          },
          "execution_count": 73
        }
      ]
    },
    {
      "cell_type": "code",
      "metadata": {
        "colab": {
          "base_uri": "https://localhost:8080/"
        },
        "id": "iQQjzRM4Fh90",
        "outputId": "98641c3b-86f3-4f4d-8366-195841a2fe67"
      },
      "source": [
        "#Métricas para o valor de teste\n",
        "\n",
        "model.evaluate(X_val_test,Y_val_test )"
      ],
      "execution_count": 74,
      "outputs": [
        {
          "output_type": "stream",
          "text": [
            "17/17 [==============================] - 0s 1ms/step - loss: 1.6401 - mse: 1.6401\n"
          ],
          "name": "stdout"
        },
        {
          "output_type": "execute_result",
          "data": {
            "text/plain": [
              "[1.6401416063308716, 1.6401416063308716]"
            ]
          },
          "metadata": {
            "tags": []
          },
          "execution_count": 74
        }
      ]
    },
    {
      "cell_type": "markdown",
      "metadata": {
        "id": "rtchUy0lGNtx"
      },
      "source": [
        "MAE"
      ]
    },
    {
      "cell_type": "code",
      "metadata": {
        "id": "arnZDvjmGO6G"
      },
      "source": [
        "model = Sequential()\n",
        "model.compile(optimizer='rmsprop', loss='mse', metrics=['mae'])\n",
        "\n",
        "model.add(Dense(2, input_dim=2, kernel_initializer='normal', activation='relu'))\n",
        "model.add(Dense(1, kernel_initializer='normal'))\n",
        "\n",
        "model.fit(X_train_test, Y_train_test, validation_data = (X_val_test, Y_val_test), epochs=50, verbose=1)"
      ],
      "execution_count": null,
      "outputs": []
    },
    {
      "cell_type": "code",
      "metadata": {
        "colab": {
          "base_uri": "https://localhost:8080/"
        },
        "id": "ynyEtxZdGahy",
        "outputId": "1c302436-5a0b-4f37-f09c-7be0ada2c90c"
      },
      "source": [
        "model.evaluate(X_train_test,Y_train_test )"
      ],
      "execution_count": 76,
      "outputs": [
        {
          "output_type": "stream",
          "text": [
            "150/150 [==============================] - 0s 866us/step - loss: 2.6415 - mae: 1.2968\n"
          ],
          "name": "stdout"
        },
        {
          "output_type": "execute_result",
          "data": {
            "text/plain": [
              "[2.641540050506592, 1.2967809438705444]"
            ]
          },
          "metadata": {
            "tags": []
          },
          "execution_count": 76
        }
      ]
    },
    {
      "cell_type": "code",
      "metadata": {
        "colab": {
          "base_uri": "https://localhost:8080/"
        },
        "id": "MrkMZMmMGeoU",
        "outputId": "cc48b27d-1554-4041-ef4c-ebee99ca7245"
      },
      "source": [
        "model.evaluate(X_val_test,Y_val_test )"
      ],
      "execution_count": 77,
      "outputs": [
        {
          "output_type": "stream",
          "text": [
            "17/17 [==============================] - 0s 1ms/step - loss: 2.6129 - mae: 1.2571\n"
          ],
          "name": "stdout"
        },
        {
          "output_type": "execute_result",
          "data": {
            "text/plain": [
              "[2.6129467487335205, 1.2570720911026]"
            ]
          },
          "metadata": {
            "tags": []
          },
          "execution_count": 77
        }
      ]
    },
    {
      "cell_type": "code",
      "metadata": {
        "id": "xktUjvGDlLeP"
      },
      "source": [
        ""
      ],
      "execution_count": 82,
      "outputs": []
    },
    {
      "cell_type": "code",
      "metadata": {
        "id": "rZdnGs1Gi9PE"
      },
      "source": [
        "model.save('modelo.h5') \n",
        "\n",
        "#ou\n",
        "\n",
        "#model.save('modelo') "
      ],
      "execution_count": null,
      "outputs": []
    },
    {
      "cell_type": "code",
      "metadata": {
        "id": "GslKogFikGgG"
      },
      "source": [
        ""
      ],
      "execution_count": null,
      "outputs": []
    }
  ]
}